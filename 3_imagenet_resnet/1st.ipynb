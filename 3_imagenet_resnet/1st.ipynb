{
 "cells": [
  {
   "cell_type": "code",
   "execution_count": 1,
   "metadata": {},
   "outputs": [],
   "source": [
    "import numpy as np\n",
    "import matplotlib.pyplot as plt\n",
    "from utils import load_imagenet, one_hot\n",
    "import torch\n",
    "import torch.nn as nn\n",
    "import torch.nn.functional as F\n",
    "from tqdm import tqdm, trange\n",
    "from sklearn.metrics import accuracy_score\n",
    "from resnet import ResNet\n",
    "import time\n",
    "\n",
    "GPU = torch.device('cuda:0')\n",
    "CPU = torch.device('cpu')"
   ]
  },
  {
   "cell_type": "code",
   "execution_count": 2,
   "metadata": {},
   "outputs": [
    {
     "name": "stderr",
     "output_type": "stream",
     "text": [
      "100%|██████████| 1/1 [00:00<00:00,  3.09it/s]\n"
     ]
    },
    {
     "name": "stdout",
     "output_type": "stream",
     "text": [
      "train data loaded\n",
      "val data loaded\n",
      "train data converted to tensors\n"
     ]
    }
   ],
   "source": [
    "(x, y), (x_val, y_val) = load_imagenet(1)  # 5 parts of 10 parts\n",
    "m = len(x)\n",
    "# Show a sample image\n",
    "# a = x_train.reshape(-1, 3, 64, 64).transpose(0, 2, 3, 1)\n",
    "# plt.imshow(a[0])"
   ]
  },
  {
   "cell_type": "code",
   "execution_count": 6,
   "metadata": {},
   "outputs": [],
   "source": [
    "model = ResNet()\n",
    "model.to(GPU)\n",
    "optimiser = torch.optim.Adam(model.parameters(), lr=1.2e-3)\n",
    "losses = []\n",
    "\n",
    "hparams = {\n",
    "    \"batch_size\": 128,\n",
    "    \"num_epochs\": 100,\n",
    "    \"model\": \"resnet\",\n",
    "    \"dataset\": \"imagenet\",\n",
    "    \"optimizer\": \"adam\",\n",
    "    \"learning_rate\": 1.2e-3,  # 1.2e-5, 1.2e-7 can be tried\n",
    "}"
   ]
  },
  {
   "cell_type": "code",
   "execution_count": 7,
   "metadata": {},
   "outputs": [
    {
     "name": "stderr",
     "output_type": "stream",
     "text": [
      "Epoch 1/2: 100%|██████████| 1001/1001 [00:29<00:00, 33.43it/s]\n",
      "Epoch 2/2: 100%|██████████| 1001/1001 [00:30<00:00, 33.15it/s]\n"
     ]
    }
   ],
   "source": [
    "batch_size = hparams[\"batch_size\"]\n",
    "num_epochs = hparams[\"num_epochs\"]\n",
    "\n",
    "ttra, tacc = 0, 0\n",
    "\n",
    "for epoch in range(num_epochs):\n",
    "\n",
    "    pbar = tqdm(total=m//batch_size+1, desc=f\"Epoch {epoch+1}/{num_epochs}\")\n",
    "    \n",
    "    t0 = time.time()\n",
    "\n",
    "    for i in range(0, len(x), batch_size):\n",
    "        batch_x, batch_y = x[i:i+batch_size].to(GPU), y[i:i+batch_size].to(GPU)\n",
    "        optimiser.zero_grad()\n",
    "        output = model(batch_x)\n",
    "        loss = F.mse_loss(output, batch_y)\n",
    "        loss.backward()\n",
    "        optimiser.step()\n",
    "        pbar.update(1)\n",
    "\n",
    "    t1 = time.time()\n",
    "\n",
    "    train_accuracy = accuracy_score(y[:5000].argmax(1),     model(x[:5000].to(GPU)).to(CPU).argmax(1))\n",
    "    test_accuracy  = accuracy_score(y_val[:5000].argmax(1), model(x_val[:5000].to(GPU)).to(CPU).argmax(1))\n",
    "\n",
    "    t2 = time.time()\n",
    "\n",
    "    ttra += t1-t0\n",
    "    tacc += t2-t1\n",
    "\n",
    "    losses.append(loss.item())\n",
    "    torch.save(model, \"resnet_imagenet.pth\")\n",
    "    pbar.close()"
   ]
  },
  {
   "cell_type": "code",
   "execution_count": 8,
   "metadata": {},
   "outputs": [
    {
     "data": {
      "text/plain": [
       "(58.75614333152771, 1.3812932968139648)"
      ]
     },
     "execution_count": 8,
     "metadata": {},
     "output_type": "execute_result"
    }
   ],
   "source": [
    "ttra, tacc"
   ]
  },
  {
   "cell_type": "code",
   "execution_count": null,
   "metadata": {},
   "outputs": [],
   "source": [
    "plt.plot(np.arange(len(losses)), losses)"
   ]
  },
  {
   "cell_type": "code",
   "execution_count": null,
   "metadata": {},
   "outputs": [],
   "source": [
    "# torch.save(model, \"resnet_imagenet.pth\")"
   ]
  },
  {
   "cell_type": "code",
   "execution_count": null,
   "metadata": {},
   "outputs": [],
   "source": [
    "model = torch.load(\"resnet_imagenet.pth\")"
   ]
  },
  {
   "cell_type": "code",
   "execution_count": null,
   "metadata": {},
   "outputs": [],
   "source": [
    "model = model.to(CPU)"
   ]
  },
  {
   "cell_type": "code",
   "execution_count": null,
   "metadata": {},
   "outputs": [],
   "source": [
    "y_pred = model(x[:1000])\n",
    "y_pred_val = model(x_val[:1000])\n",
    "\n",
    "train_accuracy = accuracy_score(y[:1000].argmax(1), y_pred.argmax(1))\n",
    "test_accuracy = accuracy_score(y_val[:1000].argmax(1), y_pred_val.argmax(1))"
   ]
  },
  {
   "cell_type": "code",
   "execution_count": null,
   "metadata": {},
   "outputs": [],
   "source": [
    "print(f\"Train accuracy: {train_accuracy*100}\")\n",
    "print(f\"Test accuracy: {test_accuracy*100}\")"
   ]
  },
  {
   "cell_type": "code",
   "execution_count": null,
   "metadata": {},
   "outputs": [],
   "source": []
  }
 ],
 "metadata": {
  "kernelspec": {
   "display_name": "Python 3 (ipykernel)",
   "language": "python",
   "name": "python3"
  },
  "language_info": {
   "codemirror_mode": {
    "name": "ipython",
    "version": 3
   },
   "file_extension": ".py",
   "mimetype": "text/x-python",
   "name": "python",
   "nbconvert_exporter": "python",
   "pygments_lexer": "ipython3",
   "version": "3.10.6"
  }
 },
 "nbformat": 4,
 "nbformat_minor": 2
}
