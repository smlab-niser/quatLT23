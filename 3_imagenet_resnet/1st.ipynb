{
 "cells": [
  {
   "cell_type": "code",
   "execution_count": 1,
   "metadata": {},
   "outputs": [],
   "source": [
    "import numpy as np\n",
    "import matplotlib.pyplot as plt\n",
    "from utils import load_imagenet64, one_hot, make4D\n",
    "import torch\n",
    "import torch.nn as nn\n",
    "import torch.nn.functional as F\n",
    "from tqdm import tqdm, trange\n",
    "from sklearn.metrics import accuracy_score\n",
    "import time\n",
    "import torchvision\n",
    "from resnet import ResNet152\n",
    "\n",
    "GPU = torch.device('cuda:0')\n",
    "CPU = torch.device('cpu')"
   ]
  },
  {
   "cell_type": "code",
   "execution_count": 6,
   "metadata": {},
   "outputs": [
    {
     "ename": "OSError",
     "evalue": "[Errno 5] Input/output error: '/mnt/data/datasets/ILSVRC/train_npy'",
     "output_type": "error",
     "traceback": [
      "\u001b[0;31m---------------------------------------------------------------------------\u001b[0m",
      "\u001b[0;31mOSError\u001b[0m                                   Traceback (most recent call last)",
      "Cell \u001b[0;32mIn[6], line 3\u001b[0m\n\u001b[1;32m      1\u001b[0m \u001b[39mimport\u001b[39;00m \u001b[39mos\u001b[39;00m\n\u001b[0;32m----> 3\u001b[0m os\u001b[39m.\u001b[39;49mlistdir(\u001b[39m\"\u001b[39;49m\u001b[39m/mnt/data/datasets/ILSVRC/train_npy\u001b[39;49m\u001b[39m\"\u001b[39;49m)\n",
      "\u001b[0;31mOSError\u001b[0m: [Errno 5] Input/output error: '/mnt/data/datasets/ILSVRC/train_npy'"
     ]
    }
   ],
   "source": [
    "import os\n",
    "\n",
    "os.listdir(\"/mnt/data/datasets/ILSVRC/train_npy\")"
   ]
  },
  {
   "cell_type": "code",
   "execution_count": null,
   "metadata": {},
   "outputs": [],
   "source": [
    "import json\n",
    "with open(\"labels.json\") as f:\n",
    "\tlabels = json.load(f)"
   ]
  },
  {
   "cell_type": "code",
   "execution_count": null,
   "metadata": {},
   "outputs": [],
   "source": [
    "(x, y), (x_val, y_val) = load_imagenet(2)  # 5 parts of 10 parts\n",
    "m = len(x)"
   ]
  },
  {
   "cell_type": "code",
   "execution_count": null,
   "metadata": {},
   "outputs": [],
   "source": [
    "y[0].numpy().argmax()\n",
    "# y[0].argmax(1)"
   ]
  },
  {
   "cell_type": "code",
   "execution_count": null,
   "metadata": {},
   "outputs": [],
   "source": [
    "# a[0].shape"
   ]
  },
  {
   "cell_type": "code",
   "execution_count": null,
   "metadata": {},
   "outputs": [],
   "source": [
    "# Show a sample image\n",
    "a = x.numpy().transpose(0, 2, 3, 1)/255\n",
    "print(labels[f\"{y[0].numpy().argmax()}\"])\n",
    "plt.imshow(a[0])"
   ]
  },
  {
   "cell_type": "code",
   "execution_count": null,
   "metadata": {},
   "outputs": [],
   "source": [
    "x.shape, y.shape, x_val.shape, y_val.shape"
   ]
  },
  {
   "cell_type": "code",
   "execution_count": null,
   "metadata": {},
   "outputs": [],
   "source": [
    "hparams = {\n",
    "    \"batch_size\": 256,\n",
    "    \"num_epochs\": 40,\n",
    "    \"model\": \"resnet\",\n",
    "    \"dataset\": \"imagenet\",\n",
    "    \"optimizer\": \"sgd\",\n",
    "    \"learning_rate\": 0.1,  # 1.2e-5, 1.2e-7 can be tried\n",
    "}\n",
    "\n",
    "# model = torchvision.models.resnet152()\n",
    "model = ResNet152()\n",
    "\n",
    "model.to(GPU)\n",
    "optimiser = torch.optim.SGD(model.parameters(), lr=hparams[\"learning_rate\"])\n",
    "loss_fn = nn.CrossEntropyLoss()\n",
    "losses = []"
   ]
  },
  {
   "cell_type": "code",
   "execution_count": null,
   "metadata": {},
   "outputs": [],
   "source": [
    "batch_size = hparams[\"batch_size\"]\n",
    "num_epochs = hparams[\"num_epochs\"]\n",
    "\n",
    "ttra, tacc = 0, 0\n",
    "\n",
    "for epoch in range(num_epochs):\n",
    "\n",
    "    pbar = tqdm(total=m//batch_size+1, desc=f\"Epoch {epoch+1}/{num_epochs}\")\n",
    "    \n",
    "    t0 = time.time()\n",
    "\n",
    "    for i in range(0, len(x), batch_size):\n",
    "        batch_x, batch_y = x[i:i+batch_size].to(GPU), y[i:i+batch_size].to(GPU)\n",
    "        optimiser.zero_grad()\n",
    "        output = model(batch_x)\n",
    "        loss = loss_fn(output, batch_y.argmax(1))\n",
    "        loss.backward()\n",
    "        optimiser.step()\n",
    "        pbar.update(1)\n",
    "\n",
    "    t1 = time.time()\n",
    "\n",
    "    train_accuracy = accuracy_score(y[:5000].argmax(1),     model(x[:5000].to(GPU)).to(CPU).argmax(1))\n",
    "    test_accuracy  = accuracy_score(y_val[:5000].argmax(1), model(x_val[:5000].to(GPU)).to(CPU).argmax(1))\n",
    "\n",
    "    t2 = time.time()\n",
    "\n",
    "    ttra += t1-t0\n",
    "    tacc += t2-t1\n",
    "\n",
    "    losses.append(loss.item())\n",
    "    torch.save(model, \"resnet_imagenet.pth\")\n",
    "    pbar.close()"
   ]
  },
  {
   "cell_type": "code",
   "execution_count": null,
   "metadata": {},
   "outputs": [],
   "source": [
    "ttra, tacc"
   ]
  },
  {
   "cell_type": "code",
   "execution_count": null,
   "metadata": {},
   "outputs": [],
   "source": [
    "plt.plot(np.arange(len(losses)), losses)"
   ]
  },
  {
   "cell_type": "code",
   "execution_count": null,
   "metadata": {},
   "outputs": [],
   "source": [
    "# torch.save(model, \"resnet_imagenet.pth\")"
   ]
  },
  {
   "cell_type": "code",
   "execution_count": null,
   "metadata": {},
   "outputs": [],
   "source": [
    "model = torch.load(\"resnet_imagenet.pth\")"
   ]
  },
  {
   "cell_type": "code",
   "execution_count": null,
   "metadata": {},
   "outputs": [],
   "source": [
    "model = model.to(CPU)"
   ]
  },
  {
   "cell_type": "code",
   "execution_count": null,
   "metadata": {},
   "outputs": [],
   "source": [
    "y_pred = model(x[:1000])\n",
    "y_pred_val = model(x_val[:1000])\n",
    "\n",
    "train_accuracy = accuracy_score(y[:1000].argmax(1), y_pred.argmax(1))\n",
    "test_accuracy = accuracy_score(y_val[:1000].argmax(1), y_pred_val.argmax(1))"
   ]
  },
  {
   "cell_type": "code",
   "execution_count": null,
   "metadata": {},
   "outputs": [],
   "source": [
    "print(f\"Train accuracy: {train_accuracy*100}\")\n",
    "print(f\"Test accuracy: {test_accuracy*100}\")"
   ]
  },
  {
   "cell_type": "code",
   "execution_count": null,
   "metadata": {},
   "outputs": [],
   "source": [
    "from utils import load_imagenet\n",
    "import torch\n",
    "from tqdm import trange\n",
    "from sklearn.metrics import accuracy_score\n",
    "import matplotlib.pyplot as plt\n",
    "import time\n",
    "\n",
    "hparams = {\n",
    "    \"batch_size\": 5000,\n",
    "    \"num_epochs\": 40,\n",
    "    \"model\": \"resnet152 from torchvision.models\",\n",
    "    \"dataset\": \"imagenet\",\n",
    "    \"optimizer\": \"sgd\",\n",
    "    \"learning_rate\": 0.1,\n",
    "    \"gpu\": 0,\n",
    "}\n",
    "\n",
    "GPU = torch.device(f\"cuda:{hparams['gpu']}\")\n",
    "CPU = torch.device('cpu')\n",
    "\n",
    "model = torch.load(\"/home/aritra/project/quartLT23/3_imagenet_resnet/B=256_E=40_O=sgd.pth\").to(GPU)\n",
    "\n",
    "\n",
    "print(\"Loading data...\")\n",
    "(x, y), (x_val, y_val) = load_imagenet(1)\n",
    "m = len(x)\n",
    "\n",
    "times = []\n",
    "batch_sizes = []\n",
    "for batch_size in trange(550, 700, 5):\n",
    "    try:\n",
    "        n = m // batch_size + 1\n",
    "        t0 = time.time()\n",
    "        for i in range(5):\n",
    "            batch_x = x[:batch_size].to(GPU)\n",
    "            batch_y = y[:batch_size]\n",
    "            accuracy_score(batch_y.argmax(1), model(batch_x.to(GPU)).to(CPU).argmax(1))\n",
    "        times.append((time.time() - t0) * n/3)\n",
    "        batch_sizes.append(batch_size)\n",
    "    except:\n",
    "        break\n",
    "\n",
    "\n",
    "plt.plot(batch_sizes, times)\n",
    "plt.xlabel(\"Batch size\")\n",
    "plt.ylabel(\"Time (s)\")"
   ]
  },
  {
   "cell_type": "code",
   "execution_count": null,
   "metadata": {},
   "outputs": [],
   "source": [
    "import numpy as np\n",
    "from utils import load_imagenet\n",
    "import torch\n",
    "from tqdm import trange\n",
    "from sklearn.metrics import accuracy_score\n",
    "\n",
    "hparams = {\n",
    "    \"batch_size\": 630,\n",
    "    \"num_epochs\": 40,\n",
    "    \"model\": \"resnet152 from torchvision.models\",\n",
    "    \"dataset\": \"imagenet\",\n",
    "    \"optimizer\": \"sgd\",\n",
    "    \"learning_rate\": 0.1,\n",
    "    \"gpu\": 1,\n",
    "}\n",
    "\n",
    "GPU = torch.device(f\"cuda:{hparams['gpu']}\")\n",
    "CPU = torch.device('cpu')\n",
    "\n",
    "model = torch.load(\"/home/aritra/project/quartLT23/3_imagenet_resnet/B=256_E=40_O=sgd.pth\").to(GPU)\n",
    "\n",
    "\n",
    "print(\"Loading data...\")\n",
    "(x, y), (x_val, y_val) = load_imagenet()\n",
    "m = len(x)\n",
    "\n",
    "batch_size = hparams[\"batch_size\"]\n",
    "\n",
    "train_accuracy, test_accuracy = [], []"
   ]
  },
  {
   "cell_type": "code",
   "execution_count": null,
   "metadata": {},
   "outputs": [],
   "source": [
    "for i in trange(0, len(x), batch_size):\n",
    "    batch_x, batch_y = x[i:i+batch_size].to(GPU), y[i:i+batch_size]\n",
    "    train_accuracy.append(accuracy_score(batch_y.argmax(1), model(batch_x).to(CPU).argmax(1)))\n",
    "print(f\"Train accuracy: {np.mean(train_accuracy)*100}%\")"
   ]
  },
  {
   "cell_type": "code",
   "execution_count": null,
   "metadata": {},
   "outputs": [],
   "source": [
    "for i in trange(0, len(x), batch_size):\n",
    "    batch_x_val, batch_y_val = x_val[i:i+batch_size].to(GPU), y_val[i:i+batch_size]\n",
    "    test_accuracy.append(accuracy_score(batch_y_val.argmax(1), model(batch_x_val).to(CPU).argmax(1)))\n",
    "print(f\"Test accuracy: {np.mean(test_accuracy)*100}%\")"
   ]
  },
  {
   "cell_type": "code",
   "execution_count": null,
   "metadata": {},
   "outputs": [],
   "source": [
    "(x, y), (x_val, y_val) = load_imagenet(1)"
   ]
  },
  {
   "cell_type": "code",
   "execution_count": null,
   "metadata": {},
   "outputs": [],
   "source": [
    "x = x[:5000]"
   ]
  },
  {
   "cell_type": "code",
   "execution_count": null,
   "metadata": {},
   "outputs": [],
   "source": [
    "plt.imshow(x[2].permute(1, 2, 0))"
   ]
  },
  {
   "cell_type": "code",
   "execution_count": null,
   "metadata": {},
   "outputs": [],
   "source": [
    "x_ = make4D(x)"
   ]
  },
  {
   "cell_type": "code",
   "execution_count": null,
   "metadata": {},
   "outputs": [],
   "source": [
    "x[0][:-1].shape"
   ]
  },
  {
   "cell_type": "code",
   "execution_count": null,
   "metadata": {},
   "outputs": [],
   "source": [
    "plt.imshow(x_[2][:-1].permute(1, 2, 0), cmap=\"gray\")"
   ]
  }
 ],
 "metadata": {
  "kernelspec": {
   "display_name": "Python 3 (ipykernel)",
   "language": "python",
   "name": "python3"
  },
  "language_info": {
   "codemirror_mode": {
    "name": "ipython",
    "version": 3
   },
   "file_extension": ".py",
   "mimetype": "text/x-python",
   "name": "python",
   "nbconvert_exporter": "python",
   "pygments_lexer": "ipython3",
   "version": "3.10.6"
  }
 },
 "nbformat": 4,
 "nbformat_minor": 2
}
