{
 "cells": [
  {
   "cell_type": "code",
   "execution_count": 3,
   "metadata": {},
   "outputs": [],
   "source": [
    "import numpy as np\n",
    "import pandas as pd\n",
    "from tqdm import tqdm\n",
    "import matplotlib.pyplot as plt"
   ]
  },
  {
   "cell_type": "code",
   "execution_count": 33,
   "metadata": {},
   "outputs": [],
   "source": [
    "alpha = 0.01\n",
    "\n",
    "def one_hot_encode(Y):\n",
    "    Y = Y.flatten()\n",
    "    one_hot_Y = np.zeros((Y.size, Y.max() + 1))\n",
    "    one_hot_Y[np.arange(Y.size), Y] = 1\n",
    "    return one_hot_Y\n",
    "\n",
    "def softmax(Z, axis=0):\n",
    "    exp = np.exp(Z)\n",
    "    A = exp / np.sum(exp)\n",
    "    print(np.sum(exp, axis=axis))\n",
    "    return A"
   ]
  },
  {
   "cell_type": "code",
   "execution_count": 4,
   "metadata": {},
   "outputs": [],
   "source": [
    "data = pd.read_csv(\"mnist_train.csv\", header=None).to_numpy()\n",
    "x, y = data[:, 1:], one_hot_encode(data[:, 0:1])  # x.shape, y.shape = (60000, 784) (60000, 10)\n",
    "# plt.imshow(x[0].reshape(28, 28), cmap=\"gray\")\n",
    "# test  = pd.read_csv(\"mnist_test.csv\", header=None).to_numpy()"
   ]
  },
  {
   "cell_type": "code",
   "execution_count": null,
   "metadata": {},
   "outputs": [],
   "source": [
    "class Layer:\n",
    "    def __init__(self, input, output, act_f=\"relu\") -> None:\n",
    "        self.input = input\n",
    "        self.output = output\n",
    "        self.w = np.random.rand(output, input)\n",
    "        self.b = np.random.rand(output)\n",
    "        # self.activation= act_f\n",
    "        self.activation = self.relu if act_f == \"relu\" else self.softmax\n",
    "        self.activation_ = self.relu_ if act_f == \"relu\" else self.softmax_\n",
    "        self.alpha = alpha\n",
    "        \n",
    "    def relu(self, x):\n",
    "        return np.maximum(x, 0)\n",
    "    def relu_(self, x):\n",
    "        return (x > 0) * 1\n",
    "\n",
    "    def softmax(self, Z):\n",
    "        A = np.exp(Z) / sum(np.exp(Z))\n",
    "        return A\n",
    "    def softmax_(self, Z):\n",
    "        pass\n",
    "\n",
    "    def forward(self, x):\n",
    "        self.x = x\n",
    "        self.z = x @ self.w.T + self.b\n",
    "        self.a = self.activation(self.z)\n",
    "        return self.a\n",
    "    \n",
    "    def backward(self, y):  # y.shape = (60000, 10)  Y is one hot encoded\n",
    "        da = self.a - y\n",
    "        dz = da * (self.z > 0)\n",
    "        self.dw = self.x.T @ dz\n",
    "        self.db = np.mean(dz, axis=0)\n",
    "        self.dx = dz @ self.w.T\n",
    "        self.update()\n",
    "        return self.dx\n",
    "    \n",
    "    def update(self):\n",
    "        self.w -= self.alpha * self.dw\n",
    "        self.b -= self.alpha * self.db\n",
    "\n",
    "# def forward_propagation(x, w, b):\n",
    "    # a nural network with 2 hidden layers each layer containing 16 neurons\n",
    "    # input layer contains 28*28 = 784 neurons\n",
    "    # output layer contains 10 neurons"
   ]
  },
  {
   "cell_type": "code",
   "execution_count": 35,
   "metadata": {},
   "outputs": [
    {
     "name": "stdout",
     "output_type": "stream",
     "text": [
      "[[0.436   0.02592 0.55   ]\n",
      " [0.4353  0.4204  0.3303 ]]\n",
      "[3.094 2.549 3.125]\n"
     ]
    },
    {
     "data": {
      "text/plain": [
       "array([[0.1765 , 0.11707, 0.1978 ],\n",
       "       [0.1764 , 0.1737 , 0.1588 ]], dtype=float16)"
      ]
     },
     "execution_count": 35,
     "metadata": {},
     "output_type": "execute_result"
    }
   ],
   "source": [
    "np.random.seed(2)\n",
    "a = np.random.rand(2, 3).astype(np.float16)\n",
    "print(a)\n",
    "softmax(a)"
   ]
  }
 ],
 "metadata": {
  "kernelspec": {
   "display_name": "Python 3",
   "language": "python",
   "name": "python3"
  },
  "language_info": {
   "codemirror_mode": {
    "name": "ipython",
    "version": 3
   },
   "file_extension": ".py",
   "mimetype": "text/x-python",
   "name": "python",
   "nbconvert_exporter": "python",
   "pygments_lexer": "ipython3",
   "version": "3.9.13"
  },
  "orig_nbformat": 4,
  "vscode": {
   "interpreter": {
    "hash": "95b59b4b0e72d3e94105c3ab4f1a1e6e746e4c2a7c235241251baf92fb36381f"
   }
  }
 },
 "nbformat": 4,
 "nbformat_minor": 2
}
