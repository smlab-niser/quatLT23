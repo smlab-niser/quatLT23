{
 "cells": [
  {
   "cell_type": "code",
   "execution_count": null,
   "metadata": {},
   "outputs": [],
   "source": [
    "import torch\n",
    "import torch.nn as nn\n",
    "import torch.nn.functional as F\n",
    "\n",
    "import pandas as pd\n",
    "import numpy as np\n",
    "import matplotlib.pyplot as plt\n",
    "from tqdm import tqdm\n",
    "from sklearn.metrics import accuracy_score\n",
    "from new_models.conv_2 import Real4, Real3, Quat, std_hparams\n",
    "\n",
    "std_hparams = std_hparams()\n",
    "\n",
    "batch_size = std_hparams['training']['batch_size']\n",
    "num_epochs = std_hparams['training']['num_epochs']\n",
    "learning_rate = std_hparams['training']['learning_rate']"
   ]
  },
  {
   "cell_type": "code",
   "execution_count": null,
   "metadata": {},
   "outputs": [],
   "source": [
    "device = torch.device('cpu')\n",
    "\n",
    "dataset = \"cifar10\"\n",
    "data = pd.read_csv(f\"../data/{dataset}/train.csv\", header=None).to_numpy()\n",
    "x, y = (data[:, 1:]/255).reshape(-1, 3, 32, 32).transpose((0, 3, 2, 1)), torch.nn.functional.one_hot(torch.Tensor(data[:, 0]).long(), 10).to(device)\n",
    "\n",
    "# test = pd.read_csv(f\"../data/{dataset}/test.csv\", header=None).to_numpy()\n",
    "# x_test, y_test = (test[:, 1:]/255).reshape(-1, 3, 32, 32).transpose((0, 3, 2, 1)), torch.nn.functional.one_hot(torch.Tensor(test[:, 0]).long(), 10).to(device)\n",
    "\n",
    "mat = np.array(\n",
    "    [\n",
    "        [1, 0, 0, 0.299],\n",
    "        [0, 1, 0, 0.587],\n",
    "        [0, 0, 1, 0.144]\n",
    "    ]\n",
    ")  # RGB to RGB+Grayscale conversion matrix\n",
    "\n",
    "x_4 = torch.Tensor(np.dot(x, mat).transpose((0, 3, 1, 2))).float().to(device)\n",
    "# x_test_4 = torch.Tensor(np.dot(x_test, mat).transpose((0, 3, 1, 2))).float().to(device)\n",
    "\n",
    "x_3 = torch.Tensor(x.transpose(0, 3, 1, 2)).float().to(device)\n",
    "# x_test_3 = torch.Tensor(x_test.transpose(0, 3, 1, 2)).float().to(device)\n",
    "del x"
   ]
  },
  {
   "cell_type": "code",
   "execution_count": null,
   "metadata": {},
   "outputs": [],
   "source": [
    "def train(model, optimiser, x, y, num_epochs=num_epochs, batch_size=batch_size):\n",
    "    accuracies = []\n",
    "    losses = []\n",
    "\n",
    "    for epoch in tqdm(range(num_epochs)):\n",
    "        for i in range(0, len(x), batch_size):\n",
    "            batch_x, batch_y = x[i:i+batch_size], y[i:i+batch_size].float()\n",
    "            optimiser.zero_grad()\n",
    "            output = model(batch_x)\n",
    "            loss = F.mse_loss(output, batch_y)\n",
    "            loss.backward()\n",
    "            optimiser.step()\n",
    "\n",
    "        y_pred = torch.cat([model(c).detach().cpu() for c in torch.chunk(x, 4)])\n",
    "        accuracies.append(accuracy_score(y.cpu().argmax(1), y_pred.argmax(1))*100)\n",
    "        \n",
    "        losses.append(loss.item())\n",
    "        \n",
    "    return accuracies, losses"
   ]
  },
  {
   "cell_type": "code",
   "execution_count": 5,
   "metadata": {},
   "outputs": [
    {
     "name": "stderr",
     "output_type": "stream",
     "text": [
      "  0%|          | 0/5 [08:39<?, ?it/s]\n"
     ]
    }
   ],
   "source": [
    "model = Real3()\n",
    "model.to(device)\n",
    "optimiser = torch.optim.Adam(model.parameters(), lr=learning_rate)\n",
    "accuracy_real3, loss_real3 = train(model, optimiser, x_3, y, 5, 2**12)"
   ]
  },
  {
   "cell_type": "code",
   "execution_count": null,
   "metadata": {},
   "outputs": [],
   "source": [
    "model = Real4()\n",
    "model.to(device)\n",
    "optimiser = torch.optim.Adam(model.parameters(), lr=learning_rate)\n",
    "accuracy_real4, loss_real4 = train(model, optimiser, x_4, y, 5, 2**12)"
   ]
  },
  {
   "cell_type": "code",
   "execution_count": null,
   "metadata": {},
   "outputs": [],
   "source": [
    "model = Quat()\n",
    "model.to(device)\n",
    "optimiser = torch.optim.Adam(model.parameters(), lr=learning_rate)\n",
    "accuracy_quat, loss_quat = train(model, optimiser, x_4, y, 5, 2**12)"
   ]
  },
  {
   "cell_type": "code",
   "execution_count": null,
   "metadata": {},
   "outputs": [],
   "source": [
    "plt.plot(np.arange(len(loss_real3)), loss_real3, label='Real3 Loss')\n",
    "plt.plot(np.arange(len(loss_real4)), loss_real4, label='Real4 Loss')\n",
    "plt.plot(np.arange(len(loss_quat)),  loss_quat,  label='Quaternion Loss')\n",
    "plt.legend()"
   ]
  },
  {
   "cell_type": "code",
   "execution_count": null,
   "metadata": {},
   "outputs": [],
   "source": [
    "plt.plot(np.arange(len(accuracy_real3)), accuracy_real3, label='Real3 Accuracy')\n",
    "plt.plot(np.arange(len(accuracy_real4)), accuracy_real4, label='Real4 Accuracy')\n",
    "plt.plot(np.arange(len(accuracy_quat)),  accuracy_quat,  label='Quaternion Accuracy')\n",
    "plt.legend()"
   ]
  }
 ],
 "metadata": {
  "kernelspec": {
   "display_name": "venv",
   "language": "python",
   "name": "python3"
  },
  "language_info": {
   "codemirror_mode": {
    "name": "ipython",
    "version": 3
   },
   "file_extension": ".py",
   "mimetype": "text/x-python",
   "name": "python",
   "nbconvert_exporter": "python",
   "pygments_lexer": "ipython3",
   "version": "3.9.13"
  },
  "orig_nbformat": 4
 },
 "nbformat": 4,
 "nbformat_minor": 2
}
