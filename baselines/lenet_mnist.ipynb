{
 "cells": [
  {
   "cell_type": "code",
   "execution_count": 3,
   "metadata": {},
   "outputs": [],
   "source": [
    "import torch\n",
    "import torch.nn as nn\n",
    "import torch.nn.functional as F\n",
    "\n",
    "from models.lenet_300_100 import Real, Quat, std_hparams\n",
    "import pandas as pd\n",
    "import numpy as np4\n",
    "import matplotlib.pyplot as plt\n",
    "from tqdm import tqdm\n",
    "from sklearn.metrics import accuracy_score"
   ]
  },
  {
   "cell_type": "code",
   "execution_count": null,
   "metadata": {},
   "outputs": [],
   "source": [
    "batch_size = std_hparams['training']['batch_size']\n",
    "num_epochs = std_hparams['training']['num_epochs']\n",
    "learning_rate = std_hparams['training']['learning_rate']"
   ]
  },
  {
   "cell_type": "code",
   "execution_count": 4,
   "metadata": {},
   "outputs": [],
   "source": [
    "device = torch.device('cuda:0')\n",
    "\n",
    "data = torch.tensor(pd.read_csv(\"../data/mnist/train.csv\", header=None).values)\n",
    "x, y = (data[:, 1:]/255).float().to(device), torch.nn.functional.one_hot(data[:, 0].long(), 10).to(device)\n",
    "\n",
    "test = torch.tensor(pd.read_csv(\"../data/mnist/test.csv\", header=None).values)\n",
    "x_test, y_test = (test[:, 1:]/255).float().to(device), torch.nn.functional.one_hot(test[:, 0].long(), 10).to(device)"
   ]
  },
  {
   "cell_type": "code",
   "execution_count": null,
   "metadata": {},
   "outputs": [],
   "source": [
    "model = Real()\n",
    "model.to(device)\n",
    "optimiser = torch.optim.Adam(model.parameters(), lr=learning_rate)\n",
    "losses = []"
   ]
  },
  {
   "cell_type": "code",
   "execution_count": null,
   "metadata": {},
   "outputs": [],
   "source": [
    "for epoch in tqdm(range(1000)):\n",
    "    batch_size = 2**13\n",
    "    for i in range(0, len(x), batch_size):\n",
    "        batch_x, batch_y = x[i:i+batch_size], y[i:i+batch_size].float()\n",
    "        optimiser.zero_grad()\n",
    "        output = model(batch_x)\n",
    "        loss = F.mse_loss(output, batch_y)\n",
    "        loss.backward()\n",
    "        optimiser.step()\n",
    "    losses.append(loss.item())"
   ]
  },
  {
   "cell_type": "code",
   "execution_count": null,
   "metadata": {},
   "outputs": [],
   "source": [
    "accuracy = (model(x).argmax(1) == y.argmax(1)).sum().item()/len(x)\n",
    "print(f\"Training Accuracy: {accuracy*100:.2f}%\")\n",
    "\n",
    "accuracy = (model(x_test).argmax(1) == y_test.argmax(1)).sum().item()/len(x_test)\n",
    "print(f\"Testing Accuracy: {accuracy*100:.2f}%\")"
   ]
  },
  {
   "cell_type": "code",
   "execution_count": null,
   "metadata": {},
   "outputs": [],
   "source": [
    "y_pred = torch.cat([model(c).detach().cpu() for c in torch.chunk(x, 10)])\n",
    "y_pred_test = model(x_test).detach().cpu()\n",
    "train_accuracy.append(accuracy_score(y.argmax(1).cpu(), y_pred.argmax(1))*100)\n",
    "test_accuracy.append(accuracy_score(y_test.argmax(1).cpu(), y_pred_test.argmax(1))*100)"
   ]
  }
 ],
 "metadata": {
  "kernelspec": {
   "display_name": "virt",
   "language": "python",
   "name": "python3"
  },
  "language_info": {
   "codemirror_mode": {
    "name": "ipython",
    "version": 3
   },
   "file_extension": ".py",
   "mimetype": "text/x-python",
   "name": "python",
   "nbconvert_exporter": "python",
   "pygments_lexer": "ipython3",
   "version": "3.10.6"
  },
  "orig_nbformat": 4
 },
 "nbformat": 4,
 "nbformat_minor": 2
}
