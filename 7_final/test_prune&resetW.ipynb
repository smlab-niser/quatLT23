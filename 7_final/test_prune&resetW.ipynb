{
 "cells": [
  {
   "cell_type": "code",
   "execution_count": null,
   "metadata": {},
   "outputs": [],
   "source": [
    "import torch\n",
    "import torch.nn as nn\n",
    "from utils.pruning import prune_model, reset_model, get_prune_percentage\n",
    "from utils.training import one_epoch\n",
    "import torch.nn.functional as F\n",
    "\n",
    "from htorch import layers\n",
    "from models.resnet_real import ResNet18\n",
    "from models.resnet_quat import ResNet18_quat\n",
    "import numpy as np\n",
    "from tqdm import tqdm, trange\n",
    "import matplotlib.pyplot as plt\n",
    "from models.lenet_300_100 import Real, Quat\n",
    "\n",
    "GPU = torch.device('cuda:0')\n",
    "seed = 21\n",
    "\n",
    "# class Real(nn.Module):\n",
    "#     def __init__(self):\n",
    "#         super().__init__()\n",
    "#         self.fc1 = nn.Linear(3, 1, bias=False)\n",
    "\n",
    "#     def forward(self, x):\n",
    "#         # print(self.fc1(x))\n",
    "#         return self.fc1(x).flatten()\n"
   ]
  },
  {
   "cell_type": "code",
   "execution_count": null,
   "metadata": {},
   "outputs": [],
   "source": [
    "model = ResNet18_quat().to(GPU)\n",
    "torch.manual_seed(seed)\n",
    "model.apply(reset_model)\n",
    "sd1 = model.state_dict()\n",
    "# print(*sd1.keys(), sep='\\n')\n",
    "optimiser = torch.optim.Adam(model.parameters(), lr=0.001)\n",
    "loss_fn = nn.CrossEntropyLoss()"
   ]
  },
  {
   "cell_type": "code",
   "execution_count": null,
   "metadata": {},
   "outputs": [],
   "source": [
    "torch.manual_seed(seed)\n",
    "# batch_x = torch.randn(3, 3).float().to(GPU)\n",
    "# batch_y = torch.randn(3, 1).flatten().to(GPU)\n",
    "\n",
    "batch_x = torch.randn(256, 4, 224, 224).float().to(GPU)\n",
    "batch_y = torch.randint(0, 1000, (256, 1)).flatten().to(GPU)\n",
    "# batch_x, batch_y"
   ]
  },
  {
   "cell_type": "code",
   "execution_count": null,
   "metadata": {},
   "outputs": [],
   "source": [
    "# model.state_dict()"
   ]
  },
  {
   "cell_type": "code",
   "execution_count": null,
   "metadata": {},
   "outputs": [],
   "source": [
    "losses = []\n",
    "for i in trange(20):\n",
    "    loss = one_epoch(model, batch_x, batch_y, optimiser, loss_fn, GPU)\n",
    "    losses.append(loss.item())\n",
    "plt.plot(losses)\n",
    "# print((model(batch_x), batch_y))"
   ]
  },
  {
   "cell_type": "code",
   "execution_count": null,
   "metadata": {},
   "outputs": [],
   "source": [
    "torch.manual_seed(seed)\n",
    "prune_model(model, 0.67)\n",
    "# model.state_dict()"
   ]
  },
  {
   "cell_type": "code",
   "execution_count": null,
   "metadata": {},
   "outputs": [],
   "source": [
    "torch.manual_seed(seed)\n",
    "model = model.apply(reset_model)\n",
    "sd2 = model.state_dict()"
   ]
  },
  {
   "cell_type": "code",
   "execution_count": null,
   "metadata": {},
   "outputs": [],
   "source": [
    "# model1 and model2\n",
    "# sd1 = list(model1.state_dict())  # unpruned\n",
    "# sd2 = list(model2.state_dict())  # pruned\n",
    "\n",
    "sdk1 = [a for a in sd1.keys() if \"weight\" in a]\n",
    "sdk2 = [a for a in sd2.keys() if \"weight\" in a]\n",
    "\n",
    "for key in sdk1:\n",
    "    key2 = key+\"_orig\"\n",
    "    if sd2.get(key2) is None:\n",
    "        print(f\"{key2} NOT pruned\")\n",
    "        continue\n",
    "    if torch.allclose(sd1[key], sd2[key2]):\n",
    "        # print(f\"{key} and {key2} are same\")\n",
    "        pass\n",
    "    else:\n",
    "        print(f\"{key} and {key2} are different!\")\n",
    "        break"
   ]
  }
 ],
 "metadata": {
  "kernelspec": {
   "display_name": ".venv",
   "language": "python",
   "name": "python3"
  },
  "language_info": {
   "codemirror_mode": {
    "name": "ipython",
    "version": 3
   },
   "file_extension": ".py",
   "mimetype": "text/x-python",
   "name": "python",
   "nbconvert_exporter": "python",
   "pygments_lexer": "ipython3",
   "version": "3.10.6"
  },
  "orig_nbformat": 4
 },
 "nbformat": 4,
 "nbformat_minor": 2
}
