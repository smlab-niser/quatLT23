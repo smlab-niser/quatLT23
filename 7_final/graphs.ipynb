{
 "cells": [
  {
   "cell_type": "code",
   "execution_count": 1,
   "metadata": {},
   "outputs": [],
   "source": [
    "import torch\n",
    "from utils.training import train_accuracy\n",
    "import matplotlib.pyplot as plt\n",
    "from os import listdir\n",
    "from tqdm import tqdm, trange\n",
    "from data_loaders.mnist import Train, Val\n",
    "import numpy as np"
   ]
  },
  {
   "cell_type": "code",
   "execution_count": 2,
   "metadata": {},
   "outputs": [
    {
     "name": "stdout",
     "output_type": "stream",
     "text": [
      "real_models = ['real_unpruned.pth', 'real_prune1.pth', 'real_prune2.pth', 'real_prune3.pth', 'real_prune4.pth', 'real_prune5.pth', 'real_prune6.pth', 'real_prune7.pth', 'real_prune8.pth', 'real_prune9.pth', 'real_prune10.pth', 'real_prune11.pth', 'real_prune12.pth', 'real_prune13.pth', 'real_prune14.pth', 'real_prune15.pth', 'real_prune16.pth', 'real_prune17.pth', 'real_prune18.pth', 'real_prune19.pth', 'real_prune20.pth']\n",
      "quat_models = ['quat_unpruned.pth', 'quat_prune1.pth', 'quat_prune2.pth', 'quat_prune3.pth', 'quat_prune4.pth', 'quat_prune5.pth', 'quat_prune6.pth', 'quat_prune7.pth', 'quat_prune8.pth', 'quat_prune9.pth', 'quat_prune10.pth', 'quat_prune11.pth', 'quat_prune12.pth', 'quat_prune13.pth', 'quat_prune14.pth', 'quat_prune15.pth', 'quat_prune16.pth', 'quat_prune17.pth', 'quat_prune18.pth', 'quat_prune19.pth', 'quat_prune20.pth']\n"
     ]
    }
   ],
   "source": [
    "def rule(x):\n",
    "    a = x[10:-4]\n",
    "    try: return int(a)\n",
    "    except: return 0\n",
    "all_models = listdir(\"saved_models/Lenet/\")\n",
    "real_models = sorted([m for m in all_models if m.startswith(\"real\")], key = rule)\n",
    "quat_models = sorted([m for m in all_models if m.startswith(\"quat\")], key = rule)\n",
    "print(f\"{real_models = }\\n{quat_models = }\")"
   ]
  },
  {
   "cell_type": "code",
   "execution_count": 3,
   "metadata": {},
   "outputs": [],
   "source": [
    "training_generator = torch.utils.data.DataLoader(Train(), batch_size=50000, num_workers=4)\n",
    "validation_generator = torch.utils.data.DataLoader(Val(), batch_size=10000, num_workers=4)\n",
    "GPU = torch.device(\"cuda:0\")"
   ]
  },
  {
   "cell_type": "code",
   "execution_count": 4,
   "metadata": {},
   "outputs": [
    {
     "name": "stderr",
     "output_type": "stream",
     "text": [
      "Real models: 100%|██████████| 21/21 [00:19<00:00,  1.07model/s]\n",
      "Quat models: 100%|██████████| 21/21 [00:18<00:00,  1.13model/s]\n"
     ]
    }
   ],
   "source": [
    "real_train_accs = []\n",
    "real_test_accs = []\n",
    "for model_name in tqdm(real_models, desc=\"Real models\", unit=\"model\"):\n",
    "    model = torch.load(f\"saved_models/Lenet/{model_name}\")\n",
    "    real_train_accs.append(train_accuracy(model, training_generator, GPU))\n",
    "    real_test_accs.append(train_accuracy(model, validation_generator, GPU))\n",
    "\n",
    "quat_train_accs = []\n",
    "quat_test_accs = []\n",
    "for model_name in tqdm(quat_models, desc=\"Quat models\", unit=\"model\"):\n",
    "    model = torch.load(f\"saved_models/Lenet/{model_name}\")\n",
    "    quat_train_accs.append(train_accuracy(model, training_generator, GPU))\n",
    "    quat_test_accs.append(train_accuracy(model, validation_generator, GPU))"
   ]
  },
  {
   "cell_type": "code",
   "execution_count": 8,
   "metadata": {},
   "outputs": [],
   "source": [
    "def xs(n, t):\n",
    "    if t==\"real\":\n",
    "        return 1/np.array([100*0.75**i for i in range(n)])\n",
    "    elif t==\"quat\":\n",
    "        return 1/np.array([25*0.75**i for i in range(n)])"
   ]
  },
  {
   "cell_type": "code",
   "execution_count": 6,
   "metadata": {},
   "outputs": [
    {
     "name": "stdout",
     "output_type": "stream",
     "text": [
      "[100.0, 75.0, 56.25, 42.1875, 31.640625, 23.73046875, 17.7978515625, 13.348388671875, 10.01129150390625, 7.5084686279296875, 5.631351470947266, 4.223513603210449, 3.167635202407837, 2.3757264018058777, 1.7817948013544083, 1.3363461010158062, 1.0022595757618546, 0.751694681821391, 0.5637710113660432, 0.42282825852453243, 0.3171211938933993]\n",
      "[98.22, 98.05, 98.11, 98.15, 98.08, 97.83, 97.61, 97.49, 97.14, 96.67999999999999, 95.93, 95.58, 95.53, 94.65, 94.02000000000001, 93.51, 85.47, 79.14, 64.74, 46.58, 36.67]\n"
     ]
    }
   ],
   "source": [
    "print(xs(len(real_test_accs), \"real\"))\n",
    "print(real_test_accs)"
   ]
  },
  {
   "cell_type": "code",
   "execution_count": 9,
   "metadata": {},
   "outputs": [
    {
     "data": {
      "image/png": "[encoded data removed]",
      "text/plain": [
       "<Figure size 640x480 with 1 Axes>"
      ]
     },
     "metadata": {},
     "output_type": "display_data"
    }
   ],
   "source": [
    "# plt.plot(real_train_accs, label=\"Real train acc\")\n",
    "plt.plot(xs(len(real_test_accs), \"real\"), real_test_accs, label=\"Real test acc\")\n",
    "# plt.plot(xs(quat_train_accs,) label=\"Quat train acc\")\n",
    "plt.plot(xs(len(quat_test_accs), \"quat\"), quat_test_accs, label=\"Quat test acc\")\n",
    "\n",
    "plt.xscale(\"log\")\n",
    "\n",
    "# plt.plot(real_train_accs, \"k*-\", label=\"Real train acc\")\n",
    "# plt.plot(real_test_accs, \"k*-\", label=\"Real test acc\")"
   ]
  }
 ],
 "metadata": {
  "kernelspec": {
   "display_name": ".venv",
   "language": "python",
   "name": "python3"
  },
  "language_info": {
   "codemirror_mode": {
    "name": "ipython",
    "version": 3
   },
   "file_extension": ".py",
   "mimetype": "text/x-python",
   "name": "python",
   "nbconvert_exporter": "python",
   "pygments_lexer": "ipython3",
   "version": "3.10.6"
  },
  "orig_nbformat": 4
 },
 "nbformat": 4,
 "nbformat_minor": 2
}
