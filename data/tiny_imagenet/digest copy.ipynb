{
 "cells": [
  {
   "cell_type": "code",
   "execution_count": 1,
   "metadata": {},
   "outputs": [],
   "source": [
    "import matplotlib.pyplot as plt\n",
    "import numpy as np\n",
    "from PIL import Image\n",
    "from tqdm import tqdm, trange\n",
    "import os\n",
    "import pandas as pd"
   ]
  },
  {
   "cell_type": "code",
   "execution_count": 2,
   "metadata": {},
   "outputs": [],
   "source": [
    "base_dir = \"/home/aritra/project/quatLT23/data/tiny_imagenet/tiny-imagenet-200\"\n",
    "train_dir = base_dir+\"/train\"\n",
    "val_dir = base_dir+\"/val\"\n",
    "classes = sorted(os.listdir(train_dir))\n",
    "\n",
    "classinfo = {i: classes[i] for i in range(200)}\n",
    "# classinfo"
   ]
  },
  {
   "attachments": {},
   "cell_type": "markdown",
   "metadata": {},
   "source": [
    "# Training"
   ]
  },
  {
   "cell_type": "code",
   "execution_count": 3,
   "metadata": {},
   "outputs": [
    {
     "name": "stderr",
     "output_type": "stream",
     "text": [
      "100%|██████████| 200/200 [00:13<00:00, 14.33it/s]"
     ]
    },
    {
     "name": "stdout",
     "output_type": "stream",
     "text": [
      "grayscale:0\n"
     ]
    },
    {
     "name": "stderr",
     "output_type": "stream",
     "text": [
      "\n"
     ]
    }
   ],
   "source": [
    "# correcting grayscales\n",
    "badcount = 0\n",
    "for i in trange(200):\n",
    "    for j in range(500):\n",
    "        img = plt.imread(f\"{train_dir}/{classinfo[i]}/images/{classinfo[i]}_{j}.JPEG\")\n",
    "        if img.shape == (64,64):\n",
    "            badcount += 1\n",
    "            plt.imsave(\n",
    "                f\"{train_dir}/{classinfo[i]}/images/{classinfo[i]}_{j}.JPEG\",\n",
    "                np.tile(img[:, :, np.newaxis], (1, 1, 3))\n",
    "            )\n",
    "\n",
    "print(f\"grayscale:{badcount}\")\n",
    "# grayscale_train: 1821"
   ]
  },
  {
   "cell_type": "code",
   "execution_count": 4,
   "metadata": {},
   "outputs": [
    {
     "name": "stderr",
     "output_type": "stream",
     "text": [
      "100%|██████████| 200/200 [00:38<00:00,  5.21it/s]\n"
     ]
    },
    {
     "name": "stdout",
     "output_type": "stream",
     "text": [
      "type cast...\n",
      "transposing...\n"
     ]
    }
   ],
   "source": [
    "x_train = None\n",
    "y_train = None\n",
    "for i in trange(200):\n",
    "    x_temp = None\n",
    "    y_temp = None\n",
    "    for j in range(500):\n",
    "        if x_temp is None:\n",
    "            x_temp = np.array([plt.imread(f\"{train_dir}/{classinfo[i]}/images/{classinfo[i]}_{j}.JPEG\")])\n",
    "            y_temp = np.array([i])\n",
    "        else:\n",
    "            x_temp = np.append(x_temp, np.array([plt.imread(f\"{train_dir}/{classinfo[i]}/images/{classinfo[i]}_{j}.JPEG\")]), axis=0)\n",
    "            y_temp = np.append(y_temp, np.array([i]), axis=0)\n",
    "    x_train = x_temp if x_train is None else np.append(x_train, x_temp, axis=0)\n",
    "    y_train = y_temp if y_train is None else np.append(y_train, y_temp, axis=0)\n",
    "\n",
    "# print(\"Shuffling...\")    \n",
    "# np.random.seed(21)\n",
    "# np.random.shuffle(x_train)\n",
    "# np.random.seed(21)\n",
    "# np.random.shuffle(y_train)\n",
    "\n",
    "print(\"type cast...\")\n",
    "x_train = x_train.astype(np.float32)/255\n",
    "y_train = y_train.astype(np.uint8)\n",
    "\n",
    "print(\"transposing...\")\n",
    "x_train = x_train.transpose(0, 3, 1, 2)"
   ]
  },
  {
   "cell_type": "code",
   "execution_count": 5,
   "metadata": {},
   "outputs": [],
   "source": [
    "np.save(f\"{base_dir}/x_train_3.npy\", x_train)\n",
    "np.save(f\"{base_dir}/y_train.npy\", y_train)"
   ]
  },
  {
   "cell_type": "code",
   "execution_count": 6,
   "metadata": {},
   "outputs": [],
   "source": [
    "mat = np.array(\n",
    "\t[\n",
    "\t\t[1, 0, 0, 0.299],\n",
    "\t\t[0, 1, 0, 0.587],\n",
    "\t\t[0, 0, 1, 0.144]\n",
    "\t]\n",
    ")\n",
    "\n",
    "x_train_4 = np.dot(x_train.transpose(0, 2, 3, 1), mat).transpose(0, 3, 1, 2)\n",
    "x_train_4 = x_train_4.astype(np.float32)"
   ]
  },
  {
   "cell_type": "code",
   "execution_count": 7,
   "metadata": {},
   "outputs": [],
   "source": [
    "np.save(f\"{base_dir}/x_train_4.npy\", x_train_4)"
   ]
  },
  {
   "attachments": {},
   "cell_type": "markdown",
   "metadata": {},
   "source": [
    "# Validation"
   ]
  },
  {
   "cell_type": "code",
   "execution_count": 8,
   "metadata": {},
   "outputs": [
    {
     "name": "stderr",
     "output_type": "stream",
     "text": [
      "100%|██████████| 10000/10000 [00:01<00:00, 7224.77it/s]"
     ]
    },
    {
     "name": "stdout",
     "output_type": "stream",
     "text": [
      "grayscale: 0\n"
     ]
    },
    {
     "name": "stderr",
     "output_type": "stream",
     "text": [
      "\n"
     ]
    }
   ],
   "source": [
    "# correcting grayscales\n",
    "badcount = 0\n",
    "for image_name in tqdm(os.listdir(val_dir+\"/images\")):\n",
    "    img = plt.imread(f\"{val_dir}/images/{image_name}\")\n",
    "    if img.shape == (64, 64):\n",
    "        badcount += 1\n",
    "        plt.imsave(\n",
    "            f\"{val_dir}/images/{image_name}\",\n",
    "            np.tile(img[:, :, np.newaxis], (1, 1, 3))\n",
    "        )\n",
    "\n",
    "print(f\"grayscale: {badcount}\")\n",
    "# grayscale_val: 168"
   ]
  },
  {
   "cell_type": "code",
   "execution_count": 9,
   "metadata": {},
   "outputs": [],
   "source": [
    "reverse_classinfo = {classinfo[i]: i for i in range(200)}\n",
    "df = pd.read_csv(f\"{val_dir}/val_annotations.txt\", sep=\"\\t\", header=None).iloc[:, :2]\n",
    "df[1] = df[1].map(reverse_classinfo)\n",
    "files = df.to_numpy()"
   ]
  },
  {
   "cell_type": "code",
   "execution_count": 10,
   "metadata": {},
   "outputs": [
    {
     "name": "stderr",
     "output_type": "stream",
     "text": [
      "100%|██████████| 10000/10000 [01:11<00:00, 139.49it/s]\n"
     ]
    }
   ],
   "source": [
    "x_val = None\n",
    "y_val = None\n",
    "for file_name, label in tqdm(files):\n",
    "    if x_val is None:\n",
    "        x_val = np.array([plt.imread(f\"{val_dir}/images/{file_name}\")])\n",
    "        y_val = np.array([label])\n",
    "    else:\n",
    "        x_val = np.append(x_val, np.array([plt.imread(f\"{val_dir}/images/{file_name}\")]), axis=0)\n",
    "        y_val = np.append(y_val, np.array([label]), axis=0)\n",
    "\n",
    "x_val = x_val.astype(np.float32)/255\n",
    "y_val = y_val.astype(np.uint8)\n",
    "\n",
    "x_val = x_val.transpose(0, 3, 1, 2)"
   ]
  },
  {
   "cell_type": "code",
   "execution_count": 11,
   "metadata": {},
   "outputs": [],
   "source": [
    "np.save(f\"{base_dir}/x_val_3.npy\", x_val)\n",
    "np.save(f\"{base_dir}/y_val.npy\", y_val)"
   ]
  },
  {
   "cell_type": "code",
   "execution_count": null,
   "metadata": {},
   "outputs": [],
   "source": [
    "x_val_4 = np.dot(x_val.transpose(0, 2, 3, 1), mat).transpose(0, 3, 1, 2)\n",
    "x_val_4 = x_val_4.astype(np.float32)"
   ]
  },
  {
   "cell_type": "code",
   "execution_count": null,
   "metadata": {},
   "outputs": [],
   "source": [
    "np.save(f\"{base_dir}/x_val_4.npy\", x_val_4)"
   ]
  }
 ],
 "metadata": {
  "kernelspec": {
   "display_name": "virt",
   "language": "python",
   "name": "python3"
  },
  "language_info": {
   "codemirror_mode": {
    "name": "ipython",
    "version": 3
   },
   "file_extension": ".py",
   "mimetype": "text/x-python",
   "name": "python",
   "nbconvert_exporter": "python",
   "pygments_lexer": "ipython3",
   "version": "3.10.6"
  },
  "orig_nbformat": 4,
  "vscode": {
   "interpreter": {
    "hash": "557a34d98ffe7d725a06180133a464cda34a5c24cf87de10297a85103ac48c0b"
   }
  }
 },
 "nbformat": 4,
 "nbformat_minor": 2
}
