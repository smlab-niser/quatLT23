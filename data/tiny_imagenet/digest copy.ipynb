{
 "cells": [
  {
   "cell_type": "code",
   "execution_count": 4,
   "metadata": {},
   "outputs": [],
   "source": [
    "import matplotlib.pyplot as plt\n",
    "import numpy as np\n",
    "from PIL import Image\n",
    "from tqdm import tqdm, trange"
   ]
  },
  {
   "cell_type": "code",
   "execution_count": 2,
   "metadata": {},
   "outputs": [
    {
     "ename": "FileNotFoundError",
     "evalue": "[Errno 2] No such file or directory: '/home/aritra/project/quartLT23/data/tiny_imagenet/tiny-imagenet-200/wnids.txt'",
     "output_type": "error",
     "traceback": [
      "\u001b[0;31m---------------------------------------------------------------------------\u001b[0m",
      "\u001b[0;31mFileNotFoundError\u001b[0m                         Traceback (most recent call last)",
      "Cell \u001b[0;32mIn[2], line 2\u001b[0m\n\u001b[1;32m      1\u001b[0m base_dir \u001b[39m=\u001b[39m \u001b[39m\"\u001b[39m\u001b[39m/home/aritra/project/quartLT23/data/tiny_imagenet/tiny-imagenet-200\u001b[39m\u001b[39m\"\u001b[39m\n\u001b[0;32m----> 2\u001b[0m file \u001b[39m=\u001b[39m \u001b[39mopen\u001b[39;49m(\u001b[39mf\u001b[39;49m\u001b[39m\"\u001b[39;49m\u001b[39m{\u001b[39;49;00mbase_dir\u001b[39m}\u001b[39;49;00m\u001b[39m/wnids.txt\u001b[39;49m\u001b[39m\"\u001b[39;49m, \u001b[39m\"\u001b[39;49m\u001b[39mr\u001b[39;49m\u001b[39m\"\u001b[39;49m)\n\u001b[1;32m      3\u001b[0m classes \u001b[39m=\u001b[39m file\u001b[39m.\u001b[39mreadlines()\n\u001b[1;32m      4\u001b[0m \u001b[39m# print((classes))\u001b[39;00m\n",
      "File \u001b[0;32m~/project/virt/lib/python3.10/site-packages/IPython/core/interactiveshell.py:282\u001b[0m, in \u001b[0;36m_modified_open\u001b[0;34m(file, *args, **kwargs)\u001b[0m\n\u001b[1;32m    275\u001b[0m \u001b[39mif\u001b[39;00m file \u001b[39min\u001b[39;00m {\u001b[39m0\u001b[39m, \u001b[39m1\u001b[39m, \u001b[39m2\u001b[39m}:\n\u001b[1;32m    276\u001b[0m     \u001b[39mraise\u001b[39;00m \u001b[39mValueError\u001b[39;00m(\n\u001b[1;32m    277\u001b[0m         \u001b[39mf\u001b[39m\u001b[39m\"\u001b[39m\u001b[39mIPython won\u001b[39m\u001b[39m'\u001b[39m\u001b[39mt let you open fd=\u001b[39m\u001b[39m{\u001b[39;00mfile\u001b[39m}\u001b[39;00m\u001b[39m by default \u001b[39m\u001b[39m\"\u001b[39m\n\u001b[1;32m    278\u001b[0m         \u001b[39m\"\u001b[39m\u001b[39mas it is likely to crash IPython. If you know what you are doing, \u001b[39m\u001b[39m\"\u001b[39m\n\u001b[1;32m    279\u001b[0m         \u001b[39m\"\u001b[39m\u001b[39myou can use builtins\u001b[39m\u001b[39m'\u001b[39m\u001b[39m open.\u001b[39m\u001b[39m\"\u001b[39m\n\u001b[1;32m    280\u001b[0m     )\n\u001b[0;32m--> 282\u001b[0m \u001b[39mreturn\u001b[39;00m io_open(file, \u001b[39m*\u001b[39;49margs, \u001b[39m*\u001b[39;49m\u001b[39m*\u001b[39;49mkwargs)\n",
      "\u001b[0;31mFileNotFoundError\u001b[0m: [Errno 2] No such file or directory: '/home/aritra/project/quartLT23/data/tiny_imagenet/tiny-imagenet-200/wnids.txt'"
     ]
    }
   ],
   "source": [
    "base_dir = \"/home/aritra/project/quartLT23/data/tiny_imagenet/tiny-imagenet-200\"\n",
    "file = open(f\"{base_dir}/wnids.txt\", \"r\")\n",
    "classes = file.readlines()\n",
    "# print((classes))\n",
    "file.close()\n",
    "\n",
    "classinfo = {}\n",
    "for i in range(200):\n",
    "    classinfo[i] = classes[i][:-1]\n",
    "print(classinfo)  \n",
    "\n",
    "train_dir = base_dir+\"/train\"\n",
    "test_dir = base_dir+\"/test\"\n",
    "val_dir = base_dir+\"/val\"  \n",
    "\n",
    "del classes"
   ]
  },
  {
   "cell_type": "code",
   "execution_count": null,
   "metadata": {},
   "outputs": [],
   "source": [
    "!unzip tiny-imagenet-200.zip"
   ]
  },
  {
   "cell_type": "code",
   "execution_count": 1,
   "metadata": {},
   "outputs": [
    {
     "ename": "NameError",
     "evalue": "name 'os' is not defined",
     "output_type": "error",
     "traceback": [
      "\u001b[0;31m---------------------------------------------------------------------------\u001b[0m",
      "\u001b[0;31mNameError\u001b[0m                                 Traceback (most recent call last)",
      "Cell \u001b[0;32mIn[1], line 3\u001b[0m\n\u001b[1;32m      1\u001b[0m \u001b[39m# TEST CELL\u001b[39;00m\n\u001b[0;32m----> 3\u001b[0m os\u001b[39m.\u001b[39mlistdir(train_dir\u001b[39m+\u001b[39m\u001b[39m'\u001b[39m\u001b[39mn01440764/\u001b[39m\u001b[39m'\u001b[39m)\n",
      "\u001b[0;31mNameError\u001b[0m: name 'os' is not defined"
     ]
    }
   ],
   "source": [
    "# TEST CELL\n",
    "\n"
   ]
  },
  {
   "cell_type": "code",
   "execution_count": null,
   "metadata": {},
   "outputs": [],
   "source": [
    "# correcting grayscales\n",
    "\n",
    "badcount = 0\n",
    "for i in range(200):\n",
    "    for j in trange(500):\n",
    "        img = plt.imread(f\"{train_dir}/{classinfo[i]}/images/{classinfo[i]}_{j}.JPEG\")\n",
    "        if img.shape == (64,64):\n",
    "            badcount += 1\n",
    "            plt.imsave(f\"{train_dir}/{classinfo[i]}/images/{classinfo[i]}_{j}.JPEG\",np.append(img,np.append(img,img)).reshape((3, 64, 64)).transpose(1, 2, 0))\n",
    "            \n",
    "print(f\"grayscale:{badcount}\")\n",
    "\n",
    "# grayscale_train: 1821\n",
    "# grayscale_val: 168"
   ]
  },
  {
   "cell_type": "code",
   "execution_count": null,
   "metadata": {},
   "outputs": [],
   "source": [
    "for i in range(200):\n",
    "    train_class = np.array([np.insert(np.array(plt.imread(f\"{train_dir}/{classinfo[i]}/images/{classinfo[i]}_0.JPEG\")).flatten(),0,i)])\n",
    "    for j in trange(1,500):\n",
    "        # print(f\"{i}th class, {j}th image)\n",
    "        train_class = np.append(train_class,[np.insert(np.array(plt.imread(f\"{train_dir}/{classinfo[i]}/images/{classinfo[i]}_{j}.JPEG\")).flatten(),0,i)],axis=0)\n",
    "    if i == 0:\n",
    "        train = np.copy(train_class)\n",
    "        continue\n",
    "    train = np.append(train,train_class,axis=0)"
   ]
  },
  {
   "cell_type": "code",
   "execution_count": null,
   "metadata": {},
   "outputs": [],
   "source": [
    "print(train)\n",
    "\n",
    "np.random.seed(69)\n",
    "np.random.shuffle(train)\n",
    "print(train)\n",
    "np.save(\"train_shuffled.npy\",train)\n",
    "\n",
    "del train\n",
    "# grayscale:1821"
   ]
  },
  {
   "cell_type": "code",
   "execution_count": null,
   "metadata": {},
   "outputs": [],
   "source": [
    "#ORganizing test labels\n",
    "file = open(f\"{val_dir}/val_annotations.txt\", \"r\")\n",
    "labels = file.readlines()\n",
    "# print((classes))\n",
    "file.close()\n",
    "\n",
    "labels2 = {}\n",
    "for i in range(10000):\n",
    "    x,y = labels[i].split()[:2]\n",
    "    for j in range(200):\n",
    "        if classinfo[j] == y:y = j\n",
    "    labels2[x] = y\n",
    "print(labels2)  \n",
    "# print(classinfo[163])\n",
    " \n",
    "del labels"
   ]
  },
  {
   "cell_type": "code",
   "execution_count": null,
   "metadata": {},
   "outputs": [],
   "source": [
    "test = np.array([])\n",
    "img = np.array(plt.imread(f\"{val_dir}/images/val_0.JPEG\")).flatten()\n",
    "img = np.insert(img,0,labels2[f'val_0.JPEG'])\n",
    "test = np.array([img])\n",
    "# print(test)\n",
    "for j in tqdm(range(10000)):\n",
    "    if j == 0: continue\n",
    "    # print(f\"{j}th image\")\n",
    "    test = np.append(test,[np.insert(np.array(plt.imread(f\"{val_dir}/images/val_{j}.JPEG\")).flatten(),0,labels2[f'val_{j}.JPEG'])],axis=0)"
   ]
  },
  {
   "cell_type": "code",
   "execution_count": null,
   "metadata": {},
   "outputs": [],
   "source": [
    "# np.random.seed(69)\n",
    "# np.random.shuffle(test)\n",
    "# print(test)\n",
    "np.save(\"test.npy\",test)\n",
    "\n",
    "del test\n",
    "# grayscale:168"
   ]
  },
  {
   "cell_type": "code",
   "execution_count": null,
   "metadata": {},
   "outputs": [],
   "source": [
    "!rm -rf tiny-imagenet-200"
   ]
  }
 ],
 "metadata": {
  "kernelspec": {
   "display_name": "virt",
   "language": "python",
   "name": "python3"
  },
  "language_info": {
   "codemirror_mode": {
    "name": "ipython",
    "version": 3
   },
   "file_extension": ".py",
   "mimetype": "text/x-python",
   "name": "python",
   "nbconvert_exporter": "python",
   "pygments_lexer": "ipython3",
   "version": "3.10.6"
  },
  "orig_nbformat": 4,
  "vscode": {
   "interpreter": {
    "hash": "557a34d98ffe7d725a06180133a464cda34a5c24cf87de10297a85103ac48c0b"
   }
  }
 },
 "nbformat": 4,
 "nbformat_minor": 2
}
