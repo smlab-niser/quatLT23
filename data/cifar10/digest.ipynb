{
 "cells": [
  {
   "cell_type": "code",
   "execution_count": 1,
   "metadata": {},
   "outputs": [],
   "source": [
    "import os\n",
    "import pickle\n",
    "import pandas as pd\n",
    "import matplotlib.pyplot as plt\n",
    "import numpy as np\n",
    "from tqdm import tqdm"
   ]
  },
  {
   "cell_type": "code",
   "execution_count": 2,
   "metadata": {},
   "outputs": [
    {
     "name": "stdout",
     "output_type": "stream",
     "text": [
      "cifar-10-batches-py/\n",
      "cifar-10-batches-py/data_batch_4\n",
      "cifar-10-batches-py/readme.html\n",
      "cifar-10-batches-py/test_batch\n",
      "cifar-10-batches-py/data_batch_3\n",
      "cifar-10-batches-py/batches.meta\n",
      "cifar-10-batches-py/data_batch_2\n",
      "cifar-10-batches-py/data_batch_5\n",
      "cifar-10-batches-py/data_batch_1\n"
     ]
    }
   ],
   "source": [
    "!tar -xvzf cifar-10-python.tar.gz"
   ]
  },
  {
   "cell_type": "code",
   "execution_count": 3,
   "metadata": {},
   "outputs": [
    {
     "data": {
      "text/plain": [
       "['cifar-10-batches-py/data_batch_1',\n",
       " 'cifar-10-batches-py/data_batch_2',\n",
       " 'cifar-10-batches-py/data_batch_3',\n",
       " 'cifar-10-batches-py/data_batch_4',\n",
       " 'cifar-10-batches-py/data_batch_5']"
      ]
     },
     "execution_count": 3,
     "metadata": {},
     "output_type": "execute_result"
    }
   ],
   "source": [
    "train_files = sorted([\"cifar-10-batches-py/\"+file for file in os.listdir(\"cifar-10-batches-py\") if file.startswith(\"data_batch_\")])\n",
    "test_file = \"cifar-10-batches-py/test_batch\"\n",
    "train_files"
   ]
  },
  {
   "cell_type": "code",
   "execution_count": 4,
   "metadata": {},
   "outputs": [
    {
     "name": "stderr",
     "output_type": "stream",
     "text": [
      "100%|██████████| 5/5 [00:00<00:00,  6.68it/s]\n"
     ]
    },
    {
     "name": "stdout",
     "output_type": "stream",
     "text": [
      "(50000, 3073)\n"
     ]
    }
   ],
   "source": [
    "train = np.array([])\n",
    "for file in tqdm(train_files):\n",
    "    with open(file, 'rb') as fo:\n",
    "        dict = pickle.load(fo, encoding='bytes')\n",
    "        data = dict[b'data']\n",
    "        labels = np.array(dict[b'labels']).reshape(-1, 1)\n",
    "        del dict\n",
    "    put = np.append(labels, data, axis=1)\n",
    "    if not len(train):\n",
    "        train = put\n",
    "    else:\n",
    "        train = np.append(train, put, axis=0)\n",
    "print(train.shape)\n",
    "train = pd.DataFrame(train)\n",
    "train.to_csv(\"train.csv\", index=False, header=False)\n",
    "del train\n",
    "del data\n",
    "del labels"
   ]
  },
  {
   "cell_type": "code",
   "execution_count": 5,
   "metadata": {},
   "outputs": [],
   "source": [
    "with open(test_file, 'rb') as fo:\n",
    "    dict = pickle.load(fo, encoding='bytes')\n",
    "    data = dict[b'data']\n",
    "    labels = np.array(dict[b'labels']).reshape(-1, 1)\n",
    "    del dict\n",
    "\n",
    "test = pd.DataFrame(np.append(labels, data, axis=1))\n",
    "test.to_csv(\"test.csv\", index=False, header=False)\n",
    "del test\n",
    "del data\n",
    "del labels"
   ]
  },
  {
   "cell_type": "code",
   "execution_count": 6,
   "metadata": {},
   "outputs": [
    {
     "name": "stdout",
     "output_type": "stream",
     "text": [
      "b'broodmare_s_001463.png'\n"
     ]
    },
    {
     "data": {
      "text/plain": [
       "<matplotlib.image.AxesImage at 0x7fd22918c5b0>"
      ]
     },
     "execution_count": 6,
     "metadata": {},
     "output_type": "execute_result"
    },
    {
     "data": {
      "image/png": "[encoded data removed]",
      "text/plain": [
       "<Figure size 204.8x153.6 with 1 Axes>"
      ]
     },
     "metadata": {},
     "output_type": "display_data"
    }
   ],
   "source": [
    "def unpickle(file):\n",
    "    with open(file, 'rb') as fo:\n",
    "        dict = pickle.load(fo, encoding='bytes')\n",
    "    return dict\n",
    "\n",
    "a = unpickle(train_files[0])\n",
    "i = 52  # which image you want to see\n",
    "print(a[b\"filenames\"][i])\n",
    "image = a[b\"data\"][i].reshape(3, 32, 32).transpose(1, 2, 0)\n",
    "image.shape\n",
    "# reduce the dpi\n",
    "plt.figure(dpi=32)\n",
    "plt.imshow(image)"
   ]
  },
  {
   "cell_type": "code",
   "execution_count": 7,
   "metadata": {},
   "outputs": [
    {
     "data": {
      "text/plain": [
       "{b'num_cases_per_batch': 10000,\n",
       " b'label_names': [b'airplane',\n",
       "  b'automobile',\n",
       "  b'bird',\n",
       "  b'cat',\n",
       "  b'deer',\n",
       "  b'dog',\n",
       "  b'frog',\n",
       "  b'horse',\n",
       "  b'ship',\n",
       "  b'truck'],\n",
       " b'num_vis': 3072}"
      ]
     },
     "execution_count": 7,
     "metadata": {},
     "output_type": "execute_result"
    }
   ],
   "source": [
    "with open(\"cifar-10-batches-py/batches.meta\", 'rb') as fo:\n",
    "    dict = pickle.load(fo, encoding='bytes')\n",
    "dict"
   ]
  },
  {
   "cell_type": "code",
   "execution_count": 8,
   "metadata": {},
   "outputs": [],
   "source": [
    "# !mv cifar-10-batches-py/readme.html readme.html\n",
    "# !mv cifar-10-batches-py/batches.meta batches.meta\n",
    "!rm -rf cifar-10-batches-py"
   ]
  }
 ],
 "metadata": {
  "kernelspec": {
   "display_name": ".venv",
   "language": "python",
   "name": "python3"
  },
  "language_info": {
   "codemirror_mode": {
    "name": "ipython",
    "version": 3
   },
   "file_extension": ".py",
   "mimetype": "text/x-python",
   "name": "python",
   "nbconvert_exporter": "python",
   "pygments_lexer": "ipython3",
   "version": "3.10.6"
  },
  "orig_nbformat": 4,
  "vscode": {
   "interpreter": {
    "hash": "9811a1b4b320249fa0a982ba121194d0140ee07c8f10e9998a7dff6636dbb876"
   }
  }
 },
 "nbformat": 4,
 "nbformat_minor": 2
}
