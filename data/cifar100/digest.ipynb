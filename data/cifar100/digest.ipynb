{
 "cells": [
  {
   "cell_type": "code",
   "execution_count": 1,
   "metadata": {},
   "outputs": [],
   "source": [
    "import pickle\n",
    "import pandas as pd\n",
    "import matplotlib.pyplot as plt\n",
    "import numpy as np"
   ]
  },
  {
   "cell_type": "code",
   "execution_count": 2,
   "metadata": {},
   "outputs": [
    {
     "name": "stdout",
     "output_type": "stream",
     "text": [
      "cifar-100-python/\n",
      "cifar-100-python/file.txt~\n",
      "cifar-100-python/train\n",
      "cifar-100-python/test\n",
      "cifar-100-python/meta\n"
     ]
    }
   ],
   "source": [
    "!tar -xvzf cifar-100-python.tar.gz"
   ]
  },
  {
   "cell_type": "code",
   "execution_count": 3,
   "metadata": {},
   "outputs": [],
   "source": [
    "train_file = \"cifar-100-python/train\"\n",
    "test_file = \"cifar-100-python/test\"\n",
    "meta_file = \"cifar-100-python/meta\""
   ]
  },
  {
   "cell_type": "code",
   "execution_count": 4,
   "metadata": {},
   "outputs": [
    {
     "name": "stdout",
     "output_type": "stream",
     "text": [
      "(50000, 3073)\n",
      "(50000, 3073)\n"
     ]
    }
   ],
   "source": [
    "with open(train_file, 'rb') as fo:\n",
    "    dict = pickle.load(fo, encoding='bytes')\n",
    "    data = dict[b'data']\n",
    "    coarse_labels = np.array(dict[b'coarse_labels']).reshape(-1, 1)\n",
    "    fine_labels = np.array(dict[b'fine_labels']).reshape(-1, 1)\n",
    "    del dict\n",
    "coarse_train = np.append(coarse_labels, data, axis=1)\n",
    "fine_train = np.append(fine_labels, data, axis=1)\n",
    "print(coarse_train.shape)\n",
    "print(fine_train.shape)\n",
    "coarse_train = pd.DataFrame(coarse_train)\n",
    "coarse_train.to_csv(\"coarse_train.csv\", index=False, header=False)\n",
    "fine_train = pd.DataFrame(fine_train)\n",
    "fine_train.to_csv(\"fine_train.csv\", index=False, header=False)\n",
    "del coarse_train, fine_train, coarse_labels, fine_labels, data"
   ]
  },
  {
   "cell_type": "code",
   "execution_count": 5,
   "metadata": {},
   "outputs": [
    {
     "name": "stdout",
     "output_type": "stream",
     "text": [
      "(10000, 3073)\n",
      "(10000, 3073)\n"
     ]
    }
   ],
   "source": [
    "with open(test_file, 'rb') as fo:\n",
    "    dict = pickle.load(fo, encoding='bytes')\n",
    "    data = dict[b'data']\n",
    "    coarse_labels = np.array(dict[b'coarse_labels']).reshape(-1, 1)\n",
    "    fine_labels = np.array(dict[b'fine_labels']).reshape(-1, 1)\n",
    "    del dict\n",
    "coarse_test = np.append(coarse_labels, data, axis=1)\n",
    "fine_test = np.append(fine_labels, data, axis=1)\n",
    "print(coarse_test.shape)\n",
    "print(fine_test.shape)\n",
    "coarse_test = pd.DataFrame(coarse_test)\n",
    "coarse_test.to_csv(\"coarse_test.csv\", index=False, header=False)\n",
    "fine_test = pd.DataFrame(fine_test)\n",
    "fine_test.to_csv(\"fine_test.csv\", index=False, header=False)\n",
    "del coarse_test, fine_test, coarse_labels, fine_labels, data"
   ]
  },
  {
   "cell_type": "code",
   "execution_count": 6,
   "metadata": {},
   "outputs": [
    {
     "name": "stdout",
     "output_type": "stream",
     "text": [
      "b'altar_boy_s_001435.png'\n"
     ]
    },
    {
     "data": {
      "text/plain": [
       "<matplotlib.image.AxesImage at 0x7f53835c67a0>"
      ]
     },
     "execution_count": 6,
     "metadata": {},
     "output_type": "execute_result"
    },
    {
     "data": {
      "image/png": "[encoded data removed]",
      "text/plain": [
       "<Figure size 204.8x153.6 with 1 Axes>"
      ]
     },
     "metadata": {},
     "output_type": "display_data"
    }
   ],
   "source": [
    "def unpickle(file):\n",
    "    with open(file, 'rb') as fo:\n",
    "        dict = pickle.load(fo, encoding='bytes')\n",
    "    return dict\n",
    "\n",
    "a = unpickle(train_file)\n",
    "i = 3  # which image you want to see\n",
    "print(a[b\"filenames\"][i])\n",
    "image = a[b\"data\"][i].reshape(3, 32, 32).transpose(1, 2, 0)\n",
    "image.shape\n",
    "# reduce the dpi\n",
    "plt.figure(dpi=32)\n",
    "plt.imshow(image)"
   ]
  },
  {
   "cell_type": "code",
   "execution_count": 7,
   "metadata": {},
   "outputs": [
    {
     "data": {
      "text/plain": [
       "dict_keys([b'fine_label_names', b'coarse_label_names'])"
      ]
     },
     "execution_count": 7,
     "metadata": {},
     "output_type": "execute_result"
    }
   ],
   "source": [
    "with open(meta_file, 'rb') as fo:\n",
    "    dict = pickle.load(fo, encoding='bytes')\n",
    "dict.keys()"
   ]
  },
  {
   "cell_type": "code",
   "execution_count": 8,
   "metadata": {},
   "outputs": [],
   "source": [
    "!rm -rf cifar-100-python"
   ]
  }
 ],
 "metadata": {
  "kernelspec": {
   "display_name": ".venv",
   "language": "python",
   "name": "python3"
  },
  "language_info": {
   "codemirror_mode": {
    "name": "ipython",
    "version": 3
   },
   "file_extension": ".py",
   "mimetype": "text/x-python",
   "name": "python",
   "nbconvert_exporter": "python",
   "pygments_lexer": "ipython3",
   "version": "3.10.6"
  },
  "orig_nbformat": 4,
  "vscode": {
   "interpreter": {
    "hash": "9811a1b4b320249fa0a982ba121194d0140ee07c8f10e9998a7dff6636dbb876"
   }
  }
 },
 "nbformat": 4,
 "nbformat_minor": 2
}
