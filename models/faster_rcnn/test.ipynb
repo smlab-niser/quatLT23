{
 "cells": [
  {
   "cell_type": "code",
   "execution_count": 1,
   "metadata": {},
   "outputs": [],
   "source": [
    "import torch\n",
    "import torch.nn as nn\n",
    "import torch.nn.functional as F"
   ]
  },
  {
   "cell_type": "code",
   "execution_count": 2,
   "metadata": {},
   "outputs": [],
   "source": [
    "class RPN(nn.Module):\n",
    "    def __init__(self, in_channels, num_anchors):\n",
    "        super(RPN, self).__init__()\n",
    "\n",
    "        self.conv = nn.Conv2d(in_channels, in_channels, kernel_size=3, stride=1, padding=1)\n",
    "        self.cls_head = nn.Conv2d(in_channels, num_anchors * 2, kernel_size=1, stride=1)\n",
    "        self.reg_head = nn.Conv2d(in_channels, num_anchors * 4, kernel_size=1, stride=1)\n",
    "\n",
    "    def forward(self, x):\n",
    "        x = F.relu(self.conv(x))\n",
    "        logits = self.cls_head(x)\n",
    "        offsets = self.reg_head(x)\n",
    "\n",
    "        # Reshape logits and offsets\n",
    "        batch_size = x.size(0)\n",
    "        logits = logits.permute(0, 2, 3, 1).contiguous().view(batch_size, -1, 2)\n",
    "        offsets = offsets.permute(0, 2, 3, 1).contiguous().view(batch_size, -1, 4)\n",
    "\n",
    "        return logits, offsets"
   ]
  },
  {
   "cell_type": "code",
   "execution_count": null,
   "metadata": {},
   "outputs": [],
   "source": [
    "net = RPN(512, 10)\n",
    "batch_x = torch.randn(256, 512, 4, 4)\n",
    "print(batch_x.size(), end = \" -> \")\n",
    "y = net(batch_x)\n",
    "print(y.size())"
   ]
  }
 ],
 "metadata": {
  "kernelspec": {
   "display_name": ".venv",
   "language": "python",
   "name": "python3"
  },
  "language_info": {
   "codemirror_mode": {
    "name": "ipython",
    "version": 3
   },
   "file_extension": ".py",
   "mimetype": "text/x-python",
   "name": "python",
   "nbconvert_exporter": "python",
   "pygments_lexer": "ipython3",
   "version": "3.10.6"
  },
  "orig_nbformat": 4
 },
 "nbformat": 4,
 "nbformat_minor": 2
}
