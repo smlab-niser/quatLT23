{
 "cells": [
  {
   "cell_type": "code",
   "execution_count": 1,
   "metadata": {},
   "outputs": [],
   "source": [
    "import torch\n",
    "# # import torch.nn as nn\n",
    "# import torch.nn.functional as F\n",
    "# import pandas as pd\n",
    "# import matplotlib.pyplot as plt\n",
    "# from tqdm import trange\n",
    "import numpy as np\n",
    "# from resnet_quat import ResNet18, ResNet34, ResNet50, ResNet101, ResNet152\n",
    "# from sklearn.metrics import accuracy_score\n",
    "from htorch.layers import QBatchNorm2d\n",
    "device = torch.device(\"cpu\")"
   ]
  },
  {
   "cell_type": "code",
   "execution_count": 4,
   "metadata": {},
   "outputs": [],
   "source": [
    "n = 1\n",
    "x = torch.from_numpy(np.random.rand(256, 512, n, n)).to(device)\n",
    "bn2 = QBatchNorm2d(128).to(device)"
   ]
  },
  {
   "cell_type": "code",
   "execution_count": 5,
   "metadata": {},
   "outputs": [
    {
     "name": "stdout",
     "output_type": "stream",
     "text": [
      "torch.Size([256, 512, 1, 1])\n",
      "shape before returning: z.shape = torch.Size([256, 512, 1, 1])\n",
      "torch.Size([256, 512, 1, 1])\n"
     ]
    },
    {
     "data": {
      "text/plain": [
       "torch.Size([4, 4, 128])"
      ]
     },
     "execution_count": 5,
     "metadata": {},
     "output_type": "execute_result"
    }
   ],
   "source": [
    "print(x.shape)\n",
    "print(bn2(x).shape)\n",
    "bn2.weight.shape"
   ]
  }
 ],
 "metadata": {
  "kernelspec": {
   "display_name": "virt",
   "language": "python",
   "name": "python3"
  },
  "language_info": {
   "codemirror_mode": {
    "name": "ipython",
    "version": 3
   },
   "file_extension": ".py",
   "mimetype": "text/x-python",
   "name": "python",
   "nbconvert_exporter": "python",
   "pygments_lexer": "ipython3",
   "version": "3.10.6"
  },
  "orig_nbformat": 4
 },
 "nbformat": 4,
 "nbformat_minor": 2
}
