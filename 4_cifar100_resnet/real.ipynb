{
 "cells": [
  {
   "cell_type": "code",
   "execution_count": 1,
   "metadata": {},
   "outputs": [],
   "source": [
    "import torch\n",
    "# import torch.nn as nn\n",
    "import torch.nn.functional as F\n",
    "import pandas as pd\n",
    "import matplotlib.pyplot as plt\n",
    "from tqdm import trange\n",
    "import numpy as np\n",
    "from resnet_real import ResNet18, ResNet34, ResNet50, ResNet101, ResNet152\n",
    "from sklearn.metrics import accuracy_score"
   ]
  },
  {
   "cell_type": "code",
   "execution_count": 2,
   "metadata": {},
   "outputs": [
    {
     "name": "stdout",
     "output_type": "stream",
     "text": [
      "Block: in_channels = 64 intermediate_channels = 64 stride = 1\n",
      "Block: in_channels = 256 intermediate_channels = 64 stride = 1\n",
      "Block: in_channels = 256 intermediate_channels = 128 stride = 2\n",
      "Block: in_channels = 512 intermediate_channels = 128 stride = 1\n",
      "Block: in_channels = 512 intermediate_channels = 256 stride = 2\n",
      "Block: in_channels = 1024 intermediate_channels = 256 stride = 1\n",
      "Block: in_channels = 1024 intermediate_channels = 512 stride = 2\n",
      "Block: in_channels = 2048 intermediate_channels = 512 stride = 1\n"
     ]
    }
   ],
   "source": [
    "a = ResNet18(4, 20)"
   ]
  },
  {
   "cell_type": "code",
   "execution_count": null,
   "metadata": {},
   "outputs": [],
   "source": [
    "hparams = {\n",
    "    \"batch_size\": 256,\n",
    "    \"num_epochs\": 300,\n",
    "    \"model\": \"ResNet18\",\n",
    "    \"dataset\": \"cifar100_coarse\",\n",
    "    \"num_classes\": 20,\n",
    "    \"optimizer\": \"sgd\",\n",
    "    \"learning_rate\": 0.005,\n",
    "    \"device\": \"cuda:0\",\n",
    "}  # although not all are actually hyperparameters\n",
    "\n",
    "sync = False  # whether to sync with wandb\n",
    "\n",
    "device = torch.device(hparams[\"device\"])\n",
    "\n",
    "train_file = f\"../data/cifar100/coarse_train.csv\" if hparams[\"dataset\"] == \"cifar100_coarse\" else f\"../data/cifar100/fine_train.csv\"\n",
    "test_file = f\"../data/cifar100/coarse_test.csv\" if hparams[\"dataset\"] == \"cifar100_coarse\" else f\"../data/cifar100/fine_test.csv\"\n",
    "\n",
    "train = pd.read_csv(train_file, header=None).values\n",
    "x = torch.from_numpy(train[:, 1:].reshape(-1, 3, 32, 32).transpose((0, 3, 2, 1))/255).float()\n",
    "y = torch.nn.functional.one_hot(torch.from_numpy(train[:, 0]).long(), hparams[\"num_classes\"])\n",
    "\n",
    "test = pd.read_csv(test_file, header=None).values\n",
    "x_test = torch.from_numpy(test[:, 1:].reshape(-1, 3, 32, 32).transpose((0, 3, 2, 1))/255).float()\n",
    "y_test = torch.nn.functional.one_hot(torch.from_numpy(test[:, 0]).long(), hparams[\"num_classes\"])\n",
    "\n",
    "mat = np.array(\n",
    "    [\n",
    "        [1, 0, 0, 0.299],\n",
    "        [0, 1, 0, 0.587],\n",
    "        [0, 0, 1, 0.144]\n",
    "    ]\n",
    ")  # RGB to RGB+Grayscale conversion matrix\n",
    "\n",
    "x = torch.Tensor(np.dot(x, mat).transpose((0, 3, 1, 2))).float().to(device)\n",
    "x_test = torch.Tensor(np.dot(x_test, mat).transpose((0, 3, 1, 2))).float().to(device)"
   ]
  },
  {
   "cell_type": "code",
   "execution_count": null,
   "metadata": {},
   "outputs": [],
   "source": [
    "if   hparams[\"model\"] == \"ResNet18\" : model =  ResNet18(4, hparams[\"num_classes\"])  # takes ~3.2s/epoch\n",
    "elif hparams[\"model\"] == \"ResNet34\" : model =  ResNet34(4, hparams[\"num_classes\"])  # takes ~5.2s/epoch\n",
    "elif hparams[\"model\"] == \"ResNet50\" : model =  ResNet50(4, hparams[\"num_classes\"])  # takes ~   s/epoch\n",
    "elif hparams[\"model\"] == \"ResNet101\": model = ResNet101(4, hparams[\"num_classes\"])  # takes ~   s/epoch\n",
    "elif hparams[\"model\"] == \"ResNet152\": model = ResNet152(4, hparams[\"num_classes\"])  # takes ~   s/epoch\n",
    "else: raise ValueError(\"Invalid model name\")\n",
    "\n",
    "model.to(device)\n",
    "optimiser = torch.optim.Adam(model.parameters(), lr=hparams[\"learning_rate\"])\n",
    "losses = []\n",
    "train_acc, test_acc = [], []\n",
    "\n",
    "wandb_name = f\"{hparams['model']}_{hparams['dataset']}_B={hparams['batch_size']}_O={hparams['optimizer']}_ll={hparams['learning_rate']}\"\n",
    "\n",
    "if sync:\n",
    "    import wandb\n",
    "    wandb.init(project=\"QuatLT23\", name=wandb_name, config=hparams)\n",
    "    wandb.watch(model)"
   ]
  },
  {
   "cell_type": "code",
   "execution_count": null,
   "metadata": {},
   "outputs": [],
   "source": [
    "num_epochs = hparams[\"num_epochs\"]\n",
    "batch_size = hparams[\"batch_size\"]\n",
    "\n",
    "for epoch in trange(num_epochs):\n",
    "    # print(\"Training\")\n",
    "    for i in range(0, len(x), batch_size):\n",
    "        batch_x, batch_y = x[i:i+batch_size].to(device), y[i:i+batch_size].float().to(device)\n",
    "        optimiser.zero_grad()\n",
    "        output = model(batch_x)\n",
    "        # print(f\"{output.shape = }, {batch_y.shape = }\")\n",
    "        loss = F.mse_loss(output, batch_y)\n",
    "        loss.backward()\n",
    "        optimiser.step()\n",
    "    losses.append(loss.item())\n",
    "\n",
    "    train_accs, test_accs = [], []\n",
    "    batch_size_acc = 1000\n",
    "\n",
    "    # print(\"Calculating Accuracy\")\n",
    "\n",
    "    for i in range(0, len(x), batch_size_acc):\n",
    "    # for i in range(0, 1000, batch_size_acc):\n",
    "        batch_x, batch_y = x[i:i+batch_size_acc].to(device), y[i:i+batch_size_acc].numpy()\n",
    "        train_pred = model(batch_x)\n",
    "        acc = accuracy_score(batch_y.argmax(1), train_pred.argmax(1).cpu().numpy())\n",
    "        train_accs.append(acc*100)\n",
    "    train_acc.append(np.array(train_accs).mean())\n",
    "    # print(f\"Train Accuracy: {train_acc[-1]:.2f}%\")\n",
    "\n",
    "    for i in range(0, len(x_test), batch_size_acc):\n",
    "    # for i in range(0, 1000, batch_size_acc):\n",
    "        batch_x_test, batch_y_test = x_test[i:i+batch_size_acc].to(device), y_test[i:i+batch_size_acc].numpy()\n",
    "        test_pred = model(batch_x_test)\n",
    "        acc = accuracy_score(batch_y_test.argmax(1), test_pred.argmax(1).cpu().numpy())\n",
    "        test_accs.append(acc*100)\n",
    "    test_acc.append(np.array(test_accs).mean())\n",
    "    # print(f\"Test Accuracy: {test_acc[-1]:.2f}%\")\n",
    "\n",
    "    if sync: wandb.log(\n",
    "        {\n",
    "            \"train_acc\": train_acc[-1],\n",
    "            \"test_acc\": test_acc[-1],\n",
    "            \"loss\": loss.item(),\n",
    "        }\n",
    "    )"
   ]
  },
  {
   "cell_type": "code",
   "execution_count": null,
   "metadata": {},
   "outputs": [],
   "source": [
    "plt.plot(losses)"
   ]
  },
  {
   "cell_type": "code",
   "execution_count": null,
   "metadata": {},
   "outputs": [],
   "source": [
    "plt.plot(train_acc, label=\"train\")\n",
    "plt.plot(test_acc, label=\"test\")"
   ]
  },
  {
   "cell_type": "code",
   "execution_count": null,
   "metadata": {},
   "outputs": [],
   "source": [
    "if sync: torch.save(model, f\"saved_models/{wandb_name}_E={hparams['num_epochs']}.pth\")"
   ]
  },
  {
   "cell_type": "code",
   "execution_count": null,
   "metadata": {},
   "outputs": [],
   "source": [
    "if sync: wandb.finish()"
   ]
  }
 ],
 "metadata": {
  "kernelspec": {
   "display_name": ".venv",
   "language": "python",
   "name": "python3"
  },
  "language_info": {
   "codemirror_mode": {
    "name": "ipython",
    "version": 3
   },
   "file_extension": ".py",
   "mimetype": "text/x-python",
   "name": "python",
   "nbconvert_exporter": "python",
   "pygments_lexer": "ipython3",
   "version": "3.10.6"
  },
  "orig_nbformat": 4,
  "vscode": {
   "interpreter": {
    "hash": "9811a1b4b320249fa0a982ba121194d0140ee07c8f10e9998a7dff6636dbb876"
   }
  }
 },
 "nbformat": 4,
 "nbformat_minor": 2
}
