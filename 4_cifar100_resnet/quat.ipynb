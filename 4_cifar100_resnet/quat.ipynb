{
 "cells": [
  {
   "cell_type": "code",
   "execution_count": 1,
   "metadata": {},
   "outputs": [],
   "source": [
    "import torch\n",
    "# import torch.nn as nn\n",
    "import torch.nn.functional as F\n",
    "import pandas as pd\n",
    "import matplotlib.pyplot as plt\n",
    "from tqdm import trange\n",
    "import numpy as np\n",
    "from resnet_quat import ResNet18, ResNet34, ResNet50, ResNet101, ResNet152\n",
    "from sklearn.metrics import accuracy_score"
   ]
  },
  {
   "cell_type": "code",
   "execution_count": 2,
   "metadata": {},
   "outputs": [],
   "source": [
    "hparams = {\n",
    "    \"batch_size\": 256,\n",
    "    \"num_epochs\": 5,\n",
    "    \"model\": \"ResNet18\",\n",
    "    \"dataset\": \"cifar100_coarse\",\n",
    "    \"num_classes\": 20,\n",
    "    \"optimizer\": \"sgd\",\n",
    "    \"learning_rate\": 0.005,\n",
    "    \"device\": \"cuda:0\",\n",
    "}  # although not all are actually hyperparameters\n",
    "\n",
    "sync = False  # whether to sync with wandb\n",
    "\n",
    "device = torch.device(hparams[\"device\"])\n",
    "\n",
    "train_file = f\"../data/cifar100/coarse_train.csv\" if hparams[\"dataset\"] == \"cifar100_coarse\" else f\"../data/cifar100/fine_train.csv\"\n",
    "test_file = f\"../data/cifar100/coarse_test.csv\" if hparams[\"dataset\"] == \"cifar100_coarse\" else f\"../data/cifar100/fine_test.csv\"\n",
    "\n",
    "train = pd.read_csv(train_file, header=None).values\n",
    "x = torch.from_numpy(train[:, 1:].reshape(-1, 3, 32, 32)/255).float()\n",
    "y = torch.nn.functional.one_hot(torch.from_numpy(train[:, 0]).long(), hparams[\"num_classes\"])\n",
    "\n",
    "test = pd.read_csv(test_file, header=None).values\n",
    "x_test = torch.from_numpy(test[:, 1:].reshape(-1, 3, 32, 32)/255).float()\n",
    "y_test = torch.nn.functional.one_hot(torch.from_numpy(test[:, 0]).long(), hparams[\"num_classes\"])"
   ]
  },
  {
   "cell_type": "code",
   "execution_count": 3,
   "metadata": {},
   "outputs": [],
   "source": [
    "if   hparams[\"model\"] == \"ResNet18\" : model =  ResNet18(3, hparams[\"num_classes\"])  # takes ~4.9s/epoch\n",
    "elif hparams[\"model\"] == \"ResNet34\" : model =  ResNet34(3, hparams[\"num_classes\"])  # takes ~8.2s/epoch\n",
    "elif hparams[\"model\"] == \"ResNet50\" : model =  ResNet50(3, hparams[\"num_classes\"])  \n",
    "elif hparams[\"model\"] == \"ResNet101\": model = ResNet101(3, hparams[\"num_classes\"])\n",
    "elif hparams[\"model\"] == \"ResNet152\": model = ResNet152(3, hparams[\"num_classes\"])\n",
    "else: raise ValueError(\"Invalid model name\")\n",
    "\n",
    "model.to(device)\n",
    "optimiser = torch.optim.Adam(model.parameters(), lr=hparams[\"learning_rate\"])\n",
    "losses = []\n",
    "train_acc, test_acc = [], []\n",
    "\n",
    "wandb_name = f\"{hparams['model']}_{hparams['dataset']}_B={hparams['batch_size']}_O={hparams['optimizer']}_ll={hparams['learning_rate']}\"\n",
    "\n",
    "if sync:\n",
    "    import wandb\n",
    "    wandb.init(project=\"QuatLT23\", name=wandb_name, config=hparams)\n",
    "    wandb.watch(model)"
   ]
  },
  {
   "cell_type": "code",
   "execution_count": 4,
   "metadata": {},
   "outputs": [
    {
     "name": "stderr",
     "output_type": "stream",
     "text": [
      "  0%|          | 0/196 [00:00<?, ?it/s]\n"
     ]
    },
    {
     "ename": "RuntimeError",
     "evalue": "Given groups=1, weight of size [64, 12, 7, 7], expected input[256, 3, 32, 32] to have 12 channels, but got 3 channels instead",
     "output_type": "error",
     "traceback": [
      "\u001b[0;31m---------------------------------------------------------------------------\u001b[0m",
      "\u001b[0;31mRuntimeError\u001b[0m                              Traceback (most recent call last)",
      "Cell \u001b[0;32mIn[4], line 9\u001b[0m\n\u001b[1;32m      7\u001b[0m batch_x, batch_y \u001b[39m=\u001b[39m x[i:i\u001b[39m+\u001b[39mbatch_size]\u001b[39m.\u001b[39mto(device), y[i:i\u001b[39m+\u001b[39mbatch_size]\u001b[39m.\u001b[39mfloat()\u001b[39m.\u001b[39mto(device)\n\u001b[1;32m      8\u001b[0m optimiser\u001b[39m.\u001b[39mzero_grad()\n\u001b[0;32m----> 9\u001b[0m output \u001b[39m=\u001b[39m model(batch_x)\n\u001b[1;32m     10\u001b[0m \u001b[39m# print(f\"{output.shape = }, {batch_y.shape = }\")\u001b[39;00m\n\u001b[1;32m     11\u001b[0m loss \u001b[39m=\u001b[39m F\u001b[39m.\u001b[39mmse_loss(output, batch_y)\n",
      "File \u001b[0;32m~/project/virt/lib/python3.10/site-packages/torch/nn/modules/module.py:1194\u001b[0m, in \u001b[0;36mModule._call_impl\u001b[0;34m(self, *input, **kwargs)\u001b[0m\n\u001b[1;32m   1190\u001b[0m \u001b[39m# If we don't have any hooks, we want to skip the rest of the logic in\u001b[39;00m\n\u001b[1;32m   1191\u001b[0m \u001b[39m# this function, and just call forward.\u001b[39;00m\n\u001b[1;32m   1192\u001b[0m \u001b[39mif\u001b[39;00m \u001b[39mnot\u001b[39;00m (\u001b[39mself\u001b[39m\u001b[39m.\u001b[39m_backward_hooks \u001b[39mor\u001b[39;00m \u001b[39mself\u001b[39m\u001b[39m.\u001b[39m_forward_hooks \u001b[39mor\u001b[39;00m \u001b[39mself\u001b[39m\u001b[39m.\u001b[39m_forward_pre_hooks \u001b[39mor\u001b[39;00m _global_backward_hooks\n\u001b[1;32m   1193\u001b[0m         \u001b[39mor\u001b[39;00m _global_forward_hooks \u001b[39mor\u001b[39;00m _global_forward_pre_hooks):\n\u001b[0;32m-> 1194\u001b[0m     \u001b[39mreturn\u001b[39;00m forward_call(\u001b[39m*\u001b[39;49m\u001b[39minput\u001b[39;49m, \u001b[39m*\u001b[39;49m\u001b[39m*\u001b[39;49mkwargs)\n\u001b[1;32m   1195\u001b[0m \u001b[39m# Do not call functions when jit is used\u001b[39;00m\n\u001b[1;32m   1196\u001b[0m full_backward_hooks, non_full_backward_hooks \u001b[39m=\u001b[39m [], []\n",
      "File \u001b[0;32m~/project/quartLT23/4_cifar100_resnet/resnet_quat.py:99\u001b[0m, in \u001b[0;36mResNet.forward\u001b[0;34m(self, x)\u001b[0m\n\u001b[1;32m     98\u001b[0m \u001b[39mdef\u001b[39;00m \u001b[39mforward\u001b[39m(\u001b[39mself\u001b[39m, x):\n\u001b[0;32m---> 99\u001b[0m     x \u001b[39m=\u001b[39m \u001b[39mself\u001b[39;49m\u001b[39m.\u001b[39;49mconv1(x)\n\u001b[1;32m    100\u001b[0m     x \u001b[39m=\u001b[39m \u001b[39mself\u001b[39m\u001b[39m.\u001b[39mbn1(x)\n\u001b[1;32m    101\u001b[0m     x \u001b[39m=\u001b[39m \u001b[39mself\u001b[39m\u001b[39m.\u001b[39mrelu(x)\n",
      "File \u001b[0;32m~/project/virt/lib/python3.10/site-packages/torch/nn/modules/module.py:1194\u001b[0m, in \u001b[0;36mModule._call_impl\u001b[0;34m(self, *input, **kwargs)\u001b[0m\n\u001b[1;32m   1190\u001b[0m \u001b[39m# If we don't have any hooks, we want to skip the rest of the logic in\u001b[39;00m\n\u001b[1;32m   1191\u001b[0m \u001b[39m# this function, and just call forward.\u001b[39;00m\n\u001b[1;32m   1192\u001b[0m \u001b[39mif\u001b[39;00m \u001b[39mnot\u001b[39;00m (\u001b[39mself\u001b[39m\u001b[39m.\u001b[39m_backward_hooks \u001b[39mor\u001b[39;00m \u001b[39mself\u001b[39m\u001b[39m.\u001b[39m_forward_hooks \u001b[39mor\u001b[39;00m \u001b[39mself\u001b[39m\u001b[39m.\u001b[39m_forward_pre_hooks \u001b[39mor\u001b[39;00m _global_backward_hooks\n\u001b[1;32m   1193\u001b[0m         \u001b[39mor\u001b[39;00m _global_forward_hooks \u001b[39mor\u001b[39;00m _global_forward_pre_hooks):\n\u001b[0;32m-> 1194\u001b[0m     \u001b[39mreturn\u001b[39;00m forward_call(\u001b[39m*\u001b[39;49m\u001b[39minput\u001b[39;49m, \u001b[39m*\u001b[39;49m\u001b[39m*\u001b[39;49mkwargs)\n\u001b[1;32m   1195\u001b[0m \u001b[39m# Do not call functions when jit is used\u001b[39;00m\n\u001b[1;32m   1196\u001b[0m full_backward_hooks, non_full_backward_hooks \u001b[39m=\u001b[39m [], []\n",
      "File \u001b[0;32m~/project/quartLT23/htorch/layers.py:163\u001b[0m, in \u001b[0;36mQConv2d.forward\u001b[0;34m(self, x)\u001b[0m\n\u001b[1;32m    156\u001b[0m     x \u001b[39m=\u001b[39m torch\u001b[39m.\u001b[39mcat([\u001b[39m*\u001b[39mx\u001b[39m.\u001b[39mchunk()], \u001b[39m2\u001b[39m)\u001b[39m.\u001b[39msqueeze()\n\u001b[1;32m    158\u001b[0m weight \u001b[39m=\u001b[39m torch\u001b[39m.\u001b[39mcat([torch\u001b[39m.\u001b[39mcat([\u001b[39mself\u001b[39m\u001b[39m.\u001b[39mr_weight, \u001b[39m-\u001b[39m\u001b[39mself\u001b[39m\u001b[39m.\u001b[39mi_weight, \u001b[39m-\u001b[39m\u001b[39mself\u001b[39m\u001b[39m.\u001b[39mj_weight,  \u001b[39m-\u001b[39m\u001b[39mself\u001b[39m\u001b[39m.\u001b[39mk_weight], dim\u001b[39m=\u001b[39m\u001b[39m0\u001b[39m),\n\u001b[1;32m    159\u001b[0m                     torch\u001b[39m.\u001b[39mcat([\u001b[39mself\u001b[39m\u001b[39m.\u001b[39mi_weight,  \u001b[39mself\u001b[39m\u001b[39m.\u001b[39mr_weight, \u001b[39m-\u001b[39m\u001b[39mself\u001b[39m\u001b[39m.\u001b[39mk_weight,   \u001b[39mself\u001b[39m\u001b[39m.\u001b[39mj_weight], dim\u001b[39m=\u001b[39m\u001b[39m0\u001b[39m),\n\u001b[1;32m    160\u001b[0m                     torch\u001b[39m.\u001b[39mcat([\u001b[39mself\u001b[39m\u001b[39m.\u001b[39mj_weight,  \u001b[39mself\u001b[39m\u001b[39m.\u001b[39mk_weight,  \u001b[39mself\u001b[39m\u001b[39m.\u001b[39mr_weight,  \u001b[39m-\u001b[39m\u001b[39mself\u001b[39m\u001b[39m.\u001b[39mi_weight], dim\u001b[39m=\u001b[39m\u001b[39m0\u001b[39m),\n\u001b[1;32m    161\u001b[0m                     torch\u001b[39m.\u001b[39mcat([\u001b[39mself\u001b[39m\u001b[39m.\u001b[39mk_weight, \u001b[39m-\u001b[39m\u001b[39mself\u001b[39m\u001b[39m.\u001b[39mj_weight,  \u001b[39mself\u001b[39m\u001b[39m.\u001b[39mi_weight,   \u001b[39mself\u001b[39m\u001b[39m.\u001b[39mr_weight], dim\u001b[39m=\u001b[39m\u001b[39m0\u001b[39m)], dim \u001b[39m=\u001b[39m \u001b[39m1\u001b[39m)\n\u001b[0;32m--> 163\u001b[0m ret \u001b[39m=\u001b[39m F\u001b[39m.\u001b[39;49mconv2d(x, weight\u001b[39m.\u001b[39;49mtranspose(\u001b[39m1\u001b[39;49m,\u001b[39m0\u001b[39;49m), \u001b[39mself\u001b[39;49m\u001b[39m.\u001b[39;49mbias, \u001b[39mself\u001b[39;49m\u001b[39m.\u001b[39;49mstride, \u001b[39mself\u001b[39;49m\u001b[39m.\u001b[39;49mpadding, \u001b[39mself\u001b[39;49m\u001b[39m.\u001b[39;49mdilation, \u001b[39mself\u001b[39;49m\u001b[39m.\u001b[39;49mgroups)\n\u001b[1;32m    164\u001b[0m \u001b[39mreturn\u001b[39;00m Q(ret)\n",
      "\u001b[0;31mRuntimeError\u001b[0m: Given groups=1, weight of size [64, 12, 7, 7], expected input[256, 3, 32, 32] to have 12 channels, but got 3 channels instead"
     ]
    }
   ],
   "source": [
    "num_epochs = hparams[\"num_epochs\"]\n",
    "batch_size = hparams[\"batch_size\"]\n",
    "\n",
    "for epoch in range(num_epochs):\n",
    "    # print(\"Training\")\n",
    "    for i in trange(0, len(x), batch_size):\n",
    "        batch_x, batch_y = x[i:i+batch_size].to(device), y[i:i+batch_size].float().to(device)\n",
    "        optimiser.zero_grad()\n",
    "        output = model(batch_x)\n",
    "        # print(f\"{output.shape = }, {batch_y.shape = }\")\n",
    "        loss = F.mse_loss(output, batch_y)\n",
    "        loss.backward()\n",
    "        optimiser.step()\n",
    "    losses.append(loss.item())\n",
    "\n",
    "    train_accs, test_accs = [], []\n",
    "    batch_size_acc = 1000\n",
    "\n",
    "    # print(\"Calculating Accuracy\")\n",
    "\n",
    "    for i in range(0, len(x), batch_size_acc):\n",
    "    # for i in range(0, 1000, batch_size_acc):\n",
    "        batch_x, batch_y = x[i:i+batch_size_acc].to(device), y[i:i+batch_size_acc].numpy()\n",
    "        train_pred = model(batch_x)\n",
    "        acc = accuracy_score(batch_y.argmax(1), train_pred.argmax(1).cpu().numpy())\n",
    "        train_accs.append(acc*100)\n",
    "    train_acc.append(np.array(train_accs).mean())\n",
    "    # print(f\"Train Accuracy: {train_acc[-1]:.2f}%\")\n",
    "\n",
    "    for i in range(0, len(x_test), batch_size_acc):\n",
    "    # for i in range(0, 1000, batch_size_acc):\n",
    "        batch_x_test, batch_y_test = x_test[i:i+batch_size_acc].to(device), y_test[i:i+batch_size_acc].numpy()\n",
    "        test_pred = model(batch_x_test)\n",
    "        acc = accuracy_score(batch_y_test.argmax(1), test_pred.argmax(1).cpu().numpy())\n",
    "        test_accs.append(acc*100)\n",
    "    test_acc.append(np.array(test_accs).mean())\n",
    "    # print(f\"Test Accuracy: {test_acc[-1]:.2f}%\")\n",
    "\n",
    "    if sync: wandb.log(\n",
    "        {\n",
    "            \"train_acc\": train_acc[-1],\n",
    "            \"test_acc\": test_acc[-1],\n",
    "            \"loss\": loss.item(),\n",
    "        }\n",
    "    )"
   ]
  },
  {
   "cell_type": "code",
   "execution_count": null,
   "metadata": {},
   "outputs": [],
   "source": [
    "plt.plot(losses)"
   ]
  },
  {
   "cell_type": "code",
   "execution_count": null,
   "metadata": {},
   "outputs": [],
   "source": [
    "plt.plot(train_acc, label=\"train\")\n",
    "plt.plot(test_acc, label=\"test\")"
   ]
  },
  {
   "cell_type": "code",
   "execution_count": null,
   "metadata": {},
   "outputs": [],
   "source": [
    "if sync: torch.save(model, f\"saved_models/{wandb_name}_E={hparams['num_epochs']}.pth\")"
   ]
  },
  {
   "cell_type": "code",
   "execution_count": null,
   "metadata": {},
   "outputs": [],
   "source": [
    "if sync: wandb.finish()"
   ]
  }
 ],
 "metadata": {
  "kernelspec": {
   "display_name": ".venv",
   "language": "python",
   "name": "python3"
  },
  "language_info": {
   "codemirror_mode": {
    "name": "ipython",
    "version": 3
   },
   "file_extension": ".py",
   "mimetype": "text/x-python",
   "name": "python",
   "nbconvert_exporter": "python",
   "pygments_lexer": "ipython3",
   "version": "3.10.6"
  },
  "orig_nbformat": 4,
  "vscode": {
   "interpreter": {
    "hash": "9811a1b4b320249fa0a982ba121194d0140ee07c8f10e9998a7dff6636dbb876"
   }
  }
 },
 "nbformat": 4,
 "nbformat_minor": 2
}
