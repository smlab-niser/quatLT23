{
 "cells": [
  {
   "cell_type": "code",
   "execution_count": 1,
   "metadata": {},
   "outputs": [],
   "source": [
    "from htorch import layers\n",
    "import torch.nn as nn\n",
    "import torch\n",
    "# import numpy as np\n",
    "# import torch.nn.functional as F"
   ]
  },
  {
   "cell_type": "code",
   "execution_count": null,
   "metadata": {},
   "outputs": [],
   "source": [
    "# class Real(nn.Module): \n",
    "#     def __init__(self):\n",
    "#         super().__init__()\n",
    "#         self.fc1 = nn.Linear(784, 32)\n",
    "#         self.fc2 = nn.Linear(32, 32)\n",
    "#         self.fc4 = nn.Linear(32, 10)\n",
    "\n",
    "#     def forward(self, x):\n",
    "#         x = F.relu(self.fc1(x))\n",
    "#         x = F.relu(self.fc2(x))\n",
    "#         x = self.fc4(x)\n",
    "#         return x\n",
    "\n",
    "# class Quat(nn.Module):\n",
    "#     def __init__(self):\n",
    "#         super().__init__()\n",
    "#         self.fc1 = layers.QLinear(196, 75)\n",
    "#         self.fc2 = layers.QLinear(75, 25)\n",
    "#         self.fc3 = nn.Linear(100, 10)\n",
    "\n",
    "#     def forward(self, x):\n",
    "#         x = F.relu(self.fc1(x))\n",
    "#         x = F.relu(self.fc2(x))\n",
    "#         x = self.fc3(x)\n",
    "#         return x"
   ]
  },
  {
   "attachments": {},
   "cell_type": "markdown",
   "metadata": {},
   "source": [
    "# Real Layer"
   ]
  },
  {
   "cell_type": "code",
   "execution_count": null,
   "metadata": {},
   "outputs": [],
   "source": [
    "real = nn.Linear(4, 5)"
   ]
  },
  {
   "cell_type": "code",
   "execution_count": null,
   "metadata": {},
   "outputs": [],
   "source": [
    "print([f for f in dir(real) if not f.startswith('_')])"
   ]
  },
  {
   "cell_type": "code",
   "execution_count": null,
   "metadata": {},
   "outputs": [],
   "source": [
    "print(real.weight)\n",
    "print(\"\\n\")\n",
    "print(real.bias)"
   ]
  },
  {
   "attachments": {},
   "cell_type": "markdown",
   "metadata": {},
   "source": [
    "# Quaternion Layer"
   ]
  },
  {
   "cell_type": "code",
   "execution_count": 7,
   "metadata": {},
   "outputs": [
    {
     "name": "stdout",
     "output_type": "stream",
     "text": [
      "scale = 0.25\n",
      "img_mat = tensor([[-0.3873, -0.6214,  0.7035,  0.5357, -0.7774,  0.0283,  0.5209, -0.5939,\n",
      "          0.9036],\n",
      "        [ 0.7680,  0.9153,  0.1326,  0.8873,  0.6913, -0.2831, -0.7012, -0.6423,\n",
      "         -0.1856]])\n",
      "r.shape = torch.Size([2, 3]) i.shape = torch.Size([2, 3]) j.shape = torch.Size([2, 3]) k.shape = torch.Size([2, 3])\n",
      "weight.shape = torch.Size([8, 12])\n"
     ]
    }
   ],
   "source": [
    "quat = layers.QLinear(2, 3)"
   ]
  },
  {
   "cell_type": "code",
   "execution_count": null,
   "metadata": {},
   "outputs": [],
   "source": [
    "print([f for f in dir(quat) if not f.startswith('_')])"
   ]
  },
  {
   "cell_type": "code",
   "execution_count": null,
   "metadata": {},
   "outputs": [],
   "source": [
    "# print(quat.weight)\n",
    "print(\"\\n\")\n",
    "print(quat.bias)"
   ]
  },
  {
   "attachments": {},
   "cell_type": "markdown",
   "metadata": {},
   "source": [
    "### unique attributes of real and quaternion layer\n",
    "\n",
    "```python\n",
    "real = ['in_features', 'weight'] + const\n",
    "quat = ['i_weight', 'j_weight', 'k_weight', 'r_weight', 'spinor', 'in_channels'] + const\n",
    "```"
   ]
  },
  {
   "cell_type": "code",
   "execution_count": null,
   "metadata": {},
   "outputs": [],
   "source": [
    "\n",
    "torch.batch_norm()"
   ]
  }
 ],
 "metadata": {
  "kernelspec": {
   "display_name": ".venv",
   "language": "python",
   "name": "python3"
  },
  "language_info": {
   "codemirror_mode": {
    "name": "ipython",
    "version": 3
   },
   "file_extension": ".py",
   "mimetype": "text/x-python",
   "name": "python",
   "nbconvert_exporter": "python",
   "pygments_lexer": "ipython3",
   "version": "3.10.6"
  },
  "orig_nbformat": 4,
  "vscode": {
   "interpreter": {
    "hash": "9811a1b4b320249fa0a982ba121194d0140ee07c8f10e9998a7dff6636dbb876"
   }
  }
 },
 "nbformat": 4,
 "nbformat_minor": 2
}
