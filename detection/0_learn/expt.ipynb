{
 "cells": [
  {
   "cell_type": "code",
   "execution_count": 1,
   "metadata": {},
   "outputs": [],
   "source": [
    "import numpy as np"
   ]
  },
  {
   "cell_type": "code",
   "execution_count": 9,
   "metadata": {},
   "outputs": [
    {
     "data": {
      "text/plain": [
       "array([[[0.75746785, 0.40631853],\n",
       "        [0.6006587 , 0.10225211]],\n",
       "\n",
       "       [[0.95391072, 0.98338387],\n",
       "        [0.95491442, 0.18666258]],\n",
       "\n",
       "       [[0.85779953, 0.17519129],\n",
       "        [0.77857585, 0.00759837]],\n",
       "\n",
       "       [[0.07959578, 0.71357284],\n",
       "        [0.35474648, 0.56641018]],\n",
       "\n",
       "       [[0.08283825, 0.32636233],\n",
       "        [0.28791463, 0.12132879]]])"
      ]
     },
     "execution_count": 9,
     "metadata": {},
     "output_type": "execute_result"
    }
   ],
   "source": [
    "n = 5\n",
    "y      = np.random.random((n, 2, 2))\n",
    "y_pred = np.random.random((n, 2, 2))\n",
    "y"
   ]
  },
  {
   "cell_type": "code",
   "execution_count": null,
   "metadata": {},
   "outputs": [],
   "source": []
  }
 ],
 "metadata": {
  "kernelspec": {
   "display_name": ".venv",
   "language": "python",
   "name": "python3"
  },
  "language_info": {
   "codemirror_mode": {
    "name": "ipython",
    "version": 3
   },
   "file_extension": ".py",
   "mimetype": "text/x-python",
   "name": "python",
   "nbconvert_exporter": "python",
   "pygments_lexer": "ipython3",
   "version": "3.10.6"
  },
  "orig_nbformat": 4
 },
 "nbformat": 4,
 "nbformat_minor": 2
}
