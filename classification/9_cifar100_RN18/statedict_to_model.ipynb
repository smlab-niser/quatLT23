{
 "cells": [
  {
   "cell_type": "code",
   "execution_count": 1,
   "metadata": {},
   "outputs": [],
   "source": [
    "import os\n",
    "from models.resnet_real import ResNet18, ResNet34, ResNet50, ResNet101, ResNet152\n",
    "from models.resnet_quat import ResNet18_quat, ResNet34_quat, ResNet50_quat, ResNet101_quat, ResNet152_quat\n",
    "from oth import *\n",
    "from utils.pruning import prune_model\n",
    "from tqdm import tqdm, trange\n",
    "\n",
    "models = {\n",
    "    18: {\"real\": ResNet18, \"quat\": ResNet18_quat},\n",
    "    34: {\"real\": ResNet34, \"quat\": ResNet34_quat},\n",
    "    50: {\"real\": ResNet50, \"quat\": ResNet50_quat},\n",
    "    101: {\"real\": ResNet101, \"quat\": ResNet101_quat},\n",
    "    152: {\"real\": ResNet152, \"quat\": ResNet152_quat},\n",
    "}\n",
    "\n",
    "DEVICE = torch.device(\"cuda:0\")\n",
    "save_path = \"saved_models\"\n",
    "\n",
    "def rule(x):\n",
    "    a = x[:-3].split(\"_\")[-1]\n",
    "    try: return int(a)\n",
    "    except: return 0"
   ]
  },
  {
   "cell_type": "code",
   "execution_count": 2,
   "metadata": {},
   "outputs": [
    {
     "name": "stderr",
     "output_type": "stream",
     "text": [
      "RN18_real: 100%|██████████| 21/21 [00:03<00:00,  5.72models/s]\n",
      "RN18_quat: 100%|██████████| 21/21 [00:02<00:00,  8.07models/s]\n",
      "RN34_real: 100%|██████████| 21/21 [00:06<00:00,  3.04models/s]\n",
      "RN34_quat: 100%|██████████| 21/21 [00:04<00:00,  4.38models/s]\n",
      "RN50_real: 100%|██████████| 21/21 [00:08<00:00,  2.57models/s]\n",
      "RN50_quat: 100%|██████████| 21/21 [00:06<00:00,  3.30models/s]\n",
      "RN101_real: 100%|██████████| 23/23 [00:17<00:00,  1.30models/s]\n",
      "RN101_quat: 100%|██████████| 21/21 [00:12<00:00,  1.66models/s]\n",
      "RN152_real: 100%|██████████| 23/23 [00:25<00:00,  1.12s/models]\n",
      "RN152_quat: 100%|██████████| 18/18 [00:15<00:00,  1.14models/s]\n"
     ]
    }
   ],
   "source": [
    "for model_type in models:\n",
    "    for realorquat in models[model_type]:\n",
    "        m = models[model_type][realorquat](num_classes=100, name=f\"RN{model_type}_{realorquat}\").to(DEVICE)  # this is a model with random weights\n",
    "        load_from = f\"{save_path}/RN{model_type}\"\n",
    "        save_to = f\"{save_path}/{m.name}_prune\"\n",
    "        os.mkdir(save_to)\n",
    "        pruned = False\n",
    "        for pruneV in tqdm(\n",
    "            sorted(\n",
    "                [x for x in os.listdir(load_from) if realorquat in x],\n",
    "                key=rule\n",
    "            ),\n",
    "            desc=f\"RN{model_type}_{realorquat}\",\n",
    "            unit = \"models\"\n",
    "        ):\n",
    "            m.load_state_dict(torch.load(f\"{load_from}/{pruneV}\", map_location=DEVICE))\n",
    "            torch.save(m, f\"{save_to}/{pruneV}\")\n",
    "            if not pruned: prune_model(m, 0.99)"
   ]
  }
 ],
 "metadata": {
  "kernelspec": {
   "display_name": ".venv",
   "language": "python",
   "name": "python3"
  },
  "language_info": {
   "codemirror_mode": {
    "name": "ipython",
    "version": 3
   },
   "file_extension": ".py",
   "mimetype": "text/x-python",
   "name": "python",
   "nbconvert_exporter": "python",
   "pygments_lexer": "ipython3",
   "version": "3.10.6"
  },
  "orig_nbformat": 4
 },
 "nbformat": 4,
 "nbformat_minor": 2
}
