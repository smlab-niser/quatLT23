{
 "cells": [
  {
   "cell_type": "code",
   "execution_count": 11,
   "metadata": {},
   "outputs": [],
   "source": [
    "import torch\n",
    "from torch import nn\n",
    "import torch.nn.functional as F\n",
    "from torchvision.models import resnet18, resnet34, resnet50, resnet101, resnet152\n",
    "\n",
    "from models.resnet_real import ResNet18, ResNet34, ResNet50, ResNet101, ResNet152\n",
    "\n",
    "from data_loaders.imagenet import Train, Val\n",
    "import numpy as np\n",
    "from tqdm import tqdm, trange\n",
    "from sklearn.metrics import accuracy_score"
   ]
  },
  {
   "attachments": {},
   "cell_type": "markdown",
   "metadata": {},
   "source": [
    "Speed in it/s\n",
    "| Model | TorchVision | Ours |\n",
    "|:--:|:--:|:--:|\n",
    "| ResNet-18 | 50 | 25 |\n",
    "| ResNet-34 | 34 | 16 |\n",
    "| ResNet-50 | 16.5 | 16 |\n",
    "| ResNet-101 | 9.7 | 9.5 |\n",
    "| ResNet-152 | 6.8 | 6.7 |"
   ]
  },
  {
   "cell_type": "code",
   "execution_count": 12,
   "metadata": {},
   "outputs": [],
   "source": [
    "# model = resnet152()\n",
    "model = ResNet152()\n",
    "\n",
    "hparams = {\n",
    "    \"batch_size\": 256,\n",
    "    \"num_epochs\": 40,\n",
    "    \"model\": \"ResNet18\",\n",
    "    \"dataset\": \"imagenet\",\n",
    "    \"num_classes\": 20,\n",
    "    \"optimizer\": \"sgd\",\n",
    "    \"learning_rate\": 0.05,\n",
    "    \"device\": \"cuda:0\",\n",
    "}\n",
    "\n",
    "GPU = torch.device(hparams[\"device\"])\n",
    "CPU = torch.device('cpu')\n",
    "\n",
    "model.to(GPU)\n",
    "optimiser = torch.optim.SGD(model.parameters(), lr=hparams[\"learning_rate\"])\n",
    "loss_fn = nn.CrossEntropyLoss()"
   ]
  },
  {
   "cell_type": "code",
   "execution_count": 13,
   "metadata": {},
   "outputs": [],
   "source": [
    "# Loading data\n",
    "training_generator = torch.utils.data.DataLoader(Train(d4=False), batch_size=hparams[\"batch_size\"], num_workers=4)\n",
    "validation_generator = torch.utils.data.DataLoader(Val(d4=False), batch_size=450, num_workers=4)\n",
    "# accuracies"
   ]
  },
  {
   "cell_type": "code",
   "execution_count": 14,
   "metadata": {},
   "outputs": [
    {
     "name": "stdout",
     "output_type": "stream",
     "text": [
      "Training\n"
     ]
    },
    {
     "name": "stderr",
     "output_type": "stream",
     "text": [
      "  2%|▏         | 118/5005 [00:18<12:31,  6.51it/s]\n"
     ]
    },
    {
     "ename": "KeyboardInterrupt",
     "evalue": "",
     "output_type": "error",
     "traceback": [
      "\u001b[0;31m---------------------------------------------------------------------------\u001b[0m",
      "\u001b[0;31mKeyboardInterrupt\u001b[0m                         Traceback (most recent call last)",
      "Cell \u001b[0;32mIn[14], line 12\u001b[0m\n\u001b[1;32m      7\u001b[0m \u001b[39mprint\u001b[39m(\u001b[39m\"\u001b[39m\u001b[39mTraining\u001b[39m\u001b[39m\"\u001b[39m)\n\u001b[1;32m      8\u001b[0m \u001b[39mfor\u001b[39;00m batch_x, batch_y \u001b[39min\u001b[39;00m tqdm(training_generator):\n\u001b[1;32m      9\u001b[0m     \u001b[39m# print(\"Batching\")\u001b[39;00m\n\u001b[1;32m     10\u001b[0m     \u001b[39m# print(f\"{batch_x.shape = }, {batch_y.shape = }\")\u001b[39;00m\n\u001b[1;32m     11\u001b[0m     \u001b[39m# print(batch_y.max(), batch_y.min())\u001b[39;00m\n\u001b[0;32m---> 12\u001b[0m     batch_x, batch_y \u001b[39m=\u001b[39m batch_x\u001b[39m.\u001b[39;49mto(GPU), F\u001b[39m.\u001b[39mone_hot(batch_y\u001b[39m.\u001b[39mlong()\u001b[39m.\u001b[39mflatten(), num_classes\u001b[39m=\u001b[39m\u001b[39m1000\u001b[39m)\u001b[39m.\u001b[39mto(GPU)\n\u001b[1;32m     13\u001b[0m     optimiser\u001b[39m.\u001b[39mzero_grad()\n\u001b[1;32m     14\u001b[0m     output \u001b[39m=\u001b[39m model(batch_x)\n",
      "\u001b[0;31mKeyboardInterrupt\u001b[0m: "
     ]
    }
   ],
   "source": [
    "batch_size = hparams[\"batch_size\"]\n",
    "num_epochs = hparams[\"num_epochs\"]\n",
    "\n",
    "train_acc, test_acc = [], []\n",
    "\n",
    "for epoch in range(num_epochs):\n",
    "    print(\"Training\")\n",
    "    for batch_x, batch_y in tqdm(training_generator):\n",
    "        # print(\"Batching\")\n",
    "        # print(f\"{batch_x.shape = }, {batch_y.shape = }\")\n",
    "        # print(batch_y.max(), batch_y.min())\n",
    "        batch_x, batch_y = batch_x.to(GPU), F.one_hot(batch_y.long().flatten(), num_classes=1000).to(GPU)\n",
    "        optimiser.zero_grad()\n",
    "        output = model(batch_x)\n",
    "        # print(f\"{output.shape = }, {batch_y.shape = }\")\n",
    "        loss = loss_fn(output, batch_y.argmax(1))\n",
    "        loss.backward()\n",
    "        optimiser.step()\n",
    "    # losses.append(loss.item())\n",
    "    \n",
    "\n",
    "    print(\"Calculating Accuracy\")\n",
    "\n",
    "    train_accs, test_accs = [], []\n",
    "\n",
    "    j = 0\n",
    "    for batch_x, batch_y in training_generator:\n",
    "        batch_x, batch_y = batch_x.to(GPU), batch_y.flatten()\n",
    "        train_pred = model(batch_x)\n",
    "        acc = accuracy_score(batch_y.numpy(), train_pred.argmax(1).cpu().numpy())\n",
    "        train_accs.append(acc*100)\n",
    "        j += 1\n",
    "        if j >= 100: break\n",
    "    train_acc.append(np.array(train_accs).mean())\n",
    "    print(f\"Train Accuracy: {train_acc[-1]:.2f}%\")\n",
    "\n",
    "\n",
    "    j = 0\n",
    "    for batch_x, batch_y in validation_generator:\n",
    "        batch_x, batch_y = batch_x.to(GPU), batch_y.flatten()\n",
    "        test_pred = model(batch_x)\n",
    "        acc = accuracy_score(batch_y.numpy(), test_pred.argmax(1).cpu().numpy())\n",
    "        train_accs.append(acc*100)\n",
    "        j += 1\n",
    "        if j >= 100: break\n",
    "    test_acc.append(np.array(train_accs).mean())\n",
    "    print(f\"Test Accuracy: {test_acc[-1]:.2f}%\")"
   ]
  }
 ],
 "metadata": {
  "kernelspec": {
   "display_name": ".venv",
   "language": "python",
   "name": "python3"
  },
  "language_info": {
   "codemirror_mode": {
    "name": "ipython",
    "version": 3
   },
   "file_extension": ".py",
   "mimetype": "text/x-python",
   "name": "python",
   "nbconvert_exporter": "python",
   "pygments_lexer": "ipython3",
   "version": "3.10.6"
  },
  "orig_nbformat": 4
 },
 "nbformat": 4,
 "nbformat_minor": 2
}
