{
 "cells": [
  {
   "cell_type": "code",
   "execution_count": 1,
   "metadata": {},
   "outputs": [],
   "source": [
    "import torch\n",
    "import torch.nn as nn\n",
    "import torch.nn.functional as F\n",
    "import pandas as pd\n",
    "import matplotlib.pyplot as plt\n",
    "from tqdm import tqdm\n",
    "from htorch import layers\n",
    "import time"
   ]
  },
  {
   "cell_type": "code",
   "execution_count": 2,
   "metadata": {},
   "outputs": [],
   "source": [
    "device = torch.device('cuda:0')\n",
    "\n",
    "data = torch.tensor(pd.read_csv(\"../data/mnist/train.csv\", header=None).values)\n",
    "x, y = (data[:, 1:]/255).float().to(device), torch.nn.functional.one_hot(data[:, 0].long(), 10).to(device)\n",
    "\n",
    "test = torch.tensor(pd.read_csv(\"../data/mnist/test.csv\", header=None).values)\n",
    "x_test, y_test = (test[:, 1:]/255).float().to(device), torch.nn.functional.one_hot(test[:, 0].long(), 10).to(device)"
   ]
  },
  {
   "cell_type": "code",
   "execution_count": 3,
   "metadata": {},
   "outputs": [],
   "source": [
    "class Real(nn.Module): \n",
    "    def __init__(self):\n",
    "        super().__init__()\n",
    "        self.fc1 = nn.Linear(784, 300)\n",
    "        self.fc2 = nn.Linear(300, 100)\n",
    "        self.fc4 = nn.Linear(100, 10)\n",
    "\n",
    "    def forward(self, x):\n",
    "        x = F.relu(self.fc1(x))\n",
    "        x = F.relu(self.fc2(x))\n",
    "        x = self.fc4(x)\n",
    "        return x\n",
    "real_model = Real()\n",
    "real_model.to(device)\n",
    "optimiser = torch.optim.Adam(real_model.parameters(), lr=1.2e-3)"
   ]
  },
  {
   "cell_type": "code",
   "execution_count": 4,
   "metadata": {},
   "outputs": [],
   "source": [
    "class Quat(nn.Module):\n",
    "    def __init__(self):\n",
    "        super().__init__()\n",
    "        self.fc1 = layers.QLinear(196, 75)\n",
    "        self.fc2 = layers.QLinear(75, 25)\n",
    "        self.fc3 = nn.Linear(100, 10)\n",
    "\n",
    "    def forward(self, x):\n",
    "        # x = torch.flatten(x, 1)\n",
    "        x = F.relu(self.fc1(x))\n",
    "        x = F.relu(self.fc2(x))\n",
    "        x = self.fc3(x)\n",
    "        return x\n",
    "quat_model = Quat()\n",
    "quat_model.to(device)\n",
    "optimiser = torch.optim.Adam(quat_model.parameters(), lr=1.2e-3)"
   ]
  },
  {
   "cell_type": "markdown",
   "metadata": {},
   "source": [
    "for batch_size in [2**(i) for i in range(5, 14)][::-1]:\n",
    "    for model in [\"real\", \"quat\"]:\n",
    "        if model == \"quat\":\n",
    "            model = Quat()\n",
    "            model.to(device)\n",
    "            optimiser = torch.optim.Adam(model.parameters(), lr=1.2e-3)\n",
    "        elif model == \"real\":\n",
    "            model = Real()\n",
    "            model.to(device)\n",
    "            optimiser = torch.optim.Adam(model.parameters(), lr=1.2e-3)\n",
    "\n",
    "        t_f = 0\n",
    "        t_b = 0\n",
    "\n",
    "        for epoch in tqdm(range(1000)):\n",
    "            for i in range(0, len(x), batch_size):\n",
    "                batch_x, batch_y = x[i:i+batch_size], y[i:i+batch_size].float()\n",
    "                optimiser.zero_grad()\n",
    "\n",
    "                t0 = time.time()\n",
    "                output = model(batch_x)\n",
    "                t_f += time.time() - t0\n",
    "\n",
    "                t0 = time.time()\n",
    "                loss = F.mse_loss(output, batch_y)\n",
    "                loss.backward()\n",
    "                t_b += time.time() - t0\n",
    "\n",
    "                optimiser.step()\n",
    "            # losses.append(loss.item())\n",
    "        if isinstance(model, Real):\n",
    "            message = f\"\"\"<tr>\n",
    "            <td rowspan=\"2\"><b>{batch_size}</b></td>\n",
    "            <td><b>Real</b></td>\n",
    "            <td>{t_f:.3f}ms</td>\n",
    "            <td>{t_b:.3f}ms</td>\n",
    "            </tr>\"\"\"\n",
    "        else:\n",
    "            message = f\"\"\"<tr>\n",
    "            <td><b>Quat</b></td>\n",
    "            <td>{t_f:.3f}ms</td>\n",
    "            <td>{t_b:.3f}ms</td>\n",
    "            </tr>\"\"\"\n",
    "        print(message)\n"
   ]
  },
  {
   "cell_type": "code",
   "execution_count": 5,
   "metadata": {},
   "outputs": [
    {
     "name": "stdout",
     "output_type": "stream",
     "text": [
      "batchsize: 8192 model: Real "
     ]
    },
    {
     "name": "stderr",
     "output_type": "stream",
     "text": [
      "100%|██████████| 250/250 [00:02<00:00, 115.06it/s]\n"
     ]
    },
    {
     "name": "stdout",
     "output_type": "stream",
     "text": [
      "batchsize: 8192 model: Quat "
     ]
    },
    {
     "name": "stderr",
     "output_type": "stream",
     "text": [
      "100%|██████████| 250/250 [00:02<00:00, 109.07it/s]\n"
     ]
    },
    {
     "name": "stdout",
     "output_type": "stream",
     "text": [
      "batchsize: 4096 model: Real "
     ]
    },
    {
     "name": "stderr",
     "output_type": "stream",
     "text": [
      "100%|██████████| 250/250 [00:02<00:00, 104.24it/s]\n"
     ]
    },
    {
     "name": "stdout",
     "output_type": "stream",
     "text": [
      "batchsize: 4096 model: Quat "
     ]
    },
    {
     "name": "stderr",
     "output_type": "stream",
     "text": [
      "100%|██████████| 250/250 [00:03<00:00, 81.10it/s]\n"
     ]
    },
    {
     "name": "stdout",
     "output_type": "stream",
     "text": [
      "batchsize: 2048 model: Real "
     ]
    },
    {
     "name": "stderr",
     "output_type": "stream",
     "text": [
      "100%|██████████| 250/250 [00:03<00:00, 77.62it/s]\n"
     ]
    },
    {
     "name": "stdout",
     "output_type": "stream",
     "text": [
      "batchsize: 2048 model: Quat "
     ]
    },
    {
     "name": "stderr",
     "output_type": "stream",
     "text": [
      "100%|██████████| 250/250 [00:06<00:00, 41.01it/s]\n"
     ]
    },
    {
     "name": "stdout",
     "output_type": "stream",
     "text": [
      "batchsize: 1024 model: Real "
     ]
    },
    {
     "name": "stderr",
     "output_type": "stream",
     "text": [
      "100%|██████████| 250/250 [00:05<00:00, 48.52it/s]\n"
     ]
    },
    {
     "name": "stdout",
     "output_type": "stream",
     "text": [
      "batchsize: 1024 model: Quat "
     ]
    },
    {
     "name": "stderr",
     "output_type": "stream",
     "text": [
      "100%|██████████| 250/250 [00:11<00:00, 21.04it/s]\n"
     ]
    },
    {
     "name": "stdout",
     "output_type": "stream",
     "text": [
      "batchsize: 512 model: Real "
     ]
    },
    {
     "name": "stderr",
     "output_type": "stream",
     "text": [
      "100%|██████████| 250/250 [00:10<00:00, 23.90it/s]\n"
     ]
    },
    {
     "name": "stdout",
     "output_type": "stream",
     "text": [
      "batchsize: 512 model: Quat "
     ]
    },
    {
     "name": "stderr",
     "output_type": "stream",
     "text": [
      "100%|██████████| 250/250 [00:23<00:00, 10.46it/s]\n"
     ]
    },
    {
     "name": "stdout",
     "output_type": "stream",
     "text": [
      "batchsize: 256 model: Real "
     ]
    },
    {
     "name": "stderr",
     "output_type": "stream",
     "text": [
      "100%|██████████| 250/250 [00:21<00:00, 11.87it/s]\n"
     ]
    },
    {
     "name": "stdout",
     "output_type": "stream",
     "text": [
      "batchsize: 256 model: Quat "
     ]
    },
    {
     "name": "stderr",
     "output_type": "stream",
     "text": [
      "100%|██████████| 250/250 [00:47<00:00,  5.23it/s]\n"
     ]
    },
    {
     "name": "stdout",
     "output_type": "stream",
     "text": [
      "batchsize: 128 model: Real "
     ]
    },
    {
     "name": "stderr",
     "output_type": "stream",
     "text": [
      "100%|██████████| 250/250 [00:41<00:00,  5.98it/s]\n"
     ]
    },
    {
     "name": "stdout",
     "output_type": "stream",
     "text": [
      "batchsize: 128 model: Quat "
     ]
    },
    {
     "name": "stderr",
     "output_type": "stream",
     "text": [
      "100%|██████████| 250/250 [01:34<00:00,  2.64it/s]\n"
     ]
    },
    {
     "name": "stdout",
     "output_type": "stream",
     "text": [
      "batchsize: 64 model: Real "
     ]
    },
    {
     "name": "stderr",
     "output_type": "stream",
     "text": [
      "100%|██████████| 250/250 [01:21<00:00,  3.06it/s]\n"
     ]
    },
    {
     "name": "stdout",
     "output_type": "stream",
     "text": [
      "batchsize: 64 model: Quat "
     ]
    },
    {
     "name": "stderr",
     "output_type": "stream",
     "text": [
      "100%|██████████| 250/250 [03:07<00:00,  1.34it/s]\n"
     ]
    },
    {
     "name": "stdout",
     "output_type": "stream",
     "text": [
      "batchsize: 32 model: Real "
     ]
    },
    {
     "name": "stderr",
     "output_type": "stream",
     "text": [
      "100%|██████████| 250/250 [02:43<00:00,  1.53it/s]\n"
     ]
    },
    {
     "name": "stdout",
     "output_type": "stream",
     "text": [
      "batchsize: 32 model: Quat "
     ]
    },
    {
     "name": "stderr",
     "output_type": "stream",
     "text": [
      "100%|██████████| 250/250 [06:17<00:00,  1.51s/it]\n"
     ]
    }
   ],
   "source": [
    "batchsizes = []\n",
    "real_accuracies = [[],[]] #test and train\n",
    "quat_accuracies = [[],[]]\n",
    "\n",
    "# for batch_size in [i for i in range(5, 14)]:\n",
    "for batch_size in [32, 64, 100, 150, 200, 250, 300, 350, 400, 450, 500]:\n",
    "    batchsizes.append(batch_size)\n",
    "    for model in [\"real\", \"quat\"]:\n",
    "        if model == \"quat\":\n",
    "            model = Quat()\n",
    "            model.to(device)\n",
    "            optimiser = torch.optim.Adam(model.parameters(), lr=1.2e-3)\n",
    "        elif model == \"real\":\n",
    "            model = Real()\n",
    "            model.to(device)\n",
    "            optimiser = torch.optim.Adam(model.parameters(), lr=1.2e-3)\n",
    "        \n",
    "        # t_f = 0\n",
    "        # t_b = 0\n",
    "        \n",
    "        print(f\"batchsize: {batch_size} model: {model.__class__.__name__}\", end=\" \")\n",
    "        \n",
    "        for epoch in tqdm(range(200)):\n",
    "            for i in range(0, len(x), batch_size):\n",
    "                batch_x, batch_y = x[i:i+batch_size], y[i:i+batch_size].float()\n",
    "                optimiser.zero_grad()\n",
    "                \n",
    "                # t0 = time.time()\n",
    "                output = model(batch_x)\n",
    "                # t_f += time.time() - t0\n",
    "                \n",
    "                # t0 = time.time()\n",
    "                loss = F.mse_loss(output, batch_y)\n",
    "                loss.backward()\n",
    "                # t_b += time.time() - t0\n",
    "\n",
    "                optimiser.step()\n",
    "            # losses.append(loss.item())\n",
    "        if isinstance(model, Real):\n",
    "            real_accuracies[0].append((model(x).argmax(1) == y.argmax(1)).sum().item()*100/len(x))\n",
    "            real_accuracies[1].append((model(x_test).argmax(1) == y_test.argmax(1)).sum().item()*100/len(x_test))\n",
    "        else:\n",
    "            quat_accuracies[0].append((model(x).argmax(1) == y.argmax(1)).sum().item()*100/len(x))\n",
    "            quat_accuracies[1].append((model(x_test).argmax(1) == y_test.argmax(1)).sum().item()*100/len(x_test))"
   ]
  },
  {
   "cell_type": "code",
   "execution_count": 6,
   "metadata": {},
   "outputs": [
    {
     "name": "stdout",
     "output_type": "stream",
     "text": [
      "| Batch Size | Real Train | Real Test | Quat Train | Quat Test |\n",
      "| :---: | :---: | :---: | :---: | :---: |\n",
      "| **8192** | 99.99 | 98.12 | 99.71 | 98.03 |\n",
      "| **4096** | 100.00 | 98.16 | 99.83 | 97.68 |\n",
      "| **2048** | 100.00 | 98.31 | 99.86 | 97.53 |\n",
      "| **1024** | 100.00 | 97.90 | 99.91 | 97.22 |\n",
      "| **512** | 100.00 | 97.79 | 99.93 | 97.41 |\n",
      "| **256** | 100.00 | 97.76 | 99.91 | 97.72 |\n",
      "| **128** | 100.00 | 97.67 | 99.92 | 97.68 |\n",
      "| **64** | 99.98 | 96.85 | 99.91 | 97.27 |\n",
      "| **32** | 99.95 | 96.20 | 99.86 | 97.29 |\n"
     ]
    }
   ],
   "source": [
    "print(\n",
    "\"\"\"| Batch Size | Real Train | Real Test | Quat Train | Quat Test |\n",
    "| :---: | :---: | :---: | :---: | :---: |\"\"\"\n",
    ")\n",
    "for i in range(len(batchsizes)):\n",
    "    print(f\"| **{batchsizes[i]}** | {real_accuracies[0][i]:.2f} | {real_accuracies[1][i]:.2f} | {quat_accuracies[0][i]:.2f} | {quat_accuracies[1][i]:.2f} |\")"
   ]
  },
  {
   "cell_type": "code",
   "execution_count": 7,
   "metadata": {},
   "outputs": [
    {
     "data": {
      "text/plain": [
       "<matplotlib.legend.Legend at 0x7f04996fe380>"
      ]
     },
     "execution_count": 7,
     "metadata": {},
     "output_type": "execute_result"
    },
    {
     "data": {
      "image/png": "[encoded data removed]",
      "text/plain": [
       "<Figure size 640x480 with 1 Axes>"
      ]
     },
     "metadata": {},
     "output_type": "display_data"
    }
   ],
   "source": [
    "plt.plot(batchsizes,real_accuracies[0],label='Real_training accuracy')\n",
    "plt.plot(batchsizes,real_accuracies[1],label='Real_testing accuracy')\n",
    "plt.plot(batchsizes,quat_accuracies[0],label='Quat_training accuracy')\n",
    "plt.plot(batchsizes,quat_accuracies[1],label='Quat_testing accuracy')\n",
    "plt.legend()"
   ]
  }
 ],
 "metadata": {
  "kernelspec": {
   "display_name": "Python 3 (ipykernel)",
   "language": "python",
   "name": "python3"
  },
  "language_info": {
   "codemirror_mode": {
    "name": "ipython",
    "version": 3
   },
   "file_extension": ".py",
   "mimetype": "text/x-python",
   "name": "python",
   "nbconvert_exporter": "python",
   "pygments_lexer": "ipython3",
   "version": "3.10.6"
  },
  "vscode": {
   "interpreter": {
    "hash": "31f2aee4e71d21fbe5cf8b01ff0e069b9275f58929596ceb00d14d90e3e16cd6"
   }
  }
 },
 "nbformat": 4,
 "nbformat_minor": 2
}
