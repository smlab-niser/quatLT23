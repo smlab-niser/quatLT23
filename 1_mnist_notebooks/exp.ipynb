{
 "cells": [
  {
   "cell_type": "code",
   "execution_count": 1,
   "metadata": {},
   "outputs": [],
   "source": [
    "import torch\n",
    "import torch.nn as nn\n",
    "import torch.nn.functional as F\n",
    "import pandas as pd\n",
    "# import matplotlib.pyplot as plt\n",
    "from tqdm import tqdm\n",
    "from htorch import layers\n",
    "import time"
   ]
  },
  {
   "cell_type": "code",
   "execution_count": 2,
   "metadata": {},
   "outputs": [],
   "source": [
    "device = torch.device('cuda:0')\n",
    "\n",
    "data = torch.tensor(pd.read_csv(\"../data/mnist/train.csv\", header=None).values)\n",
    "x, y = (data[:, 1:]/255).float().to(device), torch.nn.functional.one_hot(data[:, 0].long(), 10).to(device)\n",
    "\n",
    "test = torch.tensor(pd.read_csv(\"../data/mnist/test.csv\", header=None).values)\n",
    "x_test, y_test = (test[:, 1:]/255).float().to(device), torch.nn.functional.one_hot(test[:, 0].long(), 10).to(device)"
   ]
  },
  {
   "cell_type": "code",
   "execution_count": 3,
   "metadata": {},
   "outputs": [],
   "source": [
    "class Real(nn.Module): \n",
    "    def __init__(self):\n",
    "        super().__init__()\n",
    "        self.fc1 = nn.Linear(784, 300)\n",
    "        self.fc2 = nn.Linear(300, 100)\n",
    "        self.fc4 = nn.Linear(100, 10)\n",
    "\n",
    "    def forward(self, x):\n",
    "        x = F.relu(self.fc1(x))\n",
    "        x = F.relu(self.fc2(x))\n",
    "        x = self.fc4(x)\n",
    "        return x\n",
    "real_model = Real()\n",
    "real_model.to(device)\n",
    "optimiser = torch.optim.Adam(real_model.parameters(), lr=1.2e-3)"
   ]
  },
  {
   "cell_type": "code",
   "execution_count": 4,
   "metadata": {},
   "outputs": [
    {
     "name": "stderr",
     "output_type": "stream",
     "text": [
      "/home/aritra/project/quartLT23/htorch/quaternion.py:491: UserWarning: Defining your `__torch_function__` as a plain method is deprecated and will be an error in future, please define it as a classmethod. (Triggered internally at ../torch/csrc/utils/python_arg_parser.cpp:350.)\n",
      "  if self.dim() == 1:\n",
      "/home/aritra/project/quartLT23/htorch/quaternion.py:494: UserWarning: Defining your `__torch_function__` as a plain method is deprecated and will be an error in future, please define it as a classmethod. (Triggered internally at ../torch/csrc/utils/python_arg_parser.cpp:350.)\n",
      "  out = self.q[:, :self.shape[1] // 4]\n",
      "/home/aritra/project/quartLT23/htorch/quaternion.py:500: UserWarning: Defining your `__torch_function__` as a plain method is deprecated and will be an error in future, please define it as a classmethod. (Triggered internally at ../torch/csrc/utils/python_arg_parser.cpp:350.)\n",
      "  if self.dim() == 1:\n",
      "/home/aritra/project/quartLT23/htorch/quaternion.py:504: UserWarning: Defining your `__torch_function__` as a plain method is deprecated and will be an error in future, please define it as a classmethod. (Triggered internally at ../torch/csrc/utils/python_arg_parser.cpp:350.)\n",
      "  step = self.shape[1] // 4\n",
      "/home/aritra/project/quartLT23/htorch/quaternion.py:512: UserWarning: Defining your `__torch_function__` as a plain method is deprecated and will be an error in future, please define it as a classmethod. (Triggered internally at ../torch/csrc/utils/python_arg_parser.cpp:350.)\n",
      "  if self.dim() == 1:\n",
      "/home/aritra/project/quartLT23/htorch/quaternion.py:516: UserWarning: Defining your `__torch_function__` as a plain method is deprecated and will be an error in future, please define it as a classmethod. (Triggered internally at ../torch/csrc/utils/python_arg_parser.cpp:350.)\n",
      "  step = self.shape[1] // 4\n",
      "/home/aritra/project/quartLT23/htorch/quaternion.py:524: UserWarning: Defining your `__torch_function__` as a plain method is deprecated and will be an error in future, please define it as a classmethod. (Triggered internally at ../torch/csrc/utils/python_arg_parser.cpp:350.)\n",
      "  if self.dim() == 1:\n",
      "/home/aritra/project/quartLT23/htorch/quaternion.py:528: UserWarning: Defining your `__torch_function__` as a plain method is deprecated and will be an error in future, please define it as a classmethod. (Triggered internally at ../torch/csrc/utils/python_arg_parser.cpp:350.)\n",
      "  step = self.shape[1] // 4\n",
      "/home/aritra/project/quartLT23/htorch/quaternion.py:224: UserWarning: Defining your `__torch_function__` as a plain method is deprecated and will be an error in future, please define it as a classmethod. (Triggered internally at ../torch/csrc/utils/python_arg_parser.cpp:350.)\n",
      "  if other.dim() > 1 and self.dim() > 1:\n",
      "/home/aritra/project/quartLT23/htorch/quaternion.py:225: UserWarning: Defining your `__torch_function__` as a plain method is deprecated and will be an error in future, please define it as a classmethod. (Triggered internally at ../torch/csrc/utils/python_arg_parser.cpp:350.)\n",
      "  if other.shape[1] * 4 == self.shape[1]:\n",
      "/home/aritra/project/quartLT23/htorch/quaternion.py:242: UserWarning: Defining your `__torch_function__` as a plain method is deprecated and will be an error in future, please define it as a classmethod. (Triggered internally at ../torch/csrc/utils/python_arg_parser.cpp:350.)\n",
      "  return torch.Tensor.div(input1, input2)\n",
      "/home/aritra/project/quartLT23/htorch/quaternion.py:678: UserWarning: Defining your `__torch_function__` as a plain method is deprecated and will be an error in future, please define it as a classmethod. (Triggered internally at ../torch/csrc/utils/python_arg_parser.cpp:350.)\n",
      "  return torch.div(self, other)\n",
      "/home/aritra/project/quartLT23/htorch/quaternion.py:466: UserWarning: Defining your `__torch_function__` as a plain method is deprecated and will be an error in future, please define it as a classmethod. (Triggered internally at ../torch/csrc/utils/python_arg_parser.cpp:350.)\n",
      "  return super().__new__(cls, q.cpu(), *args, **kwargs)\n",
      "/home/aritra/project/quartLT23/htorch/quaternion.py:487: UserWarning: Defining your `__torch_function__` as a plain method is deprecated and will be an error in future, please define it as a classmethod. (Triggered internally at ../torch/csrc/utils/python_arg_parser.cpp:350.)\n",
      "  self.q.grad = None\n",
      "/home/aritra/project/quartLT23/htorch/quaternion.py:543: UserWarning: Defining your `__torch_function__` as a plain method is deprecated and will be an error in future, please define it as a classmethod. (Triggered internally at ../torch/csrc/utils/python_arg_parser.cpp:350.)\n",
      "  return func(*args, **kwargs)\n",
      "/home/aritra/project/quartLT23/htorch/quaternion.py:166: UserWarning: Defining your `__torch_function__` as a plain method is deprecated and will be an error in future, please define it as a classmethod. (Triggered internally at ../torch/csrc/utils/python_arg_parser.cpp:350.)\n",
      "  if other.shape[1] * 4 == self.shape[1]:\n",
      "/home/aritra/project/quartLT23/htorch/quaternion.py:183: UserWarning: Defining your `__torch_function__` as a plain method is deprecated and will be an error in future, please define it as a classmethod. (Triggered internally at ../torch/csrc/utils/python_arg_parser.cpp:350.)\n",
      "  return torch.Tensor.mul(input1, input2)\n",
      "/home/aritra/project/quartLT23/htorch/quaternion.py:648: UserWarning: Defining your `__torch_function__` as a plain method is deprecated and will be an error in future, please define it as a classmethod. (Triggered internally at ../torch/csrc/utils/python_arg_parser.cpp:350.)\n",
      "  return torch.mul(self, other)\n",
      "/home/aritra/project/quartLT23/htorch/quaternion.py:90: UserWarning: Defining your `__torch_function__` as a plain method is deprecated and will be an error in future, please define it as a classmethod. (Triggered internally at ../torch/csrc/utils/python_arg_parser.cpp:350.)\n",
      "  if np.prod(self.shape) != 4:\n",
      "/home/aritra/project/quartLT23/htorch/quaternion.py:94: UserWarning: Defining your `__torch_function__` as a plain method is deprecated and will be an error in future, please define it as a classmethod. (Triggered internally at ../torch/csrc/utils/python_arg_parser.cpp:350.)\n",
      "  if other.dim() > 1 and self.dim() > 1:\n",
      "/home/aritra/project/quartLT23/htorch/quaternion.py:95: UserWarning: Defining your `__torch_function__` as a plain method is deprecated and will be an error in future, please define it as a classmethod. (Triggered internally at ../torch/csrc/utils/python_arg_parser.cpp:350.)\n",
      "  if other.shape[1] * 4 == self.shape[1]:\n",
      "/home/aritra/project/quartLT23/htorch/quaternion.py:505: UserWarning: Defining your `__torch_function__` as a plain method is deprecated and will be an error in future, please define it as a classmethod. (Triggered internally at ../torch/csrc/utils/python_arg_parser.cpp:350.)\n",
      "  out = self.q[:, step:step * 2]\n",
      "/home/aritra/project/quartLT23/htorch/quaternion.py:517: UserWarning: Defining your `__torch_function__` as a plain method is deprecated and will be an error in future, please define it as a classmethod. (Triggered internally at ../torch/csrc/utils/python_arg_parser.cpp:350.)\n",
      "  out = self.q[:, step * 2:step * 3]\n",
      "/home/aritra/project/quartLT23/htorch/quaternion.py:529: UserWarning: Defining your `__torch_function__` as a plain method is deprecated and will be an error in future, please define it as a classmethod. (Triggered internally at ../torch/csrc/utils/python_arg_parser.cpp:350.)\n",
      "  out = self.q[:, step * 3:]\n",
      "/home/aritra/project/quartLT23/htorch/quaternion.py:131: UserWarning: Defining your `__torch_function__` as a plain method is deprecated and will be an error in future, please define it as a classmethod. (Triggered internally at ../torch/csrc/utils/python_arg_parser.cpp:350.)\n",
      "  return torch.Tensor.add(input1, input2)\n",
      "/home/aritra/project/quartLT23/htorch/functions.py:46: UserWarning: Defining your `__torch_function__` as a plain method is deprecated and will be an error in future, please define it as a classmethod. (Triggered internally at ../torch/csrc/utils/python_arg_parser.cpp:350.)\n",
      "  mat += r\n"
     ]
    }
   ],
   "source": [
    "class Quat(nn.Module):\n",
    "    def __init__(self):\n",
    "        super().__init__()\n",
    "        self.fc1 = layers.QLinear(196, 75)\n",
    "        self.fc2 = layers.QLinear(75, 25)\n",
    "        self.fc3 = nn.Linear(100, 10)\n",
    "\n",
    "    def forward(self, x):\n",
    "        # x = torch.flatten(x, 1)\n",
    "        x = F.relu(self.fc1(x))\n",
    "        x = F.relu(self.fc2(x))\n",
    "        x = self.fc3(x)\n",
    "        return x\n",
    "quat_model = Quat()\n",
    "quat_model.to(device)\n",
    "optimiser = torch.optim.Adam(quat_model.parameters(), lr=1.2e-3)"
   ]
  },
  {
   "cell_type": "code",
   "execution_count": 5,
   "metadata": {},
   "outputs": [
    {
     "name": "stderr",
     "output_type": "stream",
     "text": [
      "100%|██████████| 1000/1000 [00:09<00:00, 108.75it/s]\n"
     ]
    },
    {
     "name": "stdout",
     "output_type": "stream",
     "text": [
      "\n",
      "            <tr>\n",
      "            <td rowspan=\"2\"><b>8192</b></td>\n",
      "            <td><b>Real</b></td>\n",
      "            <td>3.128ms</td>\n",
      "            <td>1.625ms</td>\n",
      "            </tr>\n"
     ]
    },
    {
     "name": "stderr",
     "output_type": "stream",
     "text": [
      "100%|██████████| 1000/1000 [00:20<00:00, 48.44it/s]\n"
     ]
    },
    {
     "name": "stdout",
     "output_type": "stream",
     "text": [
      "\n",
      "            <tr>\n",
      "            <td><b>Quart</b></td>\n",
      "            <td>13.213ms</td>\n",
      "            <td>3.845ms</td>\n",
      "            </tr>\n"
     ]
    },
    {
     "name": "stderr",
     "output_type": "stream",
     "text": [
      "100%|██████████| 1000/1000 [00:11<00:00, 90.47it/s]\n"
     ]
    },
    {
     "name": "stdout",
     "output_type": "stream",
     "text": [
      "\n",
      "            <tr>\n",
      "            <td rowspan=\"2\"><b>4096</b></td>\n",
      "            <td><b>Real</b></td>\n",
      "            <td>3.149ms</td>\n",
      "            <td>2.665ms</td>\n",
      "            </tr>\n"
     ]
    },
    {
     "name": "stderr",
     "output_type": "stream",
     "text": [
      "100%|██████████| 1000/1000 [00:30<00:00, 32.92it/s]\n"
     ]
    },
    {
     "name": "stdout",
     "output_type": "stream",
     "text": [
      "\n",
      "            <tr>\n",
      "            <td><b>Quart</b></td>\n",
      "            <td>16.693ms</td>\n",
      "            <td>7.080ms</td>\n",
      "            </tr>\n"
     ]
    },
    {
     "name": "stderr",
     "output_type": "stream",
     "text": [
      "100%|██████████| 1000/1000 [00:14<00:00, 67.58it/s]\n"
     ]
    },
    {
     "name": "stdout",
     "output_type": "stream",
     "text": [
      "\n",
      "            <tr>\n",
      "            <td rowspan=\"2\"><b>2048</b></td>\n",
      "            <td><b>Real</b></td>\n",
      "            <td>1.876ms</td>\n",
      "            <td>6.007ms</td>\n",
      "            </tr>\n"
     ]
    },
    {
     "name": "stderr",
     "output_type": "stream",
     "text": [
      "100%|██████████| 1000/1000 [00:50<00:00, 19.65it/s]\n"
     ]
    },
    {
     "name": "stdout",
     "output_type": "stream",
     "text": [
      "\n",
      "            <tr>\n",
      "            <td><b>Quart</b></td>\n",
      "            <td>24.539ms</td>\n",
      "            <td>13.378ms</td>\n",
      "            </tr>\n"
     ]
    },
    {
     "name": "stderr",
     "output_type": "stream",
     "text": [
      "100%|██████████| 1000/1000 [00:23<00:00, 43.03it/s]\n"
     ]
    },
    {
     "name": "stdout",
     "output_type": "stream",
     "text": [
      "\n",
      "            <tr>\n",
      "            <td rowspan=\"2\"><b>1024</b></td>\n",
      "            <td><b>Real</b></td>\n",
      "            <td>2.773ms</td>\n",
      "            <td>8.011ms</td>\n",
      "            </tr>\n"
     ]
    },
    {
     "name": "stderr",
     "output_type": "stream",
     "text": [
      "100%|██████████| 1000/1000 [01:27<00:00, 11.39it/s]\n"
     ]
    },
    {
     "name": "stdout",
     "output_type": "stream",
     "text": [
      "\n",
      "            <tr>\n",
      "            <td><b>Quart</b></td>\n",
      "            <td>37.976ms</td>\n",
      "            <td>24.690ms</td>\n",
      "            </tr>\n"
     ]
    },
    {
     "name": "stderr",
     "output_type": "stream",
     "text": [
      "100%|██████████| 1000/1000 [00:49<00:00, 20.12it/s]\n"
     ]
    },
    {
     "name": "stdout",
     "output_type": "stream",
     "text": [
      "\n",
      "            <tr>\n",
      "            <td rowspan=\"2\"><b>512</b></td>\n",
      "            <td><b>Real</b></td>\n",
      "            <td>5.839ms</td>\n",
      "            <td>17.781ms</td>\n",
      "            </tr>\n"
     ]
    },
    {
     "name": "stderr",
     "output_type": "stream",
     "text": [
      "100%|██████████| 1000/1000 [02:07<00:00,  7.83it/s]\n"
     ]
    },
    {
     "name": "stdout",
     "output_type": "stream",
     "text": [
      "\n",
      "            <tr>\n",
      "            <td><b>Quart</b></td>\n",
      "            <td>44.843ms</td>\n",
      "            <td>37.602ms</td>\n",
      "            </tr>\n"
     ]
    },
    {
     "name": "stderr",
     "output_type": "stream",
     "text": [
      "100%|██████████| 1000/1000 [01:22<00:00, 12.09it/s]\n"
     ]
    },
    {
     "name": "stdout",
     "output_type": "stream",
     "text": [
      "\n",
      "            <tr>\n",
      "            <td rowspan=\"2\"><b>256</b></td>\n",
      "            <td><b>Real</b></td>\n",
      "            <td>10.550ms</td>\n",
      "            <td>26.472ms</td>\n",
      "            </tr>\n"
     ]
    },
    {
     "name": "stderr",
     "output_type": "stream",
     "text": [
      "100%|██████████| 1000/1000 [03:33<00:00,  4.68it/s]\n"
     ]
    },
    {
     "name": "stdout",
     "output_type": "stream",
     "text": [
      "\n",
      "            <tr>\n",
      "            <td><b>Quart</b></td>\n",
      "            <td>62.014ms</td>\n",
      "            <td>66.589ms</td>\n",
      "            </tr>\n"
     ]
    },
    {
     "name": "stderr",
     "output_type": "stream",
     "text": [
      "100%|██████████| 1000/1000 [02:43<00:00,  6.11it/s]\n"
     ]
    },
    {
     "name": "stdout",
     "output_type": "stream",
     "text": [
      "\n",
      "            <tr>\n",
      "            <td rowspan=\"2\"><b>128</b></td>\n",
      "            <td><b>Real</b></td>\n",
      "            <td>21.356ms</td>\n",
      "            <td>51.359ms</td>\n",
      "            </tr>\n"
     ]
    },
    {
     "name": "stderr",
     "output_type": "stream",
     "text": [
      "100%|██████████| 1000/1000 [06:44<00:00,  2.47it/s]\n"
     ]
    },
    {
     "name": "stdout",
     "output_type": "stream",
     "text": [
      "\n",
      "            <tr>\n",
      "            <td><b>Quart</b></td>\n",
      "            <td>106.219ms</td>\n",
      "            <td>130.599ms</td>\n",
      "            </tr>\n"
     ]
    },
    {
     "name": "stderr",
     "output_type": "stream",
     "text": [
      "100%|██████████| 1000/1000 [05:21<00:00,  3.11it/s]\n"
     ]
    },
    {
     "name": "stdout",
     "output_type": "stream",
     "text": [
      "\n",
      "            <tr>\n",
      "            <td rowspan=\"2\"><b>64</b></td>\n",
      "            <td><b>Real</b></td>\n",
      "            <td>40.802ms</td>\n",
      "            <td>99.218ms</td>\n",
      "            </tr>\n"
     ]
    },
    {
     "name": "stderr",
     "output_type": "stream",
     "text": [
      "100%|██████████| 1000/1000 [14:18<00:00,  1.16it/s]\n"
     ]
    },
    {
     "name": "stdout",
     "output_type": "stream",
     "text": [
      "\n",
      "            <tr>\n",
      "            <td><b>Quart</b></td>\n",
      "            <td>219.722ms</td>\n",
      "            <td>285.788ms</td>\n",
      "            </tr>\n"
     ]
    },
    {
     "name": "stderr",
     "output_type": "stream",
     "text": [
      "100%|██████████| 1000/1000 [12:00<00:00,  1.39it/s]\n"
     ]
    },
    {
     "name": "stdout",
     "output_type": "stream",
     "text": [
      "\n",
      "            <tr>\n",
      "            <td rowspan=\"2\"><b>32</b></td>\n",
      "            <td><b>Real</b></td>\n",
      "            <td>89.829ms</td>\n",
      "            <td>236.377ms</td>\n",
      "            </tr>\n"
     ]
    },
    {
     "name": "stderr",
     "output_type": "stream",
     "text": [
      "100%|██████████| 1000/1000 [29:40<00:00,  1.78s/it]"
     ]
    },
    {
     "name": "stdout",
     "output_type": "stream",
     "text": [
      "\n",
      "            <tr>\n",
      "            <td><b>Quart</b></td>\n",
      "            <td>447.518ms</td>\n",
      "            <td>605.504ms</td>\n",
      "            </tr>\n"
     ]
    },
    {
     "name": "stderr",
     "output_type": "stream",
     "text": [
      "\n"
     ]
    }
   ],
   "source": [
    "for batch_size in [2**(i) for i in range(5, 14)][::-1]:\n",
    "    for model in [\"real\", \"quat\"]:\n",
    "        if model == \"quat\":\n",
    "            model = Quat()\n",
    "            model.to(device)\n",
    "            optimiser = torch.optim.Adam(model.parameters(), lr=1.2e-3)\n",
    "        elif model == \"real\":\n",
    "            model = Real()\n",
    "            model.to(device)\n",
    "            optimiser = torch.optim.Adam(model.parameters(), lr=1.2e-3)\n",
    "        \n",
    "        t_f = 0\n",
    "        t_b = 0\n",
    "        \n",
    "        for epoch in tqdm(range(1000)):\n",
    "            for i in range(0, len(x), batch_size):\n",
    "                batch_x, batch_y = x[i:i+batch_size], y[i:i+batch_size].float()\n",
    "                optimiser.zero_grad()\n",
    "                \n",
    "                t0 = time.time()\n",
    "                output = model(batch_x)\n",
    "                t_f += time.time() - t0\n",
    "                \n",
    "                t0 = time.time()\n",
    "                loss = F.mse_loss(output, batch_y)\n",
    "                loss.backward()\n",
    "                t_b += time.time() - t0\n",
    "                \n",
    "                optimiser.step()\n",
    "            # losses.append(loss.item())\n",
    "        if isinstance(model, Real):\n",
    "            message = f\"\"\"<tr>\n",
    "            <td rowspan=\"2\"><b>{batch_size}</b></td>\n",
    "            <td><b>Real</b></td>\n",
    "            <td>{t_f:.3f}ms</td>\n",
    "            <td>{t_b:.3f}ms</td>\n",
    "            </tr>\"\"\"\n",
    "        else:\n",
    "            message = f\"\"\"<tr>\n",
    "            <td><b>Quart</b></td>\n",
    "            <td>{t_f:.3f}ms</td>\n",
    "            <td>{t_b:.3f}ms</td>\n",
    "            </tr>\"\"\"\n",
    "        print(message)"
   ]
  }
 ],
 "metadata": {
  "kernelspec": {
   "display_name": "Python 3 (ipykernel)",
   "language": "python",
   "name": "python3"
  },
  "language_info": {
   "codemirror_mode": {
    "name": "ipython",
    "version": 3
   },
   "file_extension": ".py",
   "mimetype": "text/x-python",
   "name": "python",
   "nbconvert_exporter": "python",
   "pygments_lexer": "ipython3",
   "version": "3.10.6"
  },
  "vscode": {
   "interpreter": {
    "hash": "31f2aee4e71d21fbe5cf8b01ff0e069b9275f58929596ceb00d14d90e3e16cd6"
   }
  }
 },
 "nbformat": 4,
 "nbformat_minor": 2
}
