{
 "cells": [
  {
   "cell_type": "code",
   "execution_count": 1,
   "metadata": {},
   "outputs": [],
   "source": [
    "import torch\n",
    "import torch.nn as nn\n",
    "import torch.nn.functional as F\n",
    "import pandas as pd\n",
    "# import matplotlib.pyplot as plt\n",
    "from tqdm import tqdm\n",
    "from htorch import layers\n",
    "import time"
   ]
  },
  {
   "cell_type": "code",
   "execution_count": 2,
   "metadata": {},
   "outputs": [],
   "source": [
    "device = torch.device('cuda:0')\n",
    "\n",
    "data = torch.tensor(pd.read_csv(\"../data/mnist/train.csv\", header=None).values)\n",
    "x, y = (data[:, 1:]/255).float().to(device), torch.nn.functional.one_hot(data[:, 0].long(), 10).to(device)\n",
    "\n",
    "test = torch.tensor(pd.read_csv(\"../data/mnist/test.csv\", header=None).values)\n",
    "x_test, y_test = (test[:, 1:]/255).float().to(device), torch.nn.functional.one_hot(test[:, 0].long(), 10).to(device)"
   ]
  },
  {
   "cell_type": "code",
   "execution_count": 3,
   "metadata": {},
   "outputs": [],
   "source": [
    "class Real(nn.Module): \n",
    "    def __init__(self):\n",
    "        super().__init__()\n",
    "        self.fc1 = nn.Linear(784, 300)\n",
    "        self.fc2 = nn.Linear(300, 100)\n",
    "        self.fc4 = nn.Linear(100, 10)\n",
    "\n",
    "    def forward(self, x):\n",
    "        x = F.relu(self.fc1(x))\n",
    "        x = F.relu(self.fc2(x))\n",
    "        x = self.fc4(x)\n",
    "        return x\n",
    "real_model = Real()\n",
    "real_model.to(device)\n",
    "optimiser = torch.optim.Adam(real_model.parameters(), lr=1.2e-3)"
   ]
  },
  {
   "cell_type": "code",
   "execution_count": 4,
   "metadata": {},
   "outputs": [],
   "source": [
    "class Quat(nn.Module):\n",
    "    def __init__(self):\n",
    "        super().__init__()\n",
    "        self.fc1 = layers.QLinear(196, 75)\n",
    "        self.fc2 = layers.QLinear(75, 25)\n",
    "        self.fc3 = nn.Linear(100, 10)\n",
    "\n",
    "    def forward(self, x):\n",
    "        # x = torch.flatten(x, 1)\n",
    "        x = F.relu(self.fc1(x))\n",
    "        x = F.relu(self.fc2(x))\n",
    "        x = self.fc3(x)\n",
    "        return x\n",
    "quat_model = Quat()\n",
    "quat_model.to(device)\n",
    "optimiser = torch.optim.Adam(quat_model.parameters(), lr=1.2e-3)"
   ]
  },
  {
   "cell_type": "code",
   "execution_count": 5,
   "metadata": {},
   "outputs": [
    {
     "name": "stderr",
     "output_type": "stream",
     "text": [
      "100%|██████████| 1000/1000 [00:07<00:00, 125.57it/s]\n"
     ]
    },
    {
     "name": "stdout",
     "output_type": "stream",
     "text": [
      "<tr>\n",
      "            <td rowspan=\"2\"><b>8192</b></td>\n",
      "            <td><b>Real</b></td>\n",
      "            <td>2.833ms</td>\n",
      "            <td>1.224ms</td>\n",
      "            </tr>\n"
     ]
    },
    {
     "name": "stderr",
     "output_type": "stream",
     "text": [
      "100%|██████████| 1000/1000 [00:09<00:00, 110.45it/s]\n"
     ]
    },
    {
     "name": "stdout",
     "output_type": "stream",
     "text": [
      "<tr>\n",
      "            <td><b>Quart</b></td>\n",
      "            <td>1.741ms</td>\n",
      "            <td>4.409ms</td>\n",
      "            </tr>\n"
     ]
    },
    {
     "name": "stderr",
     "output_type": "stream",
     "text": [
      "100%|██████████| 1000/1000 [00:09<00:00, 105.14it/s]\n"
     ]
    },
    {
     "name": "stdout",
     "output_type": "stream",
     "text": [
      "<tr>\n",
      "            <td rowspan=\"2\"><b>4096</b></td>\n",
      "            <td><b>Real</b></td>\n",
      "            <td>2.824ms</td>\n",
      "            <td>1.982ms</td>\n",
      "            </tr>\n"
     ]
    },
    {
     "name": "stderr",
     "output_type": "stream",
     "text": [
      "100%|██████████| 1000/1000 [00:12<00:00, 81.27it/s]\n"
     ]
    },
    {
     "name": "stdout",
     "output_type": "stream",
     "text": [
      "<tr>\n",
      "            <td><b>Quart</b></td>\n",
      "            <td>2.479ms</td>\n",
      "            <td>4.425ms</td>\n",
      "            </tr>\n"
     ]
    },
    {
     "name": "stderr",
     "output_type": "stream",
     "text": [
      "100%|██████████| 1000/1000 [00:12<00:00, 78.14it/s]\n"
     ]
    },
    {
     "name": "stdout",
     "output_type": "stream",
     "text": [
      "<tr>\n",
      "            <td rowspan=\"2\"><b>2048</b></td>\n",
      "            <td><b>Real</b></td>\n",
      "            <td>1.712ms</td>\n",
      "            <td>5.231ms</td>\n",
      "            </tr>\n"
     ]
    },
    {
     "name": "stderr",
     "output_type": "stream",
     "text": [
      "100%|██████████| 1000/1000 [00:24<00:00, 41.33it/s]\n"
     ]
    },
    {
     "name": "stdout",
     "output_type": "stream",
     "text": [
      "<tr>\n",
      "            <td><b>Quart</b></td>\n",
      "            <td>4.904ms</td>\n",
      "            <td>8.499ms</td>\n",
      "            </tr>\n"
     ]
    },
    {
     "name": "stderr",
     "output_type": "stream",
     "text": [
      "100%|██████████| 1000/1000 [00:20<00:00, 47.81it/s]\n"
     ]
    },
    {
     "name": "stdout",
     "output_type": "stream",
     "text": [
      "<tr>\n",
      "            <td rowspan=\"2\"><b>1024</b></td>\n",
      "            <td><b>Real</b></td>\n",
      "            <td>2.488ms</td>\n",
      "            <td>6.930ms</td>\n",
      "            </tr>\n"
     ]
    },
    {
     "name": "stderr",
     "output_type": "stream",
     "text": [
      "100%|██████████| 1000/1000 [00:48<00:00, 20.81it/s]\n"
     ]
    },
    {
     "name": "stdout",
     "output_type": "stream",
     "text": [
      "<tr>\n",
      "            <td><b>Quart</b></td>\n",
      "            <td>9.589ms</td>\n",
      "            <td>17.100ms</td>\n",
      "            </tr>\n"
     ]
    },
    {
     "name": "stderr",
     "output_type": "stream",
     "text": [
      "100%|██████████| 1000/1000 [00:41<00:00, 24.06it/s]\n"
     ]
    },
    {
     "name": "stdout",
     "output_type": "stream",
     "text": [
      "<tr>\n",
      "            <td rowspan=\"2\"><b>512</b></td>\n",
      "            <td><b>Real</b></td>\n",
      "            <td>4.959ms</td>\n",
      "            <td>13.531ms</td>\n",
      "            </tr>\n"
     ]
    },
    {
     "name": "stderr",
     "output_type": "stream",
     "text": [
      "100%|██████████| 1000/1000 [01:34<00:00, 10.57it/s]\n"
     ]
    },
    {
     "name": "stdout",
     "output_type": "stream",
     "text": [
      "<tr>\n",
      "            <td><b>Quart</b></td>\n",
      "            <td>19.205ms</td>\n",
      "            <td>33.230ms</td>\n",
      "            </tr>\n"
     ]
    },
    {
     "name": "stderr",
     "output_type": "stream",
     "text": [
      "100%|██████████| 1000/1000 [01:22<00:00, 12.15it/s]\n"
     ]
    },
    {
     "name": "stdout",
     "output_type": "stream",
     "text": [
      "<tr>\n",
      "            <td rowspan=\"2\"><b>256</b></td>\n",
      "            <td><b>Real</b></td>\n",
      "            <td>10.350ms</td>\n",
      "            <td>26.507ms</td>\n",
      "            </tr>\n"
     ]
    },
    {
     "name": "stderr",
     "output_type": "stream",
     "text": [
      "100%|██████████| 1000/1000 [03:07<00:00,  5.33it/s]\n"
     ]
    },
    {
     "name": "stdout",
     "output_type": "stream",
     "text": [
      "<tr>\n",
      "            <td><b>Quart</b></td>\n",
      "            <td>38.441ms</td>\n",
      "            <td>65.430ms</td>\n",
      "            </tr>\n"
     ]
    },
    {
     "name": "stderr",
     "output_type": "stream",
     "text": [
      "100%|██████████| 1000/1000 [02:43<00:00,  6.11it/s]\n"
     ]
    },
    {
     "name": "stdout",
     "output_type": "stream",
     "text": [
      "<tr>\n",
      "            <td rowspan=\"2\"><b>128</b></td>\n",
      "            <td><b>Real</b></td>\n",
      "            <td>20.993ms</td>\n",
      "            <td>51.605ms</td>\n",
      "            </tr>\n"
     ]
    },
    {
     "name": "stderr",
     "output_type": "stream",
     "text": [
      "100%|██████████| 1000/1000 [06:11<00:00,  2.69it/s]\n"
     ]
    },
    {
     "name": "stdout",
     "output_type": "stream",
     "text": [
      "<tr>\n",
      "            <td><b>Quart</b></td>\n",
      "            <td>75.729ms</td>\n",
      "            <td>129.030ms</td>\n",
      "            </tr>\n"
     ]
    },
    {
     "name": "stderr",
     "output_type": "stream",
     "text": [
      "100%|██████████| 1000/1000 [05:20<00:00,  3.12it/s]\n"
     ]
    },
    {
     "name": "stdout",
     "output_type": "stream",
     "text": [
      "<tr>\n",
      "            <td rowspan=\"2\"><b>64</b></td>\n",
      "            <td><b>Real</b></td>\n",
      "            <td>40.321ms</td>\n",
      "            <td>99.586ms</td>\n",
      "            </tr>\n"
     ]
    },
    {
     "name": "stderr",
     "output_type": "stream",
     "text": [
      "100%|██████████| 1000/1000 [12:11<00:00,  1.37it/s]\n"
     ]
    },
    {
     "name": "stdout",
     "output_type": "stream",
     "text": [
      "<tr>\n",
      "            <td><b>Quart</b></td>\n",
      "            <td>148.626ms</td>\n",
      "            <td>253.968ms</td>\n",
      "            </tr>\n"
     ]
    },
    {
     "name": "stderr",
     "output_type": "stream",
     "text": [
      "100%|██████████| 1000/1000 [10:39<00:00,  1.56it/s]\n"
     ]
    },
    {
     "name": "stdout",
     "output_type": "stream",
     "text": [
      "<tr>\n",
      "            <td rowspan=\"2\"><b>32</b></td>\n",
      "            <td><b>Real</b></td>\n",
      "            <td>80.087ms</td>\n",
      "            <td>200.908ms</td>\n",
      "            </tr>\n"
     ]
    },
    {
     "name": "stderr",
     "output_type": "stream",
     "text": [
      "100%|██████████| 1000/1000 [24:27<00:00,  1.47s/it]"
     ]
    },
    {
     "name": "stdout",
     "output_type": "stream",
     "text": [
      "<tr>\n",
      "            <td><b>Quart</b></td>\n",
      "            <td>297.166ms</td>\n",
      "            <td>510.735ms</td>\n",
      "            </tr>\n"
     ]
    },
    {
     "name": "stderr",
     "output_type": "stream",
     "text": [
      "\n"
     ]
    }
   ],
   "source": [
    "for batch_size in [2**(i) for i in range(5, 14)][::-1]:\n",
    "    for model in [\"real\", \"quat\"]:\n",
    "        if model == \"quat\":\n",
    "            model = Quat()\n",
    "            model.to(device)\n",
    "            optimiser = torch.optim.Adam(model.parameters(), lr=1.2e-3)\n",
    "        elif model == \"real\":\n",
    "            model = Real()\n",
    "            model.to(device)\n",
    "            optimiser = torch.optim.Adam(model.parameters(), lr=1.2e-3)\n",
    "        \n",
    "        t_f = 0\n",
    "        t_b = 0\n",
    "        \n",
    "        for epoch in tqdm(range(1000)):\n",
    "            for i in range(0, len(x), batch_size):\n",
    "                batch_x, batch_y = x[i:i+batch_size], y[i:i+batch_size].float()\n",
    "                optimiser.zero_grad()\n",
    "                \n",
    "                t0 = time.time()\n",
    "                output = model(batch_x)\n",
    "                t_f += time.time() - t0\n",
    "                \n",
    "                t0 = time.time()\n",
    "                loss = F.mse_loss(output, batch_y)\n",
    "                loss.backward()\n",
    "                t_b += time.time() - t0\n",
    "                \n",
    "                optimiser.step()\n",
    "            # losses.append(loss.item())\n",
    "        if isinstance(model, Real):\n",
    "            message = f\"\"\"<tr>\n",
    "            <td rowspan=\"2\"><b>{batch_size}</b></td>\n",
    "            <td><b>Real</b></td>\n",
    "            <td>{t_f:.3f}ms</td>\n",
    "            <td>{t_b:.3f}ms</td>\n",
    "            </tr>\"\"\"\n",
    "        else:\n",
    "            message = f\"\"\"<tr>\n",
    "            <td><b>Quat</b></td>\n",
    "            <td>{t_f:.3f}ms</td>\n",
    "            <td>{t_b:.3f}ms</td>\n",
    "            </tr>\"\"\"\n",
    "        print(message)"
   ]
  }
 ],
 "metadata": {
  "kernelspec": {
   "display_name": "Python 3 (ipykernel)",
   "language": "python",
   "name": "python3"
  },
  "language_info": {
   "codemirror_mode": {
    "name": "ipython",
    "version": 3
   },
   "file_extension": ".py",
   "mimetype": "text/x-python",
   "name": "python",
   "nbconvert_exporter": "python",
   "pygments_lexer": "ipython3",
   "version": "3.10.6"
  },
  "vscode": {
   "interpreter": {
    "hash": "31f2aee4e71d21fbe5cf8b01ff0e069b9275f58929596ceb00d14d90e3e16cd6"
   }
  }
 },
 "nbformat": 4,
 "nbformat_minor": 2
}
