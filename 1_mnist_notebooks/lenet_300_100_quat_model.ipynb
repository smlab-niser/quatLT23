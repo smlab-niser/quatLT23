{
 "cells": [
  {
   "cell_type": "code",
   "execution_count": 1,
   "metadata": {},
   "outputs": [],
   "source": [
    "import torch\n",
    "import torch.nn as nn\n",
    "import torch.nn.functional as F\n",
    "import pandas as pd\n",
    "import matplotlib.pyplot as plt\n",
    "from tqdm import tqdm\n",
    "from htorch import layers\n",
    "import time"
   ]
  },
  {
   "cell_type": "code",
   "execution_count": 2,
   "metadata": {},
   "outputs": [],
   "source": [
    "device = torch.device('cpu')\n",
    "\n",
    "data = torch.tensor(pd.read_csv(\"../data/mnist/train.csv\", header=None).values)\n",
    "x, y = (data[:, 1:]/255).float().to(device), torch.nn.functional.one_hot(data[:, 0].long(), 10).to(device)\n",
    "\n",
    "test = torch.tensor(pd.read_csv(\"../data/mnist/test.csv\", header=None).values)\n",
    "x_test, y_test = (test[:, 1:]/255).float().to(device), torch.nn.functional.one_hot(test[:, 0].long(), 10).to(device)"
   ]
  },
  {
   "cell_type": "code",
   "execution_count": 3,
   "metadata": {},
   "outputs": [
    {
     "name": "stdout",
     "output_type": "stream",
     "text": [
      "scale = 0.025253813613805267\n",
      "img_mat = tensor([[ 0.2487, -0.7623,  0.4338,  ...,  0.9388,  0.7033, -0.7972],\n",
      "        [ 0.6684, -0.0946, -0.1756,  ..., -0.9971, -0.6412,  0.4621],\n",
      "        [ 0.6433,  0.9782,  0.6268,  ..., -0.6094,  0.0790, -0.3066],\n",
      "        ...,\n",
      "        [-0.3207,  0.1750,  0.7024,  ...,  0.5215, -0.6097, -0.7213],\n",
      "        [ 0.0964, -0.2245,  0.5541,  ..., -0.5793,  0.8000, -0.5365],\n",
      "        [-0.6700, -0.1994, -0.5265,  ...,  0.0184, -0.9387,  0.5279]])\n",
      "r.shape = torch.Size([196, 75]) i.shape = torch.Size([196, 75]) j.shape = torch.Size([196, 75]) k.shape = torch.Size([196, 75])\n",
      "scale = 0.040824829046386304\n",
      "img_mat = tensor([[ 0.9424,  0.9341,  0.5188,  ..., -0.1208,  0.2544, -0.0768],\n",
      "        [-0.0553,  0.5031,  0.9847,  ..., -0.1914,  0.7617, -0.5287],\n",
      "        [ 0.0708,  0.7721,  0.8971,  ..., -0.9540,  0.6323, -0.9205],\n",
      "        ...,\n",
      "        [-0.8344, -0.1185, -0.3041,  ..., -0.4586, -0.4662,  0.8545],\n",
      "        [-0.6151, -0.5624,  0.4542,  ...,  0.5084,  0.5734,  0.7341],\n",
      "        [-0.1746,  0.1880,  0.1507,  ...,  0.9751,  0.5862, -0.1178]])\n",
      "r.shape = torch.Size([75, 25]) i.shape = torch.Size([75, 25]) j.shape = torch.Size([75, 25]) k.shape = torch.Size([75, 25])\n"
     ]
    },
    {
     "name": "stderr",
     "output_type": "stream",
     "text": [
      "/home/aritra/project/quartLT23/htorch/quaternion.py:491: UserWarning: Defining your `__torch_function__` as a plain method is deprecated and will be an error in future, please define it as a classmethod. (Triggered internally at ../torch/csrc/utils/python_arg_parser.cpp:350.)\n",
      "  if self.dim() == 1:\n",
      "/home/aritra/project/quartLT23/htorch/quaternion.py:494: UserWarning: Defining your `__torch_function__` as a plain method is deprecated and will be an error in future, please define it as a classmethod. (Triggered internally at ../torch/csrc/utils/python_arg_parser.cpp:350.)\n",
      "  out = self.q[:, :self.shape[1] // 4]\n",
      "/home/aritra/project/quartLT23/htorch/quaternion.py:500: UserWarning: Defining your `__torch_function__` as a plain method is deprecated and will be an error in future, please define it as a classmethod. (Triggered internally at ../torch/csrc/utils/python_arg_parser.cpp:350.)\n",
      "  if self.dim() == 1:\n",
      "/home/aritra/project/quartLT23/htorch/quaternion.py:504: UserWarning: Defining your `__torch_function__` as a plain method is deprecated and will be an error in future, please define it as a classmethod. (Triggered internally at ../torch/csrc/utils/python_arg_parser.cpp:350.)\n",
      "  step = self.shape[1] // 4\n",
      "/home/aritra/project/quartLT23/htorch/quaternion.py:512: UserWarning: Defining your `__torch_function__` as a plain method is deprecated and will be an error in future, please define it as a classmethod. (Triggered internally at ../torch/csrc/utils/python_arg_parser.cpp:350.)\n",
      "  if self.dim() == 1:\n",
      "/home/aritra/project/quartLT23/htorch/quaternion.py:516: UserWarning: Defining your `__torch_function__` as a plain method is deprecated and will be an error in future, please define it as a classmethod. (Triggered internally at ../torch/csrc/utils/python_arg_parser.cpp:350.)\n",
      "  step = self.shape[1] // 4\n",
      "/home/aritra/project/quartLT23/htorch/quaternion.py:524: UserWarning: Defining your `__torch_function__` as a plain method is deprecated and will be an error in future, please define it as a classmethod. (Triggered internally at ../torch/csrc/utils/python_arg_parser.cpp:350.)\n",
      "  if self.dim() == 1:\n",
      "/home/aritra/project/quartLT23/htorch/quaternion.py:528: UserWarning: Defining your `__torch_function__` as a plain method is deprecated and will be an error in future, please define it as a classmethod. (Triggered internally at ../torch/csrc/utils/python_arg_parser.cpp:350.)\n",
      "  step = self.shape[1] // 4\n",
      "/home/aritra/project/quartLT23/htorch/quaternion.py:224: UserWarning: Defining your `__torch_function__` as a plain method is deprecated and will be an error in future, please define it as a classmethod. (Triggered internally at ../torch/csrc/utils/python_arg_parser.cpp:350.)\n",
      "  if other.dim() > 1 and self.dim() > 1:\n",
      "/home/aritra/project/quartLT23/htorch/quaternion.py:225: UserWarning: Defining your `__torch_function__` as a plain method is deprecated and will be an error in future, please define it as a classmethod. (Triggered internally at ../torch/csrc/utils/python_arg_parser.cpp:350.)\n",
      "  if other.shape[1] * 4 == self.shape[1]:\n",
      "/home/aritra/project/quartLT23/htorch/quaternion.py:242: UserWarning: Defining your `__torch_function__` as a plain method is deprecated and will be an error in future, please define it as a classmethod. (Triggered internally at ../torch/csrc/utils/python_arg_parser.cpp:350.)\n",
      "  return torch.Tensor.div(input1, input2)\n",
      "/home/aritra/project/quartLT23/htorch/quaternion.py:678: UserWarning: Defining your `__torch_function__` as a plain method is deprecated and will be an error in future, please define it as a classmethod. (Triggered internally at ../torch/csrc/utils/python_arg_parser.cpp:350.)\n",
      "  return torch.div(self, other)\n",
      "/home/aritra/project/quartLT23/htorch/quaternion.py:466: UserWarning: Defining your `__torch_function__` as a plain method is deprecated and will be an error in future, please define it as a classmethod. (Triggered internally at ../torch/csrc/utils/python_arg_parser.cpp:350.)\n",
      "  return super().__new__(cls, q.cpu(), *args, **kwargs)\n",
      "/home/aritra/project/quartLT23/htorch/quaternion.py:487: UserWarning: Defining your `__torch_function__` as a plain method is deprecated and will be an error in future, please define it as a classmethod. (Triggered internally at ../torch/csrc/utils/python_arg_parser.cpp:350.)\n",
      "  self.q.grad = None\n",
      "/home/aritra/project/quartLT23/htorch/quaternion.py:543: UserWarning: Defining your `__torch_function__` as a plain method is deprecated and will be an error in future, please define it as a classmethod. (Triggered internally at ../torch/csrc/utils/python_arg_parser.cpp:350.)\n",
      "  return func(*args, **kwargs)\n",
      "/home/aritra/project/quartLT23/htorch/quaternion.py:166: UserWarning: Defining your `__torch_function__` as a plain method is deprecated and will be an error in future, please define it as a classmethod. (Triggered internally at ../torch/csrc/utils/python_arg_parser.cpp:350.)\n",
      "  if other.shape[1] * 4 == self.shape[1]:\n",
      "/home/aritra/project/quartLT23/htorch/quaternion.py:183: UserWarning: Defining your `__torch_function__` as a plain method is deprecated and will be an error in future, please define it as a classmethod. (Triggered internally at ../torch/csrc/utils/python_arg_parser.cpp:350.)\n",
      "  return torch.Tensor.mul(input1, input2)\n",
      "/home/aritra/project/quartLT23/htorch/quaternion.py:648: UserWarning: Defining your `__torch_function__` as a plain method is deprecated and will be an error in future, please define it as a classmethod. (Triggered internally at ../torch/csrc/utils/python_arg_parser.cpp:350.)\n",
      "  return torch.mul(self, other)\n",
      "/home/aritra/project/quartLT23/htorch/quaternion.py:90: UserWarning: Defining your `__torch_function__` as a plain method is deprecated and will be an error in future, please define it as a classmethod. (Triggered internally at ../torch/csrc/utils/python_arg_parser.cpp:350.)\n",
      "  if np.prod(self.shape) != 4:\n",
      "/home/aritra/project/quartLT23/htorch/quaternion.py:94: UserWarning: Defining your `__torch_function__` as a plain method is deprecated and will be an error in future, please define it as a classmethod. (Triggered internally at ../torch/csrc/utils/python_arg_parser.cpp:350.)\n",
      "  if other.dim() > 1 and self.dim() > 1:\n",
      "/home/aritra/project/quartLT23/htorch/quaternion.py:95: UserWarning: Defining your `__torch_function__` as a plain method is deprecated and will be an error in future, please define it as a classmethod. (Triggered internally at ../torch/csrc/utils/python_arg_parser.cpp:350.)\n",
      "  if other.shape[1] * 4 == self.shape[1]:\n",
      "/home/aritra/project/quartLT23/htorch/quaternion.py:505: UserWarning: Defining your `__torch_function__` as a plain method is deprecated and will be an error in future, please define it as a classmethod. (Triggered internally at ../torch/csrc/utils/python_arg_parser.cpp:350.)\n",
      "  out = self.q[:, step:step * 2]\n",
      "/home/aritra/project/quartLT23/htorch/quaternion.py:517: UserWarning: Defining your `__torch_function__` as a plain method is deprecated and will be an error in future, please define it as a classmethod. (Triggered internally at ../torch/csrc/utils/python_arg_parser.cpp:350.)\n",
      "  out = self.q[:, step * 2:step * 3]\n",
      "/home/aritra/project/quartLT23/htorch/quaternion.py:529: UserWarning: Defining your `__torch_function__` as a plain method is deprecated and will be an error in future, please define it as a classmethod. (Triggered internally at ../torch/csrc/utils/python_arg_parser.cpp:350.)\n",
      "  out = self.q[:, step * 3:]\n",
      "/home/aritra/project/quartLT23/htorch/quaternion.py:131: UserWarning: Defining your `__torch_function__` as a plain method is deprecated and will be an error in future, please define it as a classmethod. (Triggered internally at ../torch/csrc/utils/python_arg_parser.cpp:350.)\n",
      "  return torch.Tensor.add(input1, input2)\n",
      "/home/aritra/project/quartLT23/htorch/functions.py:49: UserWarning: Defining your `__torch_function__` as a plain method is deprecated and will be an error in future, please define it as a classmethod. (Triggered internally at ../torch/csrc/utils/python_arg_parser.cpp:350.)\n",
      "  mat += r\n"
     ]
    }
   ],
   "source": [
    "class Quat(nn.Module):\n",
    "    def __init__(self):\n",
    "        super().__init__()\n",
    "        self.fc1 = layers.QLinear(196, 75)\n",
    "        self.fc2 = layers.QLinear(75, 25)\n",
    "        self.fc3 = nn.Linear(100, 10)\n",
    "\n",
    "    def forward(self, x):\n",
    "        # x = torch.flatten(x, 1)\n",
    "        x = F.relu(self.fc1(x))\n",
    "        x = F.relu(self.fc2(x))\n",
    "        x = self.fc3(x)\n",
    "        return x\n",
    "model = Quat()\n",
    "model.to(device)\n",
    "optimiser = torch.optim.Adam(model.parameters(), lr=1.2e-3)\n",
    "losses = []\n",
    "trainacc = []\n",
    "testacc =[]"
   ]
  },
  {
   "cell_type": "code",
   "execution_count": 4,
   "metadata": {},
   "outputs": [
    {
     "name": "stderr",
     "output_type": "stream",
     "text": [
      "100%|██████████| 1000/1000 [01:59<00:00,  8.38it/s]\n"
     ]
    }
   ],
   "source": [
    "t_f = 0\n",
    "t_b = 0\n",
    "\n",
    "for epoch in tqdm(range(1000)):\n",
    "    batch_size = 2**13\n",
    "    for i in range(0, len(x), batch_size):\n",
    "        batch_x, batch_y = x[i:i+batch_size], y[i:i+batch_size].float()\n",
    "        optimiser.zero_grad()\n",
    "        t0 = time.time()\n",
    "        output = model(batch_x)\n",
    "        t_f += time.time() - t0\n",
    "        t0 = time.time()\n",
    "        loss = F.mse_loss(output, batch_y)\n",
    "        loss.backward()\n",
    "        t_b += time.time() - t0\n",
    "        optimiser.step()\n",
    "    losses.append(loss.item())"
   ]
  },
  {
   "cell_type": "code",
   "execution_count": 5,
   "metadata": {},
   "outputs": [
    {
     "data": {
      "text/plain": [
       "(41.9013946056366, 60.65592360496521)"
      ]
     },
     "execution_count": 5,
     "metadata": {},
     "output_type": "execute_result"
    }
   ],
   "source": [
    "t_f, t_b"
   ]
  },
  {
   "cell_type": "code",
   "execution_count": 6,
   "metadata": {},
   "outputs": [],
   "source": [
    "# for epoch in tqdm(range(80)):\n",
    "#     batch_size = 60\n",
    "#     for i in range(0, len(x), batch_size):\n",
    "#         batch_x, batch_y = x[i:i+batch_size], y[i:i+batch_size].float()\n",
    "#         optimiser.zero_grad()\n",
    "#         output = model(batch_x)\n",
    "#         loss = F.mse_loss(output, batch_y)\n",
    "#         loss.backward()\n",
    "#         optimiser.step()\n",
    "#     losses.append(loss.item())\n",
    "    \n",
    "#     accuracy = (model(x).argmax(1) == y.argmax(1)).sum().item()/len(x)\n",
    "#     trainacc.append(accuracy)\n",
    "#     # print(f\"Training Accuracy: {accuracy*100:.2f}%\")\n",
    "\n",
    "#     accuracy = (model(x_test).argmax(1) == y_test.argmax(1)).sum().item()/len(x_test)\n",
    "#     # print(f\"Testing Accuracy: {accuracy*100:.2f}%\")\n",
    "#     testacc.append(accuracy)\n",
    "\n",
    "# plt.plot(range(len(trainacc)), trainacc, label='training')\n",
    "# plt.plot(range(len(testacc)), testacc,label = 'testing')\n",
    "# plt.legend()"
   ]
  }
 ],
 "metadata": {
  "kernelspec": {
   "display_name": ".venv",
   "language": "python",
   "name": "python3"
  },
  "language_info": {
   "codemirror_mode": {
    "name": "ipython",
    "version": 3
   },
   "file_extension": ".py",
   "mimetype": "text/x-python",
   "name": "python",
   "nbconvert_exporter": "python",
   "pygments_lexer": "ipython3",
   "version": "3.8.10"
  },
  "orig_nbformat": 4,
  "vscode": {
   "interpreter": {
    "hash": "9811a1b4b320249fa0a982ba121194d0140ee07c8f10e9998a7dff6636dbb876"
   }
  }
 },
 "nbformat": 4,
 "nbformat_minor": 2
}
