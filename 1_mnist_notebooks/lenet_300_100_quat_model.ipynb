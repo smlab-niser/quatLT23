{
 "cells": [
  {
   "cell_type": "code",
   "execution_count": 8,
   "metadata": {},
   "outputs": [],
   "source": [
    "import torch\n",
    "import torch.nn as nn\n",
    "import torch.nn.functional as F\n",
    "import pandas as pd\n",
    "import matplotlib.pyplot as plt\n",
    "from tqdm import tqdm\n",
    "from htorch import layers\n",
    "import time"
   ]
  },
  {
   "cell_type": "code",
   "execution_count": 9,
   "metadata": {},
   "outputs": [],
   "source": [
    "device = torch.device('cuda:0')\n",
    "\n",
    "data = torch.tensor(pd.read_csv(\"../data/mnist/train.csv\", header=None).values)\n",
    "x, y = (data[:, 1:]/255).float().to(device), torch.nn.functional.one_hot(data[:, 0].long(), 10).to(device)\n",
    "\n",
    "test = torch.tensor(pd.read_csv(\"../data/mnist/test.csv\", header=None).values)\n",
    "x_test, y_test = (test[:, 1:]/255).float().to(device), torch.nn.functional.one_hot(test[:, 0].long(), 10).to(device)"
   ]
  },
  {
   "cell_type": "code",
   "execution_count": 10,
   "metadata": {},
   "outputs": [
    {
     "name": "stdout",
     "output_type": "stream",
     "text": [
      "scale = 0.025253813613805267\n",
      "img_mat = tensor([[-0.6225, -0.5411,  0.8826,  ...,  0.8321, -0.1465,  0.8679],\n",
      "        [-0.0258, -0.4183,  0.0636,  ..., -0.9900, -0.5109,  0.8012],\n",
      "        [-0.9756, -0.2107,  0.9083,  ...,  0.2696, -0.8615,  0.9199],\n",
      "        ...,\n",
      "        [ 0.0073,  0.1059, -0.4442,  ...,  0.0609, -0.4269,  0.7132],\n",
      "        [ 0.5318,  0.6477,  0.1903,  ...,  0.4658, -0.1340,  0.0898],\n",
      "        [ 0.1720,  0.2263, -0.9258,  ..., -0.0897, -0.8882,  0.1624]])\n",
      "r.shape = torch.Size([196, 75]) i.shape = torch.Size([196, 75]) j.shape = torch.Size([196, 75]) k.shape = torch.Size([196, 75])\n",
      "scale = 0.040824829046386304\n",
      "img_mat = tensor([[ 0.8831, -0.7245, -0.1785,  ...,  0.2256,  0.9464, -0.9185],\n",
      "        [ 0.8605,  0.5909, -0.9890,  ...,  0.1944, -0.0120, -0.7522],\n",
      "        [ 0.4972,  0.6775, -0.6602,  ..., -0.9762,  0.5818, -0.7686],\n",
      "        ...,\n",
      "        [ 0.4244, -0.1450,  0.1192,  ..., -0.3717, -0.4632, -0.7314],\n",
      "        [-0.8995,  0.2593, -0.9050,  ..., -0.5692, -0.6757,  0.4232],\n",
      "        [-0.5853, -0.2178,  0.6049,  ..., -0.0890,  0.4583,  0.4819]])\n",
      "r.shape = torch.Size([75, 25]) i.shape = torch.Size([75, 25]) j.shape = torch.Size([75, 25]) k.shape = torch.Size([75, 25])\n"
     ]
    },
    {
     "name": "stderr",
     "output_type": "stream",
     "text": [
      "/home/aritra/project/quartLT23/htorch/quaternion.py:491: UserWarning: Defining your `__torch_function__` as a plain method is deprecated and will be an error in future, please define it as a classmethod. (Triggered internally at ../torch/csrc/utils/python_arg_parser.cpp:350.)\n",
      "  if self.dim() == 1:\n",
      "/home/aritra/project/quartLT23/htorch/quaternion.py:494: UserWarning: Defining your `__torch_function__` as a plain method is deprecated and will be an error in future, please define it as a classmethod. (Triggered internally at ../torch/csrc/utils/python_arg_parser.cpp:350.)\n",
      "  out = self.q[:, :self.shape[1] // 4]\n",
      "/home/aritra/project/quartLT23/htorch/quaternion.py:500: UserWarning: Defining your `__torch_function__` as a plain method is deprecated and will be an error in future, please define it as a classmethod. (Triggered internally at ../torch/csrc/utils/python_arg_parser.cpp:350.)\n",
      "  if self.dim() == 1:\n",
      "/home/aritra/project/quartLT23/htorch/quaternion.py:504: UserWarning: Defining your `__torch_function__` as a plain method is deprecated and will be an error in future, please define it as a classmethod. (Triggered internally at ../torch/csrc/utils/python_arg_parser.cpp:350.)\n",
      "  step = self.shape[1] // 4\n",
      "/home/aritra/project/quartLT23/htorch/quaternion.py:512: UserWarning: Defining your `__torch_function__` as a plain method is deprecated and will be an error in future, please define it as a classmethod. (Triggered internally at ../torch/csrc/utils/python_arg_parser.cpp:350.)\n",
      "  if self.dim() == 1:\n",
      "/home/aritra/project/quartLT23/htorch/quaternion.py:516: UserWarning: Defining your `__torch_function__` as a plain method is deprecated and will be an error in future, please define it as a classmethod. (Triggered internally at ../torch/csrc/utils/python_arg_parser.cpp:350.)\n",
      "  step = self.shape[1] // 4\n",
      "/home/aritra/project/quartLT23/htorch/quaternion.py:524: UserWarning: Defining your `__torch_function__` as a plain method is deprecated and will be an error in future, please define it as a classmethod. (Triggered internally at ../torch/csrc/utils/python_arg_parser.cpp:350.)\n",
      "  if self.dim() == 1:\n",
      "/home/aritra/project/quartLT23/htorch/quaternion.py:528: UserWarning: Defining your `__torch_function__` as a plain method is deprecated and will be an error in future, please define it as a classmethod. (Triggered internally at ../torch/csrc/utils/python_arg_parser.cpp:350.)\n",
      "  step = self.shape[1] // 4\n",
      "/home/aritra/project/quartLT23/htorch/quaternion.py:224: UserWarning: Defining your `__torch_function__` as a plain method is deprecated and will be an error in future, please define it as a classmethod. (Triggered internally at ../torch/csrc/utils/python_arg_parser.cpp:350.)\n",
      "  if other.dim() > 1 and self.dim() > 1:\n",
      "/home/aritra/project/quartLT23/htorch/quaternion.py:225: UserWarning: Defining your `__torch_function__` as a plain method is deprecated and will be an error in future, please define it as a classmethod. (Triggered internally at ../torch/csrc/utils/python_arg_parser.cpp:350.)\n",
      "  if other.shape[1] * 4 == self.shape[1]:\n",
      "/home/aritra/project/quartLT23/htorch/quaternion.py:242: UserWarning: Defining your `__torch_function__` as a plain method is deprecated and will be an error in future, please define it as a classmethod. (Triggered internally at ../torch/csrc/utils/python_arg_parser.cpp:350.)\n",
      "  return torch.Tensor.div(input1, input2)\n",
      "/home/aritra/project/quartLT23/htorch/quaternion.py:678: UserWarning: Defining your `__torch_function__` as a plain method is deprecated and will be an error in future, please define it as a classmethod. (Triggered internally at ../torch/csrc/utils/python_arg_parser.cpp:350.)\n",
      "  return torch.div(self, other)\n",
      "/home/aritra/project/quartLT23/htorch/quaternion.py:466: UserWarning: Defining your `__torch_function__` as a plain method is deprecated and will be an error in future, please define it as a classmethod. (Triggered internally at ../torch/csrc/utils/python_arg_parser.cpp:350.)\n",
      "  return super().__new__(cls, q.cpu(), *args, **kwargs)\n",
      "/home/aritra/project/quartLT23/htorch/quaternion.py:487: UserWarning: Defining your `__torch_function__` as a plain method is deprecated and will be an error in future, please define it as a classmethod. (Triggered internally at ../torch/csrc/utils/python_arg_parser.cpp:350.)\n",
      "  self.q.grad = None\n",
      "/home/aritra/project/quartLT23/htorch/quaternion.py:543: UserWarning: Defining your `__torch_function__` as a plain method is deprecated and will be an error in future, please define it as a classmethod. (Triggered internally at ../torch/csrc/utils/python_arg_parser.cpp:350.)\n",
      "  return func(*args, **kwargs)\n",
      "/home/aritra/project/quartLT23/htorch/quaternion.py:166: UserWarning: Defining your `__torch_function__` as a plain method is deprecated and will be an error in future, please define it as a classmethod. (Triggered internally at ../torch/csrc/utils/python_arg_parser.cpp:350.)\n",
      "  if other.shape[1] * 4 == self.shape[1]:\n",
      "/home/aritra/project/quartLT23/htorch/quaternion.py:183: UserWarning: Defining your `__torch_function__` as a plain method is deprecated and will be an error in future, please define it as a classmethod. (Triggered internally at ../torch/csrc/utils/python_arg_parser.cpp:350.)\n",
      "  return torch.Tensor.mul(input1, input2)\n",
      "/home/aritra/project/quartLT23/htorch/quaternion.py:648: UserWarning: Defining your `__torch_function__` as a plain method is deprecated and will be an error in future, please define it as a classmethod. (Triggered internally at ../torch/csrc/utils/python_arg_parser.cpp:350.)\n",
      "  return torch.mul(self, other)\n",
      "/home/aritra/project/quartLT23/htorch/quaternion.py:90: UserWarning: Defining your `__torch_function__` as a plain method is deprecated and will be an error in future, please define it as a classmethod. (Triggered internally at ../torch/csrc/utils/python_arg_parser.cpp:350.)\n",
      "  if np.prod(self.shape) != 4:\n",
      "/home/aritra/project/quartLT23/htorch/quaternion.py:94: UserWarning: Defining your `__torch_function__` as a plain method is deprecated and will be an error in future, please define it as a classmethod. (Triggered internally at ../torch/csrc/utils/python_arg_parser.cpp:350.)\n",
      "  if other.dim() > 1 and self.dim() > 1:\n",
      "/home/aritra/project/quartLT23/htorch/quaternion.py:95: UserWarning: Defining your `__torch_function__` as a plain method is deprecated and will be an error in future, please define it as a classmethod. (Triggered internally at ../torch/csrc/utils/python_arg_parser.cpp:350.)\n",
      "  if other.shape[1] * 4 == self.shape[1]:\n",
      "/home/aritra/project/quartLT23/htorch/quaternion.py:505: UserWarning: Defining your `__torch_function__` as a plain method is deprecated and will be an error in future, please define it as a classmethod. (Triggered internally at ../torch/csrc/utils/python_arg_parser.cpp:350.)\n",
      "  out = self.q[:, step:step * 2]\n",
      "/home/aritra/project/quartLT23/htorch/quaternion.py:517: UserWarning: Defining your `__torch_function__` as a plain method is deprecated and will be an error in future, please define it as a classmethod. (Triggered internally at ../torch/csrc/utils/python_arg_parser.cpp:350.)\n",
      "  out = self.q[:, step * 2:step * 3]\n",
      "/home/aritra/project/quartLT23/htorch/quaternion.py:529: UserWarning: Defining your `__torch_function__` as a plain method is deprecated and will be an error in future, please define it as a classmethod. (Triggered internally at ../torch/csrc/utils/python_arg_parser.cpp:350.)\n",
      "  out = self.q[:, step * 3:]\n",
      "/home/aritra/project/quartLT23/htorch/quaternion.py:131: UserWarning: Defining your `__torch_function__` as a plain method is deprecated and will be an error in future, please define it as a classmethod. (Triggered internally at ../torch/csrc/utils/python_arg_parser.cpp:350.)\n",
      "  return torch.Tensor.add(input1, input2)\n",
      "/home/aritra/project/quartLT23/htorch/functions.py:49: UserWarning: Defining your `__torch_function__` as a plain method is deprecated and will be an error in future, please define it as a classmethod. (Triggered internally at ../torch/csrc/utils/python_arg_parser.cpp:350.)\n",
      "  mat += r\n"
     ]
    }
   ],
   "source": [
    "class Quat(nn.Module):\n",
    "    def __init__(self):\n",
    "        super().__init__()\n",
    "        self.fc1 = layers.QLinear(196, 75)\n",
    "        self.fc2 = layers.QLinear(75, 25)\n",
    "        self.fc3 = nn.Linear(100, 10)\n",
    "\n",
    "    def forward(self, x):\n",
    "        # x = torch.flatten(x, 1)\n",
    "        x = F.relu(self.fc1(x))\n",
    "        x = F.relu(self.fc2(x))\n",
    "        x = self.fc3(x)\n",
    "        return x\n",
    "model = Quat()\n",
    "model.to(device)\n",
    "optimiser = torch.optim.Adam(model.parameters(), lr=1.2e-3)\n",
    "losses = []\n",
    "trainacc = []\n",
    "testacc =[]"
   ]
  },
  {
   "cell_type": "code",
   "execution_count": 11,
   "metadata": {},
   "outputs": [
    {
     "name": "stderr",
     "output_type": "stream",
     "text": [
      "100%|██████████| 1000/1000 [00:24<00:00, 40.60it/s]\n"
     ]
    },
    {
     "data": {
      "text/plain": [
       "(17.512548446655273, 3.4841349124908447)"
      ]
     },
     "execution_count": 11,
     "metadata": {},
     "output_type": "execute_result"
    }
   ],
   "source": [
    "t_f = 0\n",
    "t_b = 0\n",
    "\n",
    "for epoch in tqdm(range(1000)):\n",
    "    batch_size = 2**13\n",
    "    for i in range(0, len(x), batch_size):\n",
    "        batch_x, batch_y = x[i:i+batch_size], y[i:i+batch_size].float()\n",
    "        optimiser.zero_grad()\n",
    "        t0 = time.time()\n",
    "        output = model(batch_x)\n",
    "        t_f += time.time() - t0\n",
    "        t0 = time.time()\n",
    "        loss = F.mse_loss(output, batch_y)\n",
    "        loss.backward()\n",
    "        t_b += time.time() - t0\n",
    "        optimiser.step()\n",
    "    losses.append(loss.item())\n",
    "t_f, t_b"
   ]
  },
  {
   "cell_type": "code",
   "execution_count": 12,
   "metadata": {},
   "outputs": [
    {
     "name": "stdout",
     "output_type": "stream",
     "text": [
      "Training Accuracy: 99.92%\n",
      "Testing Accuracy: 97.55%\n"
     ]
    },
    {
     "data": {
      "text/plain": [
       "[<matplotlib.lines.Line2D at 0x7f4065200d00>]"
      ]
     },
     "execution_count": 12,
     "metadata": {},
     "output_type": "execute_result"
    },
    {
     "data": {
      "image/png": "[encoded data removed]",
      "text/plain": [
       "<Figure size 640x480 with 1 Axes>"
      ]
     },
     "metadata": {},
     "output_type": "display_data"
    }
   ],
   "source": [
    "accuracy = (model(x).argmax(1) == y.argmax(1)).sum().item()/len(x)\n",
    "print(f\"Training Accuracy: {accuracy*100:.2f}%\")\n",
    "\n",
    "accuracy = (model(x_test).argmax(1) == y_test.argmax(1)).sum().item()/len(x_test)\n",
    "print(f\"Testing Accuracy: {accuracy*100:.2f}%\")\n",
    "\n",
    "plt.plot(range(len(losses)), losses)"
   ]
  },
  {
   "cell_type": "code",
   "execution_count": 13,
   "metadata": {},
   "outputs": [],
   "source": [
    "# for epoch in tqdm(range(80)):\n",
    "#     batch_size = 60\n",
    "#     for i in range(0, len(x), batch_size):\n",
    "#         batch_x, batch_y = x[i:i+batch_size], y[i:i+batch_size].float()\n",
    "#         optimiser.zero_grad()\n",
    "#         output = model(batch_x)\n",
    "#         loss = F.mse_loss(output, batch_y)\n",
    "#         loss.backward()\n",
    "#         optimiser.step()\n",
    "#     losses.append(loss.item())\n",
    "    \n",
    "#     accuracy = (model(x).argmax(1) == y.argmax(1)).sum().item()/len(x)\n",
    "#     trainacc.append(accuracy)\n",
    "#     # print(f\"Training Accuracy: {accuracy*100:.2f}%\")\n",
    "\n",
    "#     accuracy = (model(x_test).argmax(1) == y_test.argmax(1)).sum().item()/len(x_test)\n",
    "#     # print(f\"Testing Accuracy: {accuracy*100:.2f}%\")\n",
    "#     testacc.append(accuracy)\n",
    "\n",
    "# plt.plot(range(len(trainacc)), trainacc, label='training')\n",
    "# plt.plot(range(len(testacc)), testacc,label = 'testing')\n",
    "# plt.legend()"
   ]
  }
 ],
 "metadata": {
  "kernelspec": {
   "display_name": ".venv",
   "language": "python",
   "name": "python3"
  },
  "language_info": {
   "codemirror_mode": {
    "name": "ipython",
    "version": 3
   },
   "file_extension": ".py",
   "mimetype": "text/x-python",
   "name": "python",
   "nbconvert_exporter": "python",
   "pygments_lexer": "ipython3",
   "version": "3.10.6"
  },
  "orig_nbformat": 4,
  "vscode": {
   "interpreter": {
    "hash": "9811a1b4b320249fa0a982ba121194d0140ee07c8f10e9998a7dff6636dbb876"
   }
  }
 },
 "nbformat": 4,
 "nbformat_minor": 2
}
