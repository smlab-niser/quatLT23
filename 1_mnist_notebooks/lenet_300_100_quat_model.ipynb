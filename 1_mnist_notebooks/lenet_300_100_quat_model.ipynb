{
 "cells": [
  {
   "cell_type": "code",
   "execution_count": null,
   "metadata": {},
   "outputs": [],
   "source": [
    "import torch\n",
    "import torch.nn as nn\n",
    "import torch.nn.functional as F\n",
    "import pandas as pd\n",
    "import matplotlib.pyplot as plt\n",
    "from tqdm import tqdm\n",
    "from htorch import layers\n",
    "import time"
   ]
  },
  {
   "cell_type": "code",
   "execution_count": null,
   "metadata": {},
   "outputs": [],
   "source": [
    "device = torch.device('cuda:0')\n",
    "\n",
    "data = torch.tensor(pd.read_csv(\"../data/mnist/train.csv\", header=None).values)\n",
    "x, y = (data[:, 1:]/255).float().to(device), torch.nn.functional.one_hot(data[:, 0].long(), 10).to(device)\n",
    "\n",
    "test = torch.tensor(pd.read_csv(\"../data/mnist/test.csv\", header=None).values)\n",
    "x_test, y_test = (test[:, 1:]/255).float().to(device), torch.nn.functional.one_hot(test[:, 0].long(), 10).to(device)"
   ]
  },
  {
   "cell_type": "code",
   "execution_count": null,
   "metadata": {},
   "outputs": [],
   "source": [
    "class Quat(nn.Module):\n",
    "    def __init__(self):\n",
    "        super().__init__()\n",
    "        self.fc1 = layers.QLinear(196, 75)\n",
    "        self.fc2 = layers.QLinear(75, 25)\n",
    "        self.fc3 = nn.Linear(100, 10)\n",
    "\n",
    "    def forward(self, x):\n",
    "        x = F.relu(self.fc1(x))\n",
    "        x = F.relu(self.fc2(x))\n",
    "        x = self.fc3(x)\n",
    "        return x\n",
    "        # # comment above parts and uncomment \n",
    "        # # below while time profiling\n",
    "        # t = 0\n",
    "        # # x = torch.flatten(x, 1)\n",
    "        # x, tp = self.fc1(x)\n",
    "        # t += tp\n",
    "        # x = F.relu(x)\n",
    "        # x, tp = self.fc2(x)\n",
    "        # t += tp\n",
    "        # x = F.relu(x)\n",
    "        # x = self.fc3(x)\n",
    "        # return x, t\n",
    "model = Quat()\n",
    "model.to(device)\n",
    "optimiser = torch.optim.Adam(model.parameters(), lr=1.2e-3)\n",
    "losses = []\n",
    "trainacc = []\n",
    "testacc =[]"
   ]
  },
  {
   "cell_type": "code",
   "execution_count": null,
   "metadata": {},
   "outputs": [],
   "source": [
    "t_f = 0\n",
    "t_b = 0\n",
    "t_h = 0\n",
    "\n",
    "for epoch in tqdm(range(1000)):\n",
    "    batch_size = 2**13\n",
    "    for i in range(0, len(x), batch_size):\n",
    "        batch_x, batch_y = x[i:i+batch_size], y[i:i+batch_size].float()\n",
    "        optimiser.zero_grad()\n",
    "        \n",
    "        t0 = time.time()\n",
    "        output, t = model(batch_x)\n",
    "        t_h += t\n",
    "        t_f += time.time() - t0\n",
    "        \n",
    "        t0 = time.time()\n",
    "        loss = F.mse_loss(output, batch_y)\n",
    "        loss.backward()\n",
    "        t_b += time.time() - t0\n",
    "        \n",
    "        optimiser.step()\n",
    "    losses.append(loss.item())\n",
    "t_f, t_h, t_b"
   ]
  },
  {
   "cell_type": "code",
   "execution_count": null,
   "metadata": {},
   "outputs": [],
   "source": [
    "accuracy = (model(x)[0].argmax(1) == y.argmax(1)).sum().item()/len(x)\n",
    "print(f\"Training Accuracy: {accuracy*100:.2f}%\")\n",
    "\n",
    "accuracy = (model(x_test)[0].argmax(1) == y_test.argmax(1)).sum().item()/len(x_test)\n",
    "print(f\"Testing Accuracy: {accuracy*100:.2f}%\")\n",
    "\n",
    "plt.plot(range(len(losses)), losses)"
   ]
  },
  {
   "cell_type": "code",
   "execution_count": null,
   "metadata": {},
   "outputs": [],
   "source": [
    "# for epoch in tqdm(range(80)):\n",
    "#     batch_size = 60\n",
    "#     for i in range(0, len(x), batch_size):\n",
    "#         batch_x, batch_y = x[i:i+batch_size], y[i:i+batch_size].float()\n",
    "#         optimiser.zero_grad()\n",
    "#         output = model(batch_x)\n",
    "#         loss = F.mse_loss(output, batch_y)\n",
    "#         loss.backward()\n",
    "#         optimiser.step()\n",
    "#     losses.append(loss.item())\n",
    "    \n",
    "#     accuracy = (model(x).argmax(1) == y.argmax(1)).sum().item()/len(x)\n",
    "#     trainacc.append(accuracy)\n",
    "#     # print(f\"Training Accuracy: {accuracy*100:.2f}%\")\n",
    "\n",
    "#     accuracy = (model(x_test).argmax(1) == y_test.argmax(1)).sum().item()/len(x_test)\n",
    "#     # print(f\"Testing Accuracy: {accuracy*100:.2f}%\")\n",
    "#     testacc.append(accuracy)\n",
    "\n",
    "# plt.plot(range(len(trainacc)), trainacc, label='training')\n",
    "# plt.plot(range(len(testacc)), testacc,label = 'testing')\n",
    "# plt.legend()"
   ]
  }
 ],
 "metadata": {
  "kernelspec": {
   "display_name": ".venv",
   "language": "python",
   "name": "python3"
  },
  "language_info": {
   "codemirror_mode": {
    "name": "ipython",
    "version": 3
   },
   "file_extension": ".py",
   "mimetype": "text/x-python",
   "name": "python",
   "nbconvert_exporter": "python",
   "pygments_lexer": "ipython3",
   "version": "3.10.6"
  },
  "orig_nbformat": 4,
  "vscode": {
   "interpreter": {
    "hash": "9811a1b4b320249fa0a982ba121194d0140ee07c8f10e9998a7dff6636dbb876"
   }
  }
 },
 "nbformat": 4,
 "nbformat_minor": 2
}
