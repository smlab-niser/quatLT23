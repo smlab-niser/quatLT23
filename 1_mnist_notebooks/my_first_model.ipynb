{
 "cells": [
  {
   "cell_type": "code",
   "execution_count": 1,
   "metadata": {},
   "outputs": [],
   "source": [
    "import torch\n",
    "import torch.nn as nn\n",
    "import torch.nn.functional as F\n",
    "import pandas as pd\n",
    "import matplotlib.pyplot as plt\n",
    "from tqdm import tqdm\n",
    "import numpy as np\n",
    "import time"
   ]
  },
  {
   "cell_type": "code",
   "execution_count": 2,
   "metadata": {},
   "outputs": [],
   "source": [
    "a = np.array([\n",
    "    [1, 2, 3],\n",
    "    [4, 5, 6],\n",
    "    [7, 8, 9]\n",
    "])"
   ]
  },
  {
   "cell_type": "code",
   "execution_count": 3,
   "metadata": {},
   "outputs": [
    {
     "data": {
      "text/plain": [
       "array([1, 2, 3, 4, 5, 6, 7, 8, 9])"
      ]
     },
     "execution_count": 3,
     "metadata": {},
     "output_type": "execute_result"
    }
   ],
   "source": [
    "a.flatten()"
   ]
  },
  {
   "cell_type": "code",
   "execution_count": 4,
   "metadata": {},
   "outputs": [
    {
     "data": {
      "text/plain": [
       "array([[1],\n",
       "       [4],\n",
       "       [7]])"
      ]
     },
     "execution_count": 4,
     "metadata": {},
     "output_type": "execute_result"
    }
   ],
   "source": [
    "a[:, :1]"
   ]
  },
  {
   "cell_type": "code",
   "execution_count": 5,
   "metadata": {},
   "outputs": [],
   "source": [
    "device = torch.device('cuda:0')\n",
    "\n",
    "data = torch.tensor(pd.read_csv(\"../data/mnist/train.csv\", header=None).values)\n",
    "x, y = (data[:, 1:]/255).float().to(device), torch.nn.functional.one_hot(data[:, 0].long(), 10).to(device)\n",
    "\n",
    "test = torch.tensor(pd.read_csv(\"../data/mnist/test.csv\", header=None).values)\n",
    "x_test, y_test = (test[:, 1:]/255).float().to(device), torch.nn.functional.one_hot(test[:, 0].long(), 10).to(device)"
   ]
  },
  {
   "cell_type": "code",
   "execution_count": 6,
   "metadata": {},
   "outputs": [],
   "source": [
    "class Real(nn.Module): \n",
    "    def __init__(self):\n",
    "        super().__init__()\n",
    "        self.fc1 = nn.Linear(784, 300)\n",
    "        self.fc2 = nn.Linear(300, 100)\n",
    "        self.fc4 = nn.Linear(100, 10)\n",
    "\n",
    "    def forward(self, x):\n",
    "        x = F.relu(self.fc1(x))\n",
    "        x = F.relu(self.fc2(x))\n",
    "        x = self.fc4(x)\n",
    "        return x\n",
    "model = Real()\n",
    "model.to(device)\n",
    "optimiser = torch.optim.Adam(model.parameters(), lr=1.2e-3)\n",
    "losses = []"
   ]
  },
  {
   "cell_type": "code",
   "execution_count": 7,
   "metadata": {},
   "outputs": [],
   "source": [
    "# for epoch in tqdm(range(1000)):\n",
    "#     batch_size = 2**13\n",
    "#     for i in range(0, len(x), batch_size):\n",
    "#         batch_x, batch_y = x[i:i+batch_size], y[i:i+batch_size].float()\n",
    "#         optimiser.zero_grad()\n",
    "#         output = model(batch_x)\n",
    "#         loss = F.mse_loss(output, batch_y)\n",
    "#         loss.backward()\n",
    "#         optimiser.step()\n",
    "#     losses.append(loss.item())"
   ]
  },
  {
   "cell_type": "code",
   "execution_count": 8,
   "metadata": {},
   "outputs": [
    {
     "name": "stderr",
     "output_type": "stream",
     "text": [
      "100%|██████████| 1000/1000 [00:13<00:00, 72.37it/s]\n"
     ]
    },
    {
     "data": {
      "text/plain": [
       "(1.2352557182312012, 2.00761342048645)"
      ]
     },
     "execution_count": 8,
     "metadata": {},
     "output_type": "execute_result"
    }
   ],
   "source": [
    "t_f = 0\n",
    "t_b = 0\n",
    "\n",
    "for epoch in tqdm(range(1000)):\n",
    "    batch_size = 2**13\n",
    "    for i in range(0, len(x), batch_size):\n",
    "        batch_x, batch_y = x[i:i+batch_size], y[i:i+batch_size].float()\n",
    "        optimiser.zero_grad()\n",
    "        # t0 = time.time()\n",
    "        output = model(batch_x)\n",
    "        # t_f += time.time() - t0\n",
    "        # t0 = time.time()\n",
    "        loss = F.mse_loss(output, batch_y)\n",
    "        loss.backward()\n",
    "        # t_b += time.time() - t0\n",
    "        optimiser.step()\n",
    "    losses.append(loss.item())\n",
    "t_f, t_b"
   ]
  },
  {
   "cell_type": "code",
   "execution_count": 9,
   "metadata": {},
   "outputs": [
    {
     "name": "stdout",
     "output_type": "stream",
     "text": [
      "Training Accuracy: 100.00%\n",
      "Testing Accuracy: 97.86%\n"
     ]
    },
    {
     "data": {
      "text/plain": [
       "[<matplotlib.lines.Line2D at 0x7fe72bc5b580>]"
      ]
     },
     "execution_count": 9,
     "metadata": {},
     "output_type": "execute_result"
    },
    {
     "data": {
      "image/png": "[encoded data removed]",
      "text/plain": [
       "<Figure size 640x480 with 1 Axes>"
      ]
     },
     "metadata": {},
     "output_type": "display_data"
    }
   ],
   "source": [
    "accuracy = (model(x).argmax(1) == y.argmax(1)).sum().item()/len(x)\n",
    "print(f\"Training Accuracy: {accuracy*100:.2f}%\")\n",
    "\n",
    "accuracy = (model(x_test).argmax(1) == y_test.argmax(1)).sum().item()/len(x_test)\n",
    "print(f\"Testing Accuracy: {accuracy*100:.2f}%\")\n",
    "\n",
    "plt.plot(range(len(losses)), losses)"
   ]
  }
 ],
 "metadata": {
  "kernelspec": {
   "display_name": "Python 3 (ipykernel)",
   "language": "python",
   "name": "python3"
  },
  "language_info": {
   "codemirror_mode": {
    "name": "ipython",
    "version": 3
   },
   "file_extension": ".py",
   "mimetype": "text/x-python",
   "name": "python",
   "nbconvert_exporter": "python",
   "pygments_lexer": "ipython3",
   "version": "3.10.6"
  },
  "orig_nbformat": 4,
  "vscode": {
   "interpreter": {
    "hash": "9811a1b4b320249fa0a982ba121194d0140ee07c8f10e9998a7dff6636dbb876"
   }
  }
 },
 "nbformat": 4,
 "nbformat_minor": 2
}
